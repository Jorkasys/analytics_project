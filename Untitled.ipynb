{
 "cells": [
  {
   "cell_type": "markdown",
   "id": "12facdda-77b8-4933-a3f1-831848c5a0e7",
   "metadata": {},
   "source": [
    "# Research Project on Indian Real Estate"
   ]
  },
  {
   "cell_type": "markdown",
   "id": "ca4e7083-55ec-4097-9c01-f7f504991745",
   "metadata": {},
   "source": [
    "# Stage 2"
   ]
  },
  {
   "cell_type": "markdown",
   "id": "777dee1f-91b6-4d89-953f-2acbdf747d23",
   "metadata": {},
   "source": [
    "## Step 1"
   ]
  },
  {
   "cell_type": "markdown",
   "id": "97267887-135a-4f33-ba1f-1cd84481792f",
   "metadata": {},
   "source": [
    "### Getting to know the data."
   ]
  },
  {
   "cell_type": "code",
   "execution_count": 1,
   "id": "b22d3ae0-1a51-4630-b3d8-6230621b1562",
   "metadata": {},
   "outputs": [],
   "source": [
    "import pandas as pd\n",
    "import numpy as np\n",
    "import matplotlib.pyplot as plt\n",
    "from scipy import stats\n",
    "import seaborn as sns\n",
    "from sklearn.model_selection import train_test_split\n",
    "from sklearn.metrics import mean_squared_error\n",
    "from sklearn.metrics import accuracy_score\n",
    "from sklearn.linear_model import LogisticRegression\n",
    "from sklearn.linear_model import LinearRegression\n",
    "from sklearn.metrics import r2_score"
   ]
  },
  {
   "cell_type": "code",
   "execution_count": 2,
   "id": "466ce0fe-6c50-4cc5-8abf-9b13fb5138d1",
   "metadata": {},
   "outputs": [],
   "source": [
    "data = pd.read_csv(\"IndianHouses.csv\")"
   ]
  },
  {
   "cell_type": "code",
   "execution_count": 3,
   "id": "f1d535f5-3e66-4b65-bb1b-6901c3e5bb0a",
   "metadata": {},
   "outputs": [
    {
     "data": {
      "text/html": [
       "<div>\n",
       "<style scoped>\n",
       "    .dataframe tbody tr th:only-of-type {\n",
       "        vertical-align: middle;\n",
       "    }\n",
       "\n",
       "    .dataframe tbody tr th {\n",
       "        vertical-align: top;\n",
       "    }\n",
       "\n",
       "    .dataframe thead th {\n",
       "        text-align: right;\n",
       "    }\n",
       "</style>\n",
       "<table border=\"1\" class=\"dataframe\">\n",
       "  <thead>\n",
       "    <tr style=\"text-align: right;\">\n",
       "      <th></th>\n",
       "      <th>Area</th>\n",
       "      <th>BHK</th>\n",
       "      <th>Bathroom</th>\n",
       "      <th>Furnishing</th>\n",
       "      <th>Locality</th>\n",
       "      <th>Parking</th>\n",
       "      <th>Price</th>\n",
       "      <th>Status</th>\n",
       "      <th>Transaction</th>\n",
       "      <th>Type</th>\n",
       "      <th>Per_Sqft</th>\n",
       "    </tr>\n",
       "  </thead>\n",
       "  <tbody>\n",
       "    <tr>\n",
       "      <th>0</th>\n",
       "      <td>800.0</td>\n",
       "      <td>3</td>\n",
       "      <td>2.0</td>\n",
       "      <td>Semi-Furnished</td>\n",
       "      <td>Rohini Sector 25</td>\n",
       "      <td>1.0</td>\n",
       "      <td>6500000</td>\n",
       "      <td>Ready_to_move</td>\n",
       "      <td>New_Property</td>\n",
       "      <td>Builder_Floor</td>\n",
       "      <td>NaN</td>\n",
       "    </tr>\n",
       "    <tr>\n",
       "      <th>1</th>\n",
       "      <td>750.0</td>\n",
       "      <td>2</td>\n",
       "      <td>2.0</td>\n",
       "      <td>Semi-Furnished</td>\n",
       "      <td>J R Designers Floors, Rohini Sector 24</td>\n",
       "      <td>1.0</td>\n",
       "      <td>5000000</td>\n",
       "      <td>Ready_to_move</td>\n",
       "      <td>New_Property</td>\n",
       "      <td>Apartment</td>\n",
       "      <td>6667.0</td>\n",
       "    </tr>\n",
       "    <tr>\n",
       "      <th>2</th>\n",
       "      <td>950.0</td>\n",
       "      <td>2</td>\n",
       "      <td>2.0</td>\n",
       "      <td>Furnished</td>\n",
       "      <td>Citizen Apartment, Rohini Sector 13</td>\n",
       "      <td>1.0</td>\n",
       "      <td>15500000</td>\n",
       "      <td>Ready_to_move</td>\n",
       "      <td>Resale</td>\n",
       "      <td>Apartment</td>\n",
       "      <td>6667.0</td>\n",
       "    </tr>\n",
       "    <tr>\n",
       "      <th>3</th>\n",
       "      <td>600.0</td>\n",
       "      <td>2</td>\n",
       "      <td>2.0</td>\n",
       "      <td>Semi-Furnished</td>\n",
       "      <td>Rohini Sector 24</td>\n",
       "      <td>1.0</td>\n",
       "      <td>4200000</td>\n",
       "      <td>Ready_to_move</td>\n",
       "      <td>Resale</td>\n",
       "      <td>Builder_Floor</td>\n",
       "      <td>6667.0</td>\n",
       "    </tr>\n",
       "    <tr>\n",
       "      <th>4</th>\n",
       "      <td>650.0</td>\n",
       "      <td>2</td>\n",
       "      <td>2.0</td>\n",
       "      <td>Semi-Furnished</td>\n",
       "      <td>Rohini Sector 24 carpet area 650 sqft status R...</td>\n",
       "      <td>1.0</td>\n",
       "      <td>6200000</td>\n",
       "      <td>Ready_to_move</td>\n",
       "      <td>New_Property</td>\n",
       "      <td>Builder_Floor</td>\n",
       "      <td>6667.0</td>\n",
       "    </tr>\n",
       "  </tbody>\n",
       "</table>\n",
       "</div>"
      ],
      "text/plain": [
       "    Area  BHK  Bathroom      Furnishing  \\\n",
       "0  800.0    3       2.0  Semi-Furnished   \n",
       "1  750.0    2       2.0  Semi-Furnished   \n",
       "2  950.0    2       2.0       Furnished   \n",
       "3  600.0    2       2.0  Semi-Furnished   \n",
       "4  650.0    2       2.0  Semi-Furnished   \n",
       "\n",
       "                                            Locality  Parking     Price  \\\n",
       "0                                   Rohini Sector 25      1.0   6500000   \n",
       "1             J R Designers Floors, Rohini Sector 24      1.0   5000000   \n",
       "2                Citizen Apartment, Rohini Sector 13      1.0  15500000   \n",
       "3                                   Rohini Sector 24      1.0   4200000   \n",
       "4  Rohini Sector 24 carpet area 650 sqft status R...      1.0   6200000   \n",
       "\n",
       "          Status   Transaction           Type  Per_Sqft  \n",
       "0  Ready_to_move  New_Property  Builder_Floor       NaN  \n",
       "1  Ready_to_move  New_Property      Apartment    6667.0  \n",
       "2  Ready_to_move        Resale      Apartment    6667.0  \n",
       "3  Ready_to_move        Resale  Builder_Floor    6667.0  \n",
       "4  Ready_to_move  New_Property  Builder_Floor    6667.0  "
      ]
     },
     "metadata": {},
     "output_type": "display_data"
    }
   ],
   "source": [
    "display(data.head())"
   ]
  },
  {
   "cell_type": "markdown",
   "id": "0958efcd-d691-4906-b57c-ea5d013d5617",
   "metadata": {},
   "source": [
    "## About the dataset"
   ]
  },
  {
   "cell_type": "markdown",
   "id": "f11113ea-670e-4a20-8dad-cdb7b6e82e32",
   "metadata": {},
   "source": [
    "There is a database of Indian real estate.\n",
    "\n",
    "Date source: (https://www.kaggle.com/datasets/aemyjutt/indianhousesdataanalysis).\n",
    "\n",
    "Here we see quantitative, nominal, binary and ordinal variables.\n",
    "\n",
    "### Short description of columns:\n",
    "\n",
    "- Area\n",
    "\n",
    "It contains the area of the object.    type:quantitative(continuous)\n",
    "\n",
    "- BHK(Bedroom,kitchen,House)\n",
    "\n",
    "It contains the number of Bedroom & kitchen rooms in the house.    type:quantitative(discrete)\n",
    "\n",
    "- Bathroom\n",
    "\n",
    "It contains the number of Bathroom rooms.    type:quantitative(discrete)\n",
    "\n",
    "- Furnishing\n",
    "\n",
    "It contains the type of Furnishing of the object.    type:categorical(ordinal)\n",
    "\n",
    "- Locality\n",
    "\n",
    "It contains the adress of the object.    type:categorical(nominal)\n",
    "\n",
    "- Parking\n",
    " \n",
    "It contains the number of parking zones.    type:quantitative(discrete)\n",
    "\n",
    "- Price\n",
    "\n",
    "It contains the price of the object.    type:quantitative(continuous)\n",
    "\n",
    "- Status\n",
    "\n",
    "It contains the condition of the property for occupancy.    type:binary\n",
    "\n",
    "- Transaction\n",
    "\n",
    "It contains the information about the existence of transactions for this object.    type:binary\n",
    "\n",
    "- Type\n",
    "\n",
    "It contains the type of the building.    type:categorical(ordinal)\n",
    "\n",
    "- Per_Sqft\n",
    "\n",
    "It contains: area value in square feet.    type:quantitative(continuous)"
   ]
  },
  {
   "cell_type": "markdown",
   "id": "b6c9b240-a70e-46b1-b739-6a3766beea2d",
   "metadata": {},
   "source": [
    "## Step 2"
   ]
  },
  {
   "cell_type": "markdown",
   "id": "4ea74c34-93a1-4ff1-a28e-fcb20b526b3b",
   "metadata": {},
   "source": [
    "### Filtering the data"
   ]
  },
  {
   "cell_type": "code",
   "execution_count": 4,
   "id": "6febc93a-5ad5-45cf-9cd8-473ce0a78f72",
   "metadata": {},
   "outputs": [
    {
     "data": {
      "text/plain": [
       "104"
      ]
     },
     "metadata": {},
     "output_type": "display_data"
    }
   ],
   "source": [
    "data_af = data.query('Type == \"Apartment\" & Furnishing == \"Furnished\"')\n",
    "display(data_af['Type'].count())"
   ]
  },
  {
   "cell_type": "code",
   "execution_count": 53,
   "id": "b7f573c7-8907-434b-93f7-bba7e36c1548",
   "metadata": {},
   "outputs": [
    {
     "data": {
      "text/plain": [
       "0                                        Rohini Sector 25\n",
       "1                  J R Designers Floors, Rohini Sector 24\n",
       "2                     Citizen Apartment, Rohini Sector 13\n",
       "3                                        Rohini Sector 24\n",
       "4       Rohini Sector 24 carpet area 650 sqft status R...\n",
       "                              ...                        \n",
       "1231                                    Chittaranjan Park\n",
       "1238    Chittaranjan Park carpet area 1200 sqft status...\n",
       "1241    Chittaranjan Park carpet area 270 sqyrd status...\n",
       "1244                               Nehru Enclave, Kalkaji\n",
       "1257                            Chittaranjan Park Block A\n",
       "Name: Locality, Length: 337, dtype: object"
      ]
     },
     "execution_count": 53,
     "metadata": {},
     "output_type": "execute_result"
    }
   ],
   "source": [
    "data['Locality'].drop_duplicates()"
   ]
  },
  {
   "cell_type": "markdown",
   "id": "688bc76c-372e-4d91-9843-cf129f5dd2b4",
   "metadata": {},
   "source": [
    "Using filter, we found number of Apartments that have furnish."
   ]
  },
  {
   "cell_type": "code",
   "execution_count": 6,
   "id": "366c2f36-ab8f-41ee-8112-7734e73779a7",
   "metadata": {},
   "outputs": [
    {
     "data": {
      "text/html": [
       "<div>\n",
       "<style scoped>\n",
       "    .dataframe tbody tr th:only-of-type {\n",
       "        vertical-align: middle;\n",
       "    }\n",
       "\n",
       "    .dataframe tbody tr th {\n",
       "        vertical-align: top;\n",
       "    }\n",
       "\n",
       "    .dataframe thead th {\n",
       "        text-align: right;\n",
       "    }\n",
       "</style>\n",
       "<table border=\"1\" class=\"dataframe\">\n",
       "  <thead>\n",
       "    <tr style=\"text-align: right;\">\n",
       "      <th></th>\n",
       "      <th>Area</th>\n",
       "      <th>BHK</th>\n",
       "      <th>Bathroom</th>\n",
       "      <th>Furnishing</th>\n",
       "      <th>Locality</th>\n",
       "      <th>Parking</th>\n",
       "      <th>Price</th>\n",
       "      <th>Status</th>\n",
       "      <th>Transaction</th>\n",
       "      <th>Type</th>\n",
       "      <th>Per_Sqft</th>\n",
       "    </tr>\n",
       "  </thead>\n",
       "  <tbody>\n",
       "    <tr>\n",
       "      <th>67</th>\n",
       "      <td>700.0</td>\n",
       "      <td>2</td>\n",
       "      <td>1.0</td>\n",
       "      <td>Semi-Furnished</td>\n",
       "      <td>MTNL Employees House Welfare Society, Dwarka S...</td>\n",
       "      <td>1.0</td>\n",
       "      <td>2400000</td>\n",
       "      <td>Almost_ready</td>\n",
       "      <td>New_Property</td>\n",
       "      <td>Apartment</td>\n",
       "      <td>3524.0</td>\n",
       "    </tr>\n",
       "    <tr>\n",
       "      <th>229</th>\n",
       "      <td>850.0</td>\n",
       "      <td>2</td>\n",
       "      <td>2.0</td>\n",
       "      <td>Semi-Furnished</td>\n",
       "      <td>Diamond Heights Multi Estate, Najafgarh</td>\n",
       "      <td>1.0</td>\n",
       "      <td>2940000</td>\n",
       "      <td>Almost_ready</td>\n",
       "      <td>New_Property</td>\n",
       "      <td>Apartment</td>\n",
       "      <td>24718.0</td>\n",
       "    </tr>\n",
       "    <tr>\n",
       "      <th>499</th>\n",
       "      <td>850.0</td>\n",
       "      <td>2</td>\n",
       "      <td>2.0</td>\n",
       "      <td>Semi-Furnished</td>\n",
       "      <td>Diamond Heights Multi Estate, Najafgarh</td>\n",
       "      <td>1.0</td>\n",
       "      <td>2940000</td>\n",
       "      <td>Almost_ready</td>\n",
       "      <td>New_Property</td>\n",
       "      <td>Apartment</td>\n",
       "      <td>24718.0</td>\n",
       "    </tr>\n",
       "  </tbody>\n",
       "</table>\n",
       "</div>"
      ],
      "text/plain": [
       "      Area  BHK  Bathroom      Furnishing  \\\n",
       "67   700.0    2       1.0  Semi-Furnished   \n",
       "229  850.0    2       2.0  Semi-Furnished   \n",
       "499  850.0    2       2.0  Semi-Furnished   \n",
       "\n",
       "                                              Locality  Parking    Price  \\\n",
       "67   MTNL Employees House Welfare Society, Dwarka S...      1.0  2400000   \n",
       "229            Diamond Heights Multi Estate, Najafgarh      1.0  2940000   \n",
       "499            Diamond Heights Multi Estate, Najafgarh      1.0  2940000   \n",
       "\n",
       "           Status   Transaction       Type  Per_Sqft  \n",
       "67   Almost_ready  New_Property  Apartment    3524.0  \n",
       "229  Almost_ready  New_Property  Apartment   24718.0  \n",
       "499  Almost_ready  New_Property  Apartment   24718.0  "
      ]
     },
     "metadata": {},
     "output_type": "display_data"
    }
   ],
   "source": [
    "data_ar = data.query('Price < 3500000 & Status == \"Almost_ready\"')\n",
    "display(data_ar)"
   ]
  },
  {
   "cell_type": "markdown",
   "id": "446a31f3-8ad2-40ce-a451-95ffc1bc633a",
   "metadata": {},
   "source": [
    "Using filter, we found properties that have low cost and not ready yet."
   ]
  },
  {
   "cell_type": "code",
   "execution_count": 7,
   "id": "ba4bd462-5a3e-486f-8b82-4058851ba2f4",
   "metadata": {},
   "outputs": [
    {
     "data": {
      "text/html": [
       "<div>\n",
       "<style scoped>\n",
       "    .dataframe tbody tr th:only-of-type {\n",
       "        vertical-align: middle;\n",
       "    }\n",
       "\n",
       "    .dataframe tbody tr th {\n",
       "        vertical-align: top;\n",
       "    }\n",
       "\n",
       "    .dataframe thead th {\n",
       "        text-align: right;\n",
       "    }\n",
       "</style>\n",
       "<table border=\"1\" class=\"dataframe\">\n",
       "  <thead>\n",
       "    <tr style=\"text-align: right;\">\n",
       "      <th></th>\n",
       "      <th>Area</th>\n",
       "      <th>BHK</th>\n",
       "      <th>Bathroom</th>\n",
       "      <th>Furnishing</th>\n",
       "      <th>Locality</th>\n",
       "      <th>Parking</th>\n",
       "      <th>Price</th>\n",
       "      <th>Status</th>\n",
       "      <th>Transaction</th>\n",
       "      <th>Type</th>\n",
       "      <th>Per_Sqft</th>\n",
       "    </tr>\n",
       "  </thead>\n",
       "  <tbody>\n",
       "    <tr>\n",
       "      <th>21</th>\n",
       "      <td>900.0000</td>\n",
       "      <td>3</td>\n",
       "      <td>2.0</td>\n",
       "      <td>Semi-Furnished</td>\n",
       "      <td>Vijay Vihar, Rohini</td>\n",
       "      <td>5.0</td>\n",
       "      <td>4500000</td>\n",
       "      <td>Ready_to_move</td>\n",
       "      <td>Resale</td>\n",
       "      <td>Builder_Floor</td>\n",
       "      <td>6154.0</td>\n",
       "    </tr>\n",
       "    <tr>\n",
       "      <th>278</th>\n",
       "      <td>900.0000</td>\n",
       "      <td>2</td>\n",
       "      <td>2.0</td>\n",
       "      <td>Semi-Furnished</td>\n",
       "      <td>Kailash Colony, Greater Kailash</td>\n",
       "      <td>3.0</td>\n",
       "      <td>20000000</td>\n",
       "      <td>Ready_to_move</td>\n",
       "      <td>Resale</td>\n",
       "      <td>Builder_Floor</td>\n",
       "      <td>11111.0</td>\n",
       "    </tr>\n",
       "    <tr>\n",
       "      <th>425</th>\n",
       "      <td>900.0000</td>\n",
       "      <td>2</td>\n",
       "      <td>2.0</td>\n",
       "      <td>Furnished</td>\n",
       "      <td>Patel Nagar West</td>\n",
       "      <td>3.0</td>\n",
       "      <td>7400000</td>\n",
       "      <td>Ready_to_move</td>\n",
       "      <td>Resale</td>\n",
       "      <td>Builder_Floor</td>\n",
       "      <td>23840.0</td>\n",
       "    </tr>\n",
       "    <tr>\n",
       "      <th>790</th>\n",
       "      <td>810.0000</td>\n",
       "      <td>2</td>\n",
       "      <td>2.0</td>\n",
       "      <td>Unfurnished</td>\n",
       "      <td>Chhattarpur</td>\n",
       "      <td>4.0</td>\n",
       "      <td>4500000</td>\n",
       "      <td>Ready_to_move</td>\n",
       "      <td>Resale</td>\n",
       "      <td>Apartment</td>\n",
       "      <td>NaN</td>\n",
       "    </tr>\n",
       "    <tr>\n",
       "      <th>806</th>\n",
       "      <td>765.0000</td>\n",
       "      <td>2</td>\n",
       "      <td>2.0</td>\n",
       "      <td>Unfurnished</td>\n",
       "      <td>Chhattarpur</td>\n",
       "      <td>4.0</td>\n",
       "      <td>2500000</td>\n",
       "      <td>Ready_to_move</td>\n",
       "      <td>New_Property</td>\n",
       "      <td>Builder_Floor</td>\n",
       "      <td>4138.0</td>\n",
       "    </tr>\n",
       "    <tr>\n",
       "      <th>873</th>\n",
       "      <td>559.7228</td>\n",
       "      <td>2</td>\n",
       "      <td>2.0</td>\n",
       "      <td>Furnished</td>\n",
       "      <td>Narela</td>\n",
       "      <td>3.0</td>\n",
       "      <td>2850000</td>\n",
       "      <td>Ready_to_move</td>\n",
       "      <td>Resale</td>\n",
       "      <td>Apartment</td>\n",
       "      <td>5092.0</td>\n",
       "    </tr>\n",
       "    <tr>\n",
       "      <th>874</th>\n",
       "      <td>350.0000</td>\n",
       "      <td>1</td>\n",
       "      <td>1.0</td>\n",
       "      <td>Unfurnished</td>\n",
       "      <td>Narela</td>\n",
       "      <td>3.0</td>\n",
       "      <td>2500000</td>\n",
       "      <td>Ready_to_move</td>\n",
       "      <td>Resale</td>\n",
       "      <td>Apartment</td>\n",
       "      <td>7143.0</td>\n",
       "    </tr>\n",
       "    <tr>\n",
       "      <th>917</th>\n",
       "      <td>650.0000</td>\n",
       "      <td>3</td>\n",
       "      <td>2.0</td>\n",
       "      <td>Unfurnished</td>\n",
       "      <td>Khirki extension, Malviya Nagar</td>\n",
       "      <td>3.0</td>\n",
       "      <td>4200000</td>\n",
       "      <td>Ready_to_move</td>\n",
       "      <td>Resale</td>\n",
       "      <td>Builder_Floor</td>\n",
       "      <td>14888.0</td>\n",
       "    </tr>\n",
       "    <tr>\n",
       "      <th>1242</th>\n",
       "      <td>945.0000</td>\n",
       "      <td>2</td>\n",
       "      <td>1.0</td>\n",
       "      <td>Unfurnished</td>\n",
       "      <td>Chittaranjan Park</td>\n",
       "      <td>5.0</td>\n",
       "      <td>6500000</td>\n",
       "      <td>Ready_to_move</td>\n",
       "      <td>Resale</td>\n",
       "      <td>Apartment</td>\n",
       "      <td>6878.0</td>\n",
       "    </tr>\n",
       "    <tr>\n",
       "      <th>1256</th>\n",
       "      <td>875.0000</td>\n",
       "      <td>3</td>\n",
       "      <td>3.0</td>\n",
       "      <td>Semi-Furnished</td>\n",
       "      <td>Chittaranjan Park</td>\n",
       "      <td>3.0</td>\n",
       "      <td>17500000</td>\n",
       "      <td>Ready_to_move</td>\n",
       "      <td>New_Property</td>\n",
       "      <td>Builder_Floor</td>\n",
       "      <td>12916.0</td>\n",
       "    </tr>\n",
       "  </tbody>\n",
       "</table>\n",
       "</div>"
      ],
      "text/plain": [
       "          Area  BHK  Bathroom      Furnishing  \\\n",
       "21    900.0000    3       2.0  Semi-Furnished   \n",
       "278   900.0000    2       2.0  Semi-Furnished   \n",
       "425   900.0000    2       2.0       Furnished   \n",
       "790   810.0000    2       2.0     Unfurnished   \n",
       "806   765.0000    2       2.0     Unfurnished   \n",
       "873   559.7228    2       2.0       Furnished   \n",
       "874   350.0000    1       1.0     Unfurnished   \n",
       "917   650.0000    3       2.0     Unfurnished   \n",
       "1242  945.0000    2       1.0     Unfurnished   \n",
       "1256  875.0000    3       3.0  Semi-Furnished   \n",
       "\n",
       "                             Locality  Parking     Price         Status  \\\n",
       "21                Vijay Vihar, Rohini      5.0   4500000  Ready_to_move   \n",
       "278   Kailash Colony, Greater Kailash      3.0  20000000  Ready_to_move   \n",
       "425                  Patel Nagar West      3.0   7400000  Ready_to_move   \n",
       "790                       Chhattarpur      4.0   4500000  Ready_to_move   \n",
       "806                       Chhattarpur      4.0   2500000  Ready_to_move   \n",
       "873                            Narela      3.0   2850000  Ready_to_move   \n",
       "874                            Narela      3.0   2500000  Ready_to_move   \n",
       "917   Khirki extension, Malviya Nagar      3.0   4200000  Ready_to_move   \n",
       "1242                Chittaranjan Park      5.0   6500000  Ready_to_move   \n",
       "1256                Chittaranjan Park      3.0  17500000  Ready_to_move   \n",
       "\n",
       "       Transaction           Type  Per_Sqft  \n",
       "21          Resale  Builder_Floor    6154.0  \n",
       "278         Resale  Builder_Floor   11111.0  \n",
       "425         Resale  Builder_Floor   23840.0  \n",
       "790         Resale      Apartment       NaN  \n",
       "806   New_Property  Builder_Floor    4138.0  \n",
       "873         Resale      Apartment    5092.0  \n",
       "874         Resale      Apartment    7143.0  \n",
       "917         Resale  Builder_Floor   14888.0  \n",
       "1242        Resale      Apartment    6878.0  \n",
       "1256  New_Property  Builder_Floor   12916.0  "
      ]
     },
     "metadata": {},
     "output_type": "display_data"
    }
   ],
   "source": [
    "data_pa = data.query('3 <= Parking <= 5 & Area < 1000')\n",
    "display(data_pa)"
   ]
  },
  {
   "cell_type": "markdown",
   "id": "ea7385b5-b131-460c-94fe-bd0c6fcaf1e0",
   "metadata": {},
   "source": [
    "Using filter, we found properties there parking zones between 3 and 5, and area < 1000."
   ]
  },
  {
   "cell_type": "code",
   "execution_count": 8,
   "id": "a13e874e-8380-4d4c-a77d-e0c447c99418",
   "metadata": {},
   "outputs": [
    {
     "data": {
      "text/html": [
       "<div>\n",
       "<style scoped>\n",
       "    .dataframe tbody tr th:only-of-type {\n",
       "        vertical-align: middle;\n",
       "    }\n",
       "\n",
       "    .dataframe tbody tr th {\n",
       "        vertical-align: top;\n",
       "    }\n",
       "\n",
       "    .dataframe thead th {\n",
       "        text-align: right;\n",
       "    }\n",
       "</style>\n",
       "<table border=\"1\" class=\"dataframe\">\n",
       "  <thead>\n",
       "    <tr style=\"text-align: right;\">\n",
       "      <th></th>\n",
       "      <th>Area</th>\n",
       "      <th>BHK</th>\n",
       "      <th>Bathroom</th>\n",
       "      <th>Furnishing</th>\n",
       "      <th>Locality</th>\n",
       "      <th>Parking</th>\n",
       "      <th>Price</th>\n",
       "      <th>Status</th>\n",
       "      <th>Transaction</th>\n",
       "      <th>Type</th>\n",
       "      <th>Per_Sqft</th>\n",
       "    </tr>\n",
       "  </thead>\n",
       "  <tbody>\n",
       "    <tr>\n",
       "      <th>225</th>\n",
       "      <td>5025.0</td>\n",
       "      <td>5</td>\n",
       "      <td>6.0</td>\n",
       "      <td>Unfurnished</td>\n",
       "      <td>Greater Kailash 2</td>\n",
       "      <td>4.0</td>\n",
       "      <td>170000000</td>\n",
       "      <td>Almost_ready</td>\n",
       "      <td>New_Property</td>\n",
       "      <td>Builder_Floor</td>\n",
       "      <td>22222.0</td>\n",
       "    </tr>\n",
       "    <tr>\n",
       "      <th>248</th>\n",
       "      <td>10350.0</td>\n",
       "      <td>4</td>\n",
       "      <td>7.0</td>\n",
       "      <td>Semi-Furnished</td>\n",
       "      <td>Maharani Bagh, New Friends Colony</td>\n",
       "      <td>3.0</td>\n",
       "      <td>160000000</td>\n",
       "      <td>Ready_to_move</td>\n",
       "      <td>New_Property</td>\n",
       "      <td>Apartment</td>\n",
       "      <td>15459.0</td>\n",
       "    </tr>\n",
       "    <tr>\n",
       "      <th>345</th>\n",
       "      <td>2970.0</td>\n",
       "      <td>7</td>\n",
       "      <td>4.0</td>\n",
       "      <td>Furnished</td>\n",
       "      <td>Yamuna Vihar, Shahdara</td>\n",
       "      <td>1.0</td>\n",
       "      <td>26500000</td>\n",
       "      <td>Ready_to_move</td>\n",
       "      <td>Resale</td>\n",
       "      <td>Builder_Floor</td>\n",
       "      <td>8923.0</td>\n",
       "    </tr>\n",
       "    <tr>\n",
       "      <th>353</th>\n",
       "      <td>720.0</td>\n",
       "      <td>6</td>\n",
       "      <td>5.0</td>\n",
       "      <td>Furnished</td>\n",
       "      <td>Yamuna Vihar, Shahdara</td>\n",
       "      <td>1.0</td>\n",
       "      <td>22000000</td>\n",
       "      <td>Ready_to_move</td>\n",
       "      <td>Resale</td>\n",
       "      <td>Builder_Floor</td>\n",
       "      <td>35714.0</td>\n",
       "    </tr>\n",
       "    <tr>\n",
       "      <th>495</th>\n",
       "      <td>5025.0</td>\n",
       "      <td>5</td>\n",
       "      <td>6.0</td>\n",
       "      <td>Unfurnished</td>\n",
       "      <td>Greater Kailash 2</td>\n",
       "      <td>4.0</td>\n",
       "      <td>170000000</td>\n",
       "      <td>Almost_ready</td>\n",
       "      <td>New_Property</td>\n",
       "      <td>Builder_Floor</td>\n",
       "      <td>22222.0</td>\n",
       "    </tr>\n",
       "    <tr>\n",
       "      <th>527</th>\n",
       "      <td>810.0</td>\n",
       "      <td>5</td>\n",
       "      <td>6.0</td>\n",
       "      <td>Furnished</td>\n",
       "      <td>Geeta Colony</td>\n",
       "      <td>1.0</td>\n",
       "      <td>28900000</td>\n",
       "      <td>Ready_to_move</td>\n",
       "      <td>Resale</td>\n",
       "      <td>Apartment</td>\n",
       "      <td>6667.0</td>\n",
       "    </tr>\n",
       "    <tr>\n",
       "      <th>585</th>\n",
       "      <td>5500.0</td>\n",
       "      <td>6</td>\n",
       "      <td>7.0</td>\n",
       "      <td>Furnished</td>\n",
       "      <td>Safdarjung Enclave</td>\n",
       "      <td>1.0</td>\n",
       "      <td>160000000</td>\n",
       "      <td>Ready_to_move</td>\n",
       "      <td>Resale</td>\n",
       "      <td>Apartment</td>\n",
       "      <td>14818.0</td>\n",
       "    </tr>\n",
       "    <tr>\n",
       "      <th>659</th>\n",
       "      <td>3050.0</td>\n",
       "      <td>5</td>\n",
       "      <td>6.0</td>\n",
       "      <td>Semi-Furnished</td>\n",
       "      <td>Commonwealth Games Village 2010</td>\n",
       "      <td>NaN</td>\n",
       "      <td>62500000</td>\n",
       "      <td>Ready_to_move</td>\n",
       "      <td>Resale</td>\n",
       "      <td>Apartment</td>\n",
       "      <td>20492.0</td>\n",
       "    </tr>\n",
       "    <tr>\n",
       "      <th>676</th>\n",
       "      <td>3112.0</td>\n",
       "      <td>5</td>\n",
       "      <td>6.0</td>\n",
       "      <td>Semi-Furnished</td>\n",
       "      <td>Commonwealth Games Village 2010</td>\n",
       "      <td>3.0</td>\n",
       "      <td>60000000</td>\n",
       "      <td>Ready_to_move</td>\n",
       "      <td>Resale</td>\n",
       "      <td>Apartment</td>\n",
       "      <td>19280.0</td>\n",
       "    </tr>\n",
       "    <tr>\n",
       "      <th>681</th>\n",
       "      <td>2300.0</td>\n",
       "      <td>5</td>\n",
       "      <td>6.0</td>\n",
       "      <td>Semi-Furnished</td>\n",
       "      <td>Common Wealth Games Village, Commonwealth Game...</td>\n",
       "      <td>3.0</td>\n",
       "      <td>58000000</td>\n",
       "      <td>Ready_to_move</td>\n",
       "      <td>Resale</td>\n",
       "      <td>Apartment</td>\n",
       "      <td>21311.0</td>\n",
       "    </tr>\n",
       "    <tr>\n",
       "      <th>721</th>\n",
       "      <td>1200.0</td>\n",
       "      <td>10</td>\n",
       "      <td>4.0</td>\n",
       "      <td>Semi-Furnished</td>\n",
       "      <td>DDA Flats Sarita Vihar, Sarita Vihar, Mathura ...</td>\n",
       "      <td>2.0</td>\n",
       "      <td>17000000</td>\n",
       "      <td>Ready_to_move</td>\n",
       "      <td>Resale</td>\n",
       "      <td>Apartment</td>\n",
       "      <td>NaN</td>\n",
       "    </tr>\n",
       "    <tr>\n",
       "      <th>1029</th>\n",
       "      <td>5236.0</td>\n",
       "      <td>5</td>\n",
       "      <td>7.0</td>\n",
       "      <td>Unfurnished</td>\n",
       "      <td>The Amaryllis, Karol Bagh</td>\n",
       "      <td>3.0</td>\n",
       "      <td>73700000</td>\n",
       "      <td>Almost_ready</td>\n",
       "      <td>New_Property</td>\n",
       "      <td>Apartment</td>\n",
       "      <td>14092.0</td>\n",
       "    </tr>\n",
       "  </tbody>\n",
       "</table>\n",
       "</div>"
      ],
      "text/plain": [
       "         Area  BHK  Bathroom      Furnishing  \\\n",
       "225    5025.0    5       6.0     Unfurnished   \n",
       "248   10350.0    4       7.0  Semi-Furnished   \n",
       "345    2970.0    7       4.0       Furnished   \n",
       "353     720.0    6       5.0       Furnished   \n",
       "495    5025.0    5       6.0     Unfurnished   \n",
       "527     810.0    5       6.0       Furnished   \n",
       "585    5500.0    6       7.0       Furnished   \n",
       "659    3050.0    5       6.0  Semi-Furnished   \n",
       "676    3112.0    5       6.0  Semi-Furnished   \n",
       "681    2300.0    5       6.0  Semi-Furnished   \n",
       "721    1200.0   10       4.0  Semi-Furnished   \n",
       "1029   5236.0    5       7.0     Unfurnished   \n",
       "\n",
       "                                               Locality  Parking      Price  \\\n",
       "225                                   Greater Kailash 2      4.0  170000000   \n",
       "248                   Maharani Bagh, New Friends Colony      3.0  160000000   \n",
       "345                              Yamuna Vihar, Shahdara      1.0   26500000   \n",
       "353                              Yamuna Vihar, Shahdara      1.0   22000000   \n",
       "495                                   Greater Kailash 2      4.0  170000000   \n",
       "527                                        Geeta Colony      1.0   28900000   \n",
       "585                                  Safdarjung Enclave      1.0  160000000   \n",
       "659                     Commonwealth Games Village 2010      NaN   62500000   \n",
       "676                     Commonwealth Games Village 2010      3.0   60000000   \n",
       "681   Common Wealth Games Village, Commonwealth Game...      3.0   58000000   \n",
       "721   DDA Flats Sarita Vihar, Sarita Vihar, Mathura ...      2.0   17000000   \n",
       "1029                          The Amaryllis, Karol Bagh      3.0   73700000   \n",
       "\n",
       "             Status   Transaction           Type  Per_Sqft  \n",
       "225    Almost_ready  New_Property  Builder_Floor   22222.0  \n",
       "248   Ready_to_move  New_Property      Apartment   15459.0  \n",
       "345   Ready_to_move        Resale  Builder_Floor    8923.0  \n",
       "353   Ready_to_move        Resale  Builder_Floor   35714.0  \n",
       "495    Almost_ready  New_Property  Builder_Floor   22222.0  \n",
       "527   Ready_to_move        Resale      Apartment    6667.0  \n",
       "585   Ready_to_move        Resale      Apartment   14818.0  \n",
       "659   Ready_to_move        Resale      Apartment   20492.0  \n",
       "676   Ready_to_move        Resale      Apartment   19280.0  \n",
       "681   Ready_to_move        Resale      Apartment   21311.0  \n",
       "721   Ready_to_move        Resale      Apartment       NaN  \n",
       "1029   Almost_ready  New_Property      Apartment   14092.0  "
      ]
     },
     "metadata": {},
     "output_type": "display_data"
    }
   ],
   "source": [
    "data_bhkb = data.query('BHK + Bathroom > 10')\n",
    "display(data_bhkb)"
   ]
  },
  {
   "cell_type": "markdown",
   "id": "795d9911-bd9e-4836-badd-5fcf39a32a09",
   "metadata": {},
   "source": [
    "Using filter, we found properties there number of rooms over 10 ."
   ]
  },
  {
   "cell_type": "code",
   "execution_count": 9,
   "id": "28292211-912e-48f9-8567-8162896e6b76",
   "metadata": {},
   "outputs": [
    {
     "data": {
      "text/plain": [
       "4200000.0"
      ]
     },
     "metadata": {},
     "output_type": "display_data"
    }
   ],
   "source": [
    "data_bfuna = data.query('Type == \"Builder_Floor\" & Furnishing == \"Unfurnished\" & Area < 1000')\n",
    "display(data_bfuna['Price'].median())"
   ]
  },
  {
   "cell_type": "markdown",
   "id": "b1949745-0b50-44c8-a349-d027b654343d",
   "metadata": {},
   "source": [
    "Using filter, we found median cost of Builder_Floors without furnish and area < 1000."
   ]
  },
  {
   "cell_type": "markdown",
   "id": "3e3e7fa6-d9e1-4a83-8af2-b7e61e447608",
   "metadata": {},
   "source": [
    "## Step 3"
   ]
  },
  {
   "cell_type": "markdown",
   "id": "a6236fb5-bef9-45ea-a36f-a4a3f5a25e11",
   "metadata": {},
   "source": [
    "### Sorting the data"
   ]
  },
  {
   "cell_type": "code",
   "execution_count": 10,
   "id": "55fa5fee-1487-47f2-81f1-aa3bb569c6ff",
   "metadata": {},
   "outputs": [
    {
     "data": {
      "text/plain": [
       "567    51000000\n",
       "Name: Price, dtype: int64"
      ]
     },
     "metadata": {},
     "output_type": "display_data"
    }
   ],
   "source": [
    "display(data.sort_values(['Area', 'Per_Sqft'], ascending = False).head(1)['Price'])"
   ]
  },
  {
   "cell_type": "markdown",
   "id": "b1522e84-420b-4069-a3fb-212f6b83dbf5",
   "metadata": {},
   "source": [
    "Using sortings, we found the price of property with the largest area."
   ]
  },
  {
   "cell_type": "code",
   "execution_count": 11,
   "id": "810119af-ff71-4a43-8b1d-913ecf94ced2",
   "metadata": {},
   "outputs": [
    {
     "data": {
      "text/plain": [
       "721    DDA Flats Sarita Vihar, Sarita Vihar, Mathura ...\n",
       "Name: Locality, dtype: object"
      ]
     },
     "metadata": {},
     "output_type": "display_data"
    }
   ],
   "source": [
    "display(data.sort_values(['BHK','Bathroom'], ascending = False).head(1)[\"Locality\"])"
   ]
  },
  {
   "cell_type": "markdown",
   "id": "8068078b-35f9-41dd-999c-5aa3e6b6125a",
   "metadata": {},
   "source": [
    "Using sortings, we found the adress of property with the largest number of rooms"
   ]
  },
  {
   "cell_type": "code",
   "execution_count": 12,
   "id": "fbc729a7-341a-4644-a275-d07d615151a9",
   "metadata": {},
   "outputs": [
    {
     "data": {
      "text/html": [
       "<div>\n",
       "<style scoped>\n",
       "    .dataframe tbody tr th:only-of-type {\n",
       "        vertical-align: middle;\n",
       "    }\n",
       "\n",
       "    .dataframe tbody tr th {\n",
       "        vertical-align: top;\n",
       "    }\n",
       "\n",
       "    .dataframe thead th {\n",
       "        text-align: right;\n",
       "    }\n",
       "</style>\n",
       "<table border=\"1\" class=\"dataframe\">\n",
       "  <thead>\n",
       "    <tr style=\"text-align: right;\">\n",
       "      <th></th>\n",
       "      <th>Area</th>\n",
       "      <th>BHK</th>\n",
       "      <th>Bathroom</th>\n",
       "      <th>Furnishing</th>\n",
       "      <th>Locality</th>\n",
       "      <th>Parking</th>\n",
       "      <th>Price</th>\n",
       "      <th>Status</th>\n",
       "      <th>Transaction</th>\n",
       "      <th>Type</th>\n",
       "      <th>Per_Sqft</th>\n",
       "    </tr>\n",
       "  </thead>\n",
       "  <tbody>\n",
       "    <tr>\n",
       "      <th>893</th>\n",
       "      <td>198.0</td>\n",
       "      <td>1</td>\n",
       "      <td>1.0</td>\n",
       "      <td>Furnished</td>\n",
       "      <td>Narela Sector A5</td>\n",
       "      <td>1.0</td>\n",
       "      <td>1000000</td>\n",
       "      <td>Ready_to_move</td>\n",
       "      <td>Resale</td>\n",
       "      <td>Apartment</td>\n",
       "      <td>5051.0</td>\n",
       "    </tr>\n",
       "  </tbody>\n",
       "</table>\n",
       "</div>"
      ],
      "text/plain": [
       "      Area  BHK  Bathroom Furnishing          Locality  Parking    Price  \\\n",
       "893  198.0    1       1.0  Furnished  Narela Sector A5      1.0  1000000   \n",
       "\n",
       "            Status Transaction       Type  Per_Sqft  \n",
       "893  Ready_to_move      Resale  Apartment    5051.0  "
      ]
     },
     "metadata": {},
     "output_type": "display_data"
    }
   ],
   "source": [
    "display(data.sort_values(['Price','Area','Per_Sqft']).head(1))"
   ]
  },
  {
   "cell_type": "markdown",
   "id": "3d3b6ebf-8724-4e88-9c10-c9b0eeaf4ec7",
   "metadata": {},
   "source": [
    "Using sortings, we found the smallest and cheapest property."
   ]
  },
  {
   "cell_type": "markdown",
   "id": "5a66fa07-358e-4c30-9d6b-5c5bb001a379",
   "metadata": {},
   "source": [
    "## Step 4"
   ]
  },
  {
   "cell_type": "markdown",
   "id": "27c0acff-010e-4266-a222-0833108e37d8",
   "metadata": {},
   "source": [
    "### Creating frequency tables"
   ]
  },
  {
   "cell_type": "code",
   "execution_count": 13,
   "id": "9571b614-2e76-40b0-a7c9-164c8e7a7ac3",
   "metadata": {},
   "outputs": [
    {
     "data": {
      "text/plain": [
       "Status\n",
       "Ready_to_move    1184\n",
       "Almost_ready       75\n",
       "Name: count, dtype: int64"
      ]
     },
     "execution_count": 13,
     "metadata": {},
     "output_type": "execute_result"
    }
   ],
   "source": [
    "data['Status'].value_counts()"
   ]
  },
  {
   "cell_type": "markdown",
   "id": "720e725b-4f69-4fcc-ac98-a9265732a411",
   "metadata": {},
   "source": [
    "We see that most of the properties are ready for occupancy. Only ~6% are not ready."
   ]
  },
  {
   "cell_type": "code",
   "execution_count": 14,
   "id": "ea34eb33-3744-41ec-840e-6e25ef87f176",
   "metadata": {},
   "outputs": [
    {
     "data": {
      "text/plain": [
       "BHK\n",
       "3     541\n",
       "2     367\n",
       "4     220\n",
       "1      96\n",
       "5      27\n",
       "6       6\n",
       "7       1\n",
       "10      1\n",
       "Name: count, dtype: int64"
      ]
     },
     "execution_count": 14,
     "metadata": {},
     "output_type": "execute_result"
    }
   ],
   "source": [
    "data['BHK'].value_counts()"
   ]
  },
  {
   "cell_type": "markdown",
   "id": "c60692eb-3815-40a5-985b-1f827259b7b2",
   "metadata": {},
   "source": [
    "The vast majority of properties have 1-4 rooms. The percentage of the rest is about one percent"
   ]
  },
  {
   "cell_type": "code",
   "execution_count": 15,
   "id": "037b62d0-76ab-4442-a5c5-65bd0513047c",
   "metadata": {},
   "outputs": [
    {
     "data": {
      "text/plain": [
       "Bathroom\n",
       "2.0    551\n",
       "3.0    355\n",
       "1.0    146\n",
       "4.0    138\n",
       "5.0     57\n",
       "6.0      7\n",
       "7.0      3\n",
       "Name: count, dtype: int64"
      ]
     },
     "execution_count": 15,
     "metadata": {},
     "output_type": "execute_result"
    }
   ],
   "source": [
    "data['Bathroom'].value_counts()"
   ]
  },
  {
   "cell_type": "markdown",
   "id": "0f66dc77-3fa0-4f14-a103-c36cd01f47b7",
   "metadata": {},
   "source": [
    "The vast majority of properties have 1-4 Bathrooms. The percentage of the rest is about 2-3 percent"
   ]
  },
  {
   "cell_type": "code",
   "execution_count": 16,
   "id": "31f70486-d147-4dd4-be41-3f180464f6c8",
   "metadata": {},
   "outputs": [
    {
     "data": {
      "text/plain": [
       "Parking\n",
       "1.0      796\n",
       "2.0      341\n",
       "3.0       54\n",
       "4.0       16\n",
       "5.0        7\n",
       "39.0       7\n",
       "114.0      3\n",
       "9.0        1\n",
       "10.0       1\n",
       "Name: count, dtype: int64"
      ]
     },
     "execution_count": 16,
     "metadata": {},
     "output_type": "execute_result"
    }
   ],
   "source": [
    "data['Parking'].value_counts()"
   ]
  },
  {
   "cell_type": "markdown",
   "id": "d4ce9ba3-7cd0-49b1-b647-da31b17288f7",
   "metadata": {},
   "source": [
    "The vast majority of properties have 1-4 Parking zones. The percentage of the rest is about 1 percent"
   ]
  },
  {
   "cell_type": "code",
   "execution_count": 17,
   "id": "49ddf103-1b41-4445-96bd-1a5763e56555",
   "metadata": {},
   "outputs": [
    {
     "data": {
      "text/plain": [
       "Furnishing\n",
       "Semi-Furnished    708\n",
       "Unfurnished       363\n",
       "Furnished         183\n",
       "Name: count, dtype: int64"
      ]
     },
     "execution_count": 17,
     "metadata": {},
     "output_type": "execute_result"
    }
   ],
   "source": [
    "data['Furnishing'].value_counts()"
   ]
  },
  {
   "cell_type": "markdown",
   "id": "d997d612-9bed-453a-9f04-a919f2751d0a",
   "metadata": {},
   "source": [
    "we see, that most properties are partially furnished or unfurnished."
   ]
  },
  {
   "cell_type": "code",
   "execution_count": 18,
   "id": "aad36245-7000-4b47-9506-e6fa8da1ac10",
   "metadata": {},
   "outputs": [
    {
     "data": {
      "text/plain": [
       "Transaction\n",
       "Resale          781\n",
       "New_Property    478\n",
       "Name: count, dtype: int64"
      ]
     },
     "execution_count": 18,
     "metadata": {},
     "output_type": "execute_result"
    }
   ],
   "source": [
    "data['Transaction'].value_counts()"
   ]
  },
  {
   "cell_type": "markdown",
   "id": "b46a45eb-82ed-4430-b68c-c8ce201acfea",
   "metadata": {},
   "source": [
    "more than half of the objects were already owned by someone else"
   ]
  },
  {
   "cell_type": "code",
   "execution_count": 19,
   "id": "41333426-ef8e-49ab-b713-6852c63b2e82",
   "metadata": {},
   "outputs": [
    {
     "data": {
      "text/plain": [
       "Type\n",
       "Builder_Floor    661\n",
       "Apartment        593\n",
       "Name: count, dtype: int64"
      ]
     },
     "execution_count": 19,
     "metadata": {},
     "output_type": "execute_result"
    }
   ],
   "source": [
    "data['Type'].value_counts()"
   ]
  },
  {
   "cell_type": "markdown",
   "id": "1ff91be0-f2f1-464a-a826-8576259b5c90",
   "metadata": {},
   "source": [
    "The number of apartments and builder floors is approximately equal"
   ]
  },
  {
   "cell_type": "markdown",
   "id": "db6718be-a2d2-4feb-98a3-57b29f46a453",
   "metadata": {},
   "source": [
    "## Step 5"
   ]
  },
  {
   "cell_type": "markdown",
   "id": "38f3bd6e-d56c-4e37-83e3-a2e407c961ed",
   "metadata": {},
   "source": [
    "### frequency tables based on filtered data"
   ]
  },
  {
   "cell_type": "code",
   "execution_count": 20,
   "id": "3e724ba0-b155-4926-afd8-632df032e15a",
   "metadata": {},
   "outputs": [
    {
     "data": {
      "text/plain": [
       "Transaction\n",
       "Resale          82\n",
       "New_Property    22\n",
       "Name: count, dtype: int64"
      ]
     },
     "execution_count": 20,
     "metadata": {},
     "output_type": "execute_result"
    }
   ],
   "source": [
    "data_af['Transaction'].value_counts()"
   ]
  },
  {
   "cell_type": "markdown",
   "id": "bd721221-06eb-4af0-b1a3-5b971ea68bbb",
   "metadata": {},
   "source": [
    "Most furnished apartments already had an owner. Only 20 percent are new."
   ]
  },
  {
   "cell_type": "code",
   "execution_count": 21,
   "id": "4ca882d0-80cf-4616-97c8-023d27d8f7eb",
   "metadata": {},
   "outputs": [
    {
     "data": {
      "text/plain": [
       "Bathroom\n",
       "2.0    2\n",
       "1.0    1\n",
       "Name: count, dtype: int64"
      ]
     },
     "execution_count": 21,
     "metadata": {},
     "output_type": "execute_result"
    }
   ],
   "source": [
    "data_ar['Bathroom'].value_counts()"
   ]
  },
  {
   "cell_type": "markdown",
   "id": "5480de87-f57e-482c-b34a-077a2d46260b",
   "metadata": {},
   "source": [
    "2 out of 3 of these properties have 2 baths."
   ]
  },
  {
   "cell_type": "code",
   "execution_count": 22,
   "id": "d8afa1d5-67a5-48b7-88f0-ecda616a4a8e",
   "metadata": {},
   "outputs": [
    {
     "data": {
      "text/plain": [
       "Furnishing\n",
       "Unfurnished       5\n",
       "Semi-Furnished    3\n",
       "Furnished         2\n",
       "Name: count, dtype: int64"
      ]
     },
     "execution_count": 22,
     "metadata": {},
     "output_type": "execute_result"
    }
   ],
   "source": [
    "data_pa['Furnishing'].value_counts()"
   ]
  },
  {
   "cell_type": "markdown",
   "id": "4dffd664-28ba-418b-b42a-3accf66ac090",
   "metadata": {},
   "source": [
    "Only 2 properties have all the furniture. The rest - partially or not"
   ]
  },
  {
   "cell_type": "code",
   "execution_count": 23,
   "id": "90ba9a77-3b1e-4e98-b905-04329e884f80",
   "metadata": {},
   "outputs": [
    {
     "data": {
      "text/plain": [
       "Type\n",
       "Apartment        8\n",
       "Builder_Floor    4\n",
       "Name: count, dtype: int64"
      ]
     },
     "execution_count": 23,
     "metadata": {},
     "output_type": "execute_result"
    }
   ],
   "source": [
    "data_bhkb['Type'].value_counts()"
   ]
  },
  {
   "cell_type": "markdown",
   "id": "b3d35953-a531-438a-97e1-22275aea74fc",
   "metadata": {},
   "source": [
    "Most properties with a large number of rooms are apartments"
   ]
  },
  {
   "cell_type": "code",
   "execution_count": 24,
   "id": "018bfc79-f169-4317-b121-aa14bbce2531",
   "metadata": {},
   "outputs": [
    {
     "data": {
      "text/plain": [
       "Status\n",
       "Ready_to_move    81\n",
       "Almost_ready      5\n",
       "Name: count, dtype: int64"
      ]
     },
     "execution_count": 24,
     "metadata": {},
     "output_type": "execute_result"
    }
   ],
   "source": [
    "data_bfuna['Status'].value_counts()"
   ]
  },
  {
   "cell_type": "markdown",
   "id": "23bffc49-de86-41b0-a54e-c3cecb773e25",
   "metadata": {},
   "source": [
    "About 80 unfurnished Builder Floors with a small area are ready to move in."
   ]
  },
  {
   "cell_type": "markdown",
   "id": "e24e7384-3371-4014-9122-c119d82d3c2c",
   "metadata": {},
   "source": [
    "## Step 6"
   ]
  },
  {
   "cell_type": "markdown",
   "id": "0672ea72-09f3-44d3-955e-2974974c6d0e",
   "metadata": {},
   "source": [
    "### Creating own variables"
   ]
  },
  {
   "cell_type": "code",
   "execution_count": 25,
   "id": "433c48b2-3f59-4dad-940f-69dabc61ce1f",
   "metadata": {},
   "outputs": [
    {
     "data": {
      "text/html": [
       "<div>\n",
       "<style scoped>\n",
       "    .dataframe tbody tr th:only-of-type {\n",
       "        vertical-align: middle;\n",
       "    }\n",
       "\n",
       "    .dataframe tbody tr th {\n",
       "        vertical-align: top;\n",
       "    }\n",
       "\n",
       "    .dataframe thead th {\n",
       "        text-align: right;\n",
       "    }\n",
       "</style>\n",
       "<table border=\"1\" class=\"dataframe\">\n",
       "  <thead>\n",
       "    <tr style=\"text-align: right;\">\n",
       "      <th></th>\n",
       "      <th>Area</th>\n",
       "      <th>BHK</th>\n",
       "      <th>Bathroom</th>\n",
       "      <th>Furnishing</th>\n",
       "      <th>Locality</th>\n",
       "      <th>Parking</th>\n",
       "      <th>Price</th>\n",
       "      <th>Status</th>\n",
       "      <th>Transaction</th>\n",
       "      <th>Type</th>\n",
       "      <th>Per_Sqft</th>\n",
       "      <th>type_size</th>\n",
       "      <th>type_cost</th>\n",
       "    </tr>\n",
       "  </thead>\n",
       "  <tbody>\n",
       "    <tr>\n",
       "      <th>0</th>\n",
       "      <td>800.0</td>\n",
       "      <td>3</td>\n",
       "      <td>2.0</td>\n",
       "      <td>Semi-Furnished</td>\n",
       "      <td>Rohini Sector 25</td>\n",
       "      <td>1.0</td>\n",
       "      <td>6500000</td>\n",
       "      <td>Ready_to_move</td>\n",
       "      <td>New_Property</td>\n",
       "      <td>Builder_Floor</td>\n",
       "      <td>NaN</td>\n",
       "      <td>below average</td>\n",
       "      <td>below average</td>\n",
       "    </tr>\n",
       "    <tr>\n",
       "      <th>1</th>\n",
       "      <td>750.0</td>\n",
       "      <td>2</td>\n",
       "      <td>2.0</td>\n",
       "      <td>Semi-Furnished</td>\n",
       "      <td>J R Designers Floors, Rohini Sector 24</td>\n",
       "      <td>1.0</td>\n",
       "      <td>5000000</td>\n",
       "      <td>Ready_to_move</td>\n",
       "      <td>New_Property</td>\n",
       "      <td>Apartment</td>\n",
       "      <td>6667.0</td>\n",
       "      <td>below average</td>\n",
       "      <td>below average</td>\n",
       "    </tr>\n",
       "    <tr>\n",
       "      <th>2</th>\n",
       "      <td>950.0</td>\n",
       "      <td>2</td>\n",
       "      <td>2.0</td>\n",
       "      <td>Furnished</td>\n",
       "      <td>Citizen Apartment, Rohini Sector 13</td>\n",
       "      <td>1.0</td>\n",
       "      <td>15500000</td>\n",
       "      <td>Ready_to_move</td>\n",
       "      <td>Resale</td>\n",
       "      <td>Apartment</td>\n",
       "      <td>6667.0</td>\n",
       "      <td>below average</td>\n",
       "      <td>above average</td>\n",
       "    </tr>\n",
       "    <tr>\n",
       "      <th>3</th>\n",
       "      <td>600.0</td>\n",
       "      <td>2</td>\n",
       "      <td>2.0</td>\n",
       "      <td>Semi-Furnished</td>\n",
       "      <td>Rohini Sector 24</td>\n",
       "      <td>1.0</td>\n",
       "      <td>4200000</td>\n",
       "      <td>Ready_to_move</td>\n",
       "      <td>Resale</td>\n",
       "      <td>Builder_Floor</td>\n",
       "      <td>6667.0</td>\n",
       "      <td>below average</td>\n",
       "      <td>below average</td>\n",
       "    </tr>\n",
       "    <tr>\n",
       "      <th>4</th>\n",
       "      <td>650.0</td>\n",
       "      <td>2</td>\n",
       "      <td>2.0</td>\n",
       "      <td>Semi-Furnished</td>\n",
       "      <td>Rohini Sector 24 carpet area 650 sqft status R...</td>\n",
       "      <td>1.0</td>\n",
       "      <td>6200000</td>\n",
       "      <td>Ready_to_move</td>\n",
       "      <td>New_Property</td>\n",
       "      <td>Builder_Floor</td>\n",
       "      <td>6667.0</td>\n",
       "      <td>below average</td>\n",
       "      <td>below average</td>\n",
       "    </tr>\n",
       "    <tr>\n",
       "      <th>...</th>\n",
       "      <td>...</td>\n",
       "      <td>...</td>\n",
       "      <td>...</td>\n",
       "      <td>...</td>\n",
       "      <td>...</td>\n",
       "      <td>...</td>\n",
       "      <td>...</td>\n",
       "      <td>...</td>\n",
       "      <td>...</td>\n",
       "      <td>...</td>\n",
       "      <td>...</td>\n",
       "      <td>...</td>\n",
       "      <td>...</td>\n",
       "    </tr>\n",
       "    <tr>\n",
       "      <th>1254</th>\n",
       "      <td>4118.0</td>\n",
       "      <td>4</td>\n",
       "      <td>5.0</td>\n",
       "      <td>Unfurnished</td>\n",
       "      <td>Chittaranjan Park</td>\n",
       "      <td>3.0</td>\n",
       "      <td>55000000</td>\n",
       "      <td>Ready_to_move</td>\n",
       "      <td>New_Property</td>\n",
       "      <td>Builder_Floor</td>\n",
       "      <td>12916.0</td>\n",
       "      <td>above average</td>\n",
       "      <td>above average</td>\n",
       "    </tr>\n",
       "    <tr>\n",
       "      <th>1255</th>\n",
       "      <td>1050.0</td>\n",
       "      <td>3</td>\n",
       "      <td>2.0</td>\n",
       "      <td>Semi-Furnished</td>\n",
       "      <td>Chittaranjan Park</td>\n",
       "      <td>3.0</td>\n",
       "      <td>12500000</td>\n",
       "      <td>Ready_to_move</td>\n",
       "      <td>Resale</td>\n",
       "      <td>Builder_Floor</td>\n",
       "      <td>12916.0</td>\n",
       "      <td>below average</td>\n",
       "      <td>below average</td>\n",
       "    </tr>\n",
       "    <tr>\n",
       "      <th>1256</th>\n",
       "      <td>875.0</td>\n",
       "      <td>3</td>\n",
       "      <td>3.0</td>\n",
       "      <td>Semi-Furnished</td>\n",
       "      <td>Chittaranjan Park</td>\n",
       "      <td>3.0</td>\n",
       "      <td>17500000</td>\n",
       "      <td>Ready_to_move</td>\n",
       "      <td>New_Property</td>\n",
       "      <td>Builder_Floor</td>\n",
       "      <td>12916.0</td>\n",
       "      <td>below average</td>\n",
       "      <td>above average</td>\n",
       "    </tr>\n",
       "    <tr>\n",
       "      <th>1257</th>\n",
       "      <td>990.0</td>\n",
       "      <td>2</td>\n",
       "      <td>2.0</td>\n",
       "      <td>Unfurnished</td>\n",
       "      <td>Chittaranjan Park Block A</td>\n",
       "      <td>1.0</td>\n",
       "      <td>11500000</td>\n",
       "      <td>Ready_to_move</td>\n",
       "      <td>Resale</td>\n",
       "      <td>Builder_Floor</td>\n",
       "      <td>12916.0</td>\n",
       "      <td>below average</td>\n",
       "      <td>below average</td>\n",
       "    </tr>\n",
       "    <tr>\n",
       "      <th>1258</th>\n",
       "      <td>11050.0</td>\n",
       "      <td>3</td>\n",
       "      <td>3.0</td>\n",
       "      <td>Unfurnished</td>\n",
       "      <td>Chittaranjan Park</td>\n",
       "      <td>1.0</td>\n",
       "      <td>18500000</td>\n",
       "      <td>Ready_to_move</td>\n",
       "      <td>New_Property</td>\n",
       "      <td>Builder_Floor</td>\n",
       "      <td>12916.0</td>\n",
       "      <td>above average</td>\n",
       "      <td>above average</td>\n",
       "    </tr>\n",
       "  </tbody>\n",
       "</table>\n",
       "<p>1259 rows × 13 columns</p>\n",
       "</div>"
      ],
      "text/plain": [
       "         Area  BHK  Bathroom      Furnishing  \\\n",
       "0       800.0    3       2.0  Semi-Furnished   \n",
       "1       750.0    2       2.0  Semi-Furnished   \n",
       "2       950.0    2       2.0       Furnished   \n",
       "3       600.0    2       2.0  Semi-Furnished   \n",
       "4       650.0    2       2.0  Semi-Furnished   \n",
       "...       ...  ...       ...             ...   \n",
       "1254   4118.0    4       5.0     Unfurnished   \n",
       "1255   1050.0    3       2.0  Semi-Furnished   \n",
       "1256    875.0    3       3.0  Semi-Furnished   \n",
       "1257    990.0    2       2.0     Unfurnished   \n",
       "1258  11050.0    3       3.0     Unfurnished   \n",
       "\n",
       "                                               Locality  Parking     Price  \\\n",
       "0                                      Rohini Sector 25      1.0   6500000   \n",
       "1                J R Designers Floors, Rohini Sector 24      1.0   5000000   \n",
       "2                   Citizen Apartment, Rohini Sector 13      1.0  15500000   \n",
       "3                                      Rohini Sector 24      1.0   4200000   \n",
       "4     Rohini Sector 24 carpet area 650 sqft status R...      1.0   6200000   \n",
       "...                                                 ...      ...       ...   \n",
       "1254                                  Chittaranjan Park      3.0  55000000   \n",
       "1255                                  Chittaranjan Park      3.0  12500000   \n",
       "1256                                  Chittaranjan Park      3.0  17500000   \n",
       "1257                          Chittaranjan Park Block A      1.0  11500000   \n",
       "1258                                  Chittaranjan Park      1.0  18500000   \n",
       "\n",
       "             Status   Transaction           Type  Per_Sqft      type_size  \\\n",
       "0     Ready_to_move  New_Property  Builder_Floor       NaN  below average   \n",
       "1     Ready_to_move  New_Property      Apartment    6667.0  below average   \n",
       "2     Ready_to_move        Resale      Apartment    6667.0  below average   \n",
       "3     Ready_to_move        Resale  Builder_Floor    6667.0  below average   \n",
       "4     Ready_to_move  New_Property  Builder_Floor    6667.0  below average   \n",
       "...             ...           ...            ...       ...            ...   \n",
       "1254  Ready_to_move  New_Property  Builder_Floor   12916.0  above average   \n",
       "1255  Ready_to_move        Resale  Builder_Floor   12916.0  below average   \n",
       "1256  Ready_to_move  New_Property  Builder_Floor   12916.0  below average   \n",
       "1257  Ready_to_move        Resale  Builder_Floor   12916.0  below average   \n",
       "1258  Ready_to_move  New_Property  Builder_Floor   12916.0  above average   \n",
       "\n",
       "          type_cost  \n",
       "0     below average  \n",
       "1     below average  \n",
       "2     above average  \n",
       "3     below average  \n",
       "4     below average  \n",
       "...             ...  \n",
       "1254  above average  \n",
       "1255  below average  \n",
       "1256  above average  \n",
       "1257  below average  \n",
       "1258  above average  \n",
       "\n",
       "[1259 rows x 13 columns]"
      ]
     },
     "metadata": {},
     "output_type": "display_data"
    }
   ],
   "source": [
    "data['type_size'] = np.where(data['Area'] > data['Area'].median(), 'above average', 'below average')\n",
    "data['type_cost'] = np.where(data['Price'] > data['Price'].median(), 'above average', 'below average')\n",
    "display(data)"
   ]
  },
  {
   "cell_type": "markdown",
   "id": "63ad52cc-96fe-42e0-8e6c-cbe4b83d786b",
   "metadata": {},
   "source": [
    "# Stage 3"
   ]
  },
  {
   "cell_type": "markdown",
   "id": "8468843b-30a8-4383-81fd-b6a5aca5e0b2",
   "metadata": {},
   "source": [
    "## Step 1"
   ]
  },
  {
   "cell_type": "markdown",
   "id": "e42268ea-f59c-4fa3-b71d-d38774fbb5ec",
   "metadata": {},
   "source": [
    " ### Calculating the appropriate measures of the central tendency"
   ]
  },
  {
   "cell_type": "code",
   "execution_count": 26,
   "id": "2d845766-757a-47fe-99b8-304ed65d45e7",
   "metadata": {},
   "outputs": [
    {
     "name": "stdout",
     "output_type": "stream",
     "text": [
      "mean: 1466.4527241461478\n",
      "median: 1200.0\n",
      "mode: 0    900.0\n",
      "Name: Area, dtype: float64\n"
     ]
    }
   ],
   "source": [
    "t = data['Area']\n",
    "print(f'mean: {t.mean()}')\n",
    "print(f'median: {t.median()}')\n",
    "print(f'mode: {t.mode()}')"
   ]
  },
  {
   "cell_type": "markdown",
   "id": "cd77ccbe-2fa7-4776-a75e-76b2d5c0a8bf",
   "metadata": {},
   "source": [
    "the average is approximately equal to the median, most likely there are outliers at the upper limit"
   ]
  },
  {
   "cell_type": "code",
   "execution_count": 27,
   "id": "b8c76867-96ff-4372-b0ca-03ac3bdcf6ff",
   "metadata": {},
   "outputs": [
    {
     "name": "stdout",
     "output_type": "stream",
     "text": [
      "mean: 2.796664019062748\n",
      "median: 3.0\n",
      "mode: 0    3\n",
      "Name: BHK, dtype: int64\n"
     ]
    }
   ],
   "source": [
    "t = data['BHK']\n",
    "print(f'mean: {t.mean()}')\n",
    "print(f'median: {t.median()}')\n",
    "print(f'mode: {t.mode()}')"
   ]
  },
  {
   "cell_type": "markdown",
   "id": "a3ca64f5-61cc-4f47-8c83-c5fc6926b099",
   "metadata": {},
   "source": [
    "All metric indicators show almost the same value. On average the number of these rooms is 3"
   ]
  },
  {
   "cell_type": "code",
   "execution_count": 28,
   "id": "4507c761-aa56-4ac6-9330-57a880968312",
   "metadata": {},
   "outputs": [
    {
     "name": "stdout",
     "output_type": "stream",
     "text": [
      "mean: 1.935562805872757\n",
      "median: 1.0\n",
      "mode: 0    1.0\n",
      "Name: Parking, dtype: float64\n"
     ]
    }
   ],
   "source": [
    "t = data['Parking']\n",
    "print(f'mean: {t.mean()}')\n",
    "print(f'median: {t.median()}')\n",
    "print(f'mode: {t.mode()}')"
   ]
  },
  {
   "cell_type": "markdown",
   "id": "9c4d2f90-19c3-4a42-b4b9-32a44e32d2ec",
   "metadata": {},
   "source": [
    "The average value is very different from the median, which means there are large outliers above the upper limit. It is logical that each property has on average 1 parking space"
   ]
  },
  {
   "cell_type": "code",
   "execution_count": 29,
   "id": "85406940-4657-4059-9035-870a16af2c5e",
   "metadata": {},
   "outputs": [
    {
     "name": "stdout",
     "output_type": "stream",
     "text": [
      "mean: 21306703.733121525\n",
      "median: 14200000.0\n",
      "mode: 0    15000000\n",
      "Name: Price, dtype: int64\n"
     ]
    }
   ],
   "source": [
    "t = data['Price']\n",
    "print(f'mean: {t.mean()}')\n",
    "print(f'median: {t.median()}')\n",
    "print(f'mode: {t.mode()}')"
   ]
  },
  {
   "cell_type": "markdown",
   "id": "80dfe4c8-eaef-4676-8775-7388536e855c",
   "metadata": {},
   "source": [
    "The median and mean are different again. On average, real estate costs 14 million - the price of a small property"
   ]
  },
  {
   "cell_type": "code",
   "execution_count": 30,
   "id": "06e109d5-f3b3-4fe4-ad2b-4bb9f35bc1f4",
   "metadata": {},
   "outputs": [
    {
     "name": "stdout",
     "output_type": "stream",
     "text": [
      "mean: 15690.136542239685\n",
      "median: 11291.5\n",
      "mode: 0    12500.0\n",
      "Name: Per_Sqft, dtype: float64\n"
     ]
    }
   ],
   "source": [
    "t = data['Per_Sqft']\n",
    "print(f'mean: {t.mean()}')\n",
    "print(f'median: {t.median()}')\n",
    "print(f'mode: {t.mode()}')"
   ]
  },
  {
   "cell_type": "markdown",
   "id": "c1be000d-e4a8-469f-9708-374dd2eb1736",
   "metadata": {},
   "source": [
    "The figures are approximately equal. A lot of data is missing in it because of this there are differences between the median and the average value"
   ]
  },
  {
   "cell_type": "markdown",
   "id": "849a9260-d734-4453-864a-3dfc08bd2340",
   "metadata": {},
   "source": [
    "## Step 2"
   ]
  },
  {
   "cell_type": "markdown",
   "id": "e48f41ce-b59e-49d4-bc0f-3a7a80f1cff4",
   "metadata": {},
   "source": [
    "### Visualizing 3 variables using a box plot"
   ]
  },
  {
   "cell_type": "code",
   "execution_count": 31,
   "id": "052bc4b1-d95a-48d1-9576-2ab6ac6a5acc",
   "metadata": {},
   "outputs": [
    {
     "data": {
      "image/png": "[encoded data removed]",
      "text/plain": [
       "<Figure size 640x480 with 1 Axes>"
      ]
     },
     "metadata": {},
     "output_type": "display_data"
    }
   ],
   "source": [
    "data.boxplot(column=['Area'])\n",
    "plt.show()"
   ]
  },
  {
   "cell_type": "markdown",
   "id": "917ddcb2-2e36-465c-bec0-cb0832a65efd",
   "metadata": {},
   "source": [
    "We see a lot of outliers in the data above the upper limit. Most of them are below 5000"
   ]
  },
  {
   "cell_type": "code",
   "execution_count": 32,
   "id": "1dc79063-02da-4f94-8e06-04d13b07dbbb",
   "metadata": {},
   "outputs": [
    {
     "data": {
      "image/png": "[encoded data removed]",
      "text/plain": [
       "<Figure size 640x480 with 1 Axes>"
      ]
     },
     "metadata": {},
     "output_type": "display_data"
    }
   ],
   "source": [
    "data.boxplot(column=['Price'])\n",
    "plt.show()"
   ]
  },
  {
   "cell_type": "markdown",
   "id": "1eafabc2-cffd-4b28-9b9e-fbd7e7d8674d",
   "metadata": {},
   "source": [
    "We also see a large number of outliers above the upper limit, the anomalous values mostly lie between 0.6 - 1 * 10**8"
   ]
  },
  {
   "cell_type": "code",
   "execution_count": 33,
   "id": "f104d145-211a-465c-9bf7-186eab258c04",
   "metadata": {},
   "outputs": [
    {
     "data": {
      "image/png": "[encoded data removed]",
      "text/plain": [
       "<Figure size 640x480 with 1 Axes>"
      ]
     },
     "metadata": {},
     "output_type": "display_data"
    }
   ],
   "source": [
    "data.boxplot(column=['Parking'])\n",
    "plt.show()"
   ]
  },
  {
   "cell_type": "markdown",
   "id": "80c9bd09-31ce-4305-9578-69aabdbf8898",
   "metadata": {},
   "source": [
    "There are not many emissions, but the scope is large. Based on logic, there cannot be more than 10-20 parking spaces"
   ]
  },
  {
   "cell_type": "markdown",
   "id": "8af03f5f-ecf1-40f0-b71d-9a8e6bceca56",
   "metadata": {},
   "source": [
    "## Step 3"
   ]
  },
  {
   "cell_type": "markdown",
   "id": "184bf2a3-94de-46ce-aa46-f78f7cdb32e4",
   "metadata": {},
   "source": [
    "### Calculating the outliers using both the interquartile range and the standard deviation"
   ]
  },
  {
   "cell_type": "code",
   "execution_count": 34,
   "id": "10060fe5-0b78-4fc9-8725-0a5785155759",
   "metadata": {},
   "outputs": [
    {
     "name": "stdout",
     "output_type": "stream",
     "text": [
      "3033.8849024585106 -100.97945416621496\n"
     ]
    }
   ],
   "source": [
    "mean = data['Area'].mean()\n",
    "var = 0\n",
    "for i in data['Area']:\n",
    "    var += (i - mean) * (i - mean)\n",
    "var /= len(data)\n",
    "std = var**0.5\n",
    "lmax = mean + std\n",
    "lmin = mean - std\n",
    "print(lmax, lmin)"
   ]
  },
  {
   "cell_type": "code",
   "execution_count": 35,
   "id": "babe9f08-60e5-4e43-a01d-dfdff4fef257",
   "metadata": {},
   "outputs": [
    {
     "name": "stdout",
     "output_type": "stream",
     "text": [
      "3050.0 -550.0\n"
     ]
    }
   ],
   "source": [
    "IQR = stats.iqr(data['Area'])\n",
    "lmin = data['Area'].quantile(0.25) - 1.5*IQR\n",
    "lmax = data['Area'].quantile(0.75) + 1.5*IQR\n",
    "print(lmax, lmin)"
   ]
  },
  {
   "cell_type": "markdown",
   "id": "306dbf67-c2e9-4134-b06d-b97aa27a11b1",
   "metadata": {},
   "source": [
    "We calculated the upper and lower bounds of emissions in two ways. The upper limit for both turned out to be the same ~ 3050"
   ]
  },
  {
   "cell_type": "code",
   "execution_count": 36,
   "id": "150ccbe6-a992-4d7d-8169-5a05795923e7",
   "metadata": {},
   "outputs": [
    {
     "name": "stdout",
     "output_type": "stream",
     "text": [
      "46897688.98162779 -4284281.515384737\n"
     ]
    }
   ],
   "source": [
    "mean = data['Price'].mean()\n",
    "var = 0\n",
    "for i in data['Price']:\n",
    "    var += (i - mean) * (i - mean)\n",
    "var /= len(data)\n",
    "std = var**0.5\n",
    "lmax = mean + std\n",
    "lmin = mean - std\n",
    "print(lmax, lmin)"
   ]
  },
  {
   "cell_type": "code",
   "execution_count": 37,
   "id": "221e5a14-4715-4749-97f2-084cf29398a7",
   "metadata": {},
   "outputs": [
    {
     "name": "stdout",
     "output_type": "stream",
     "text": [
      "55200000.0 -24000000.0\n"
     ]
    }
   ],
   "source": [
    "IQR = stats.iqr(data['Price'])\n",
    "lmin = data['Price'].quantile(0.25) - 1.5*IQR\n",
    "lmax = data['Price'].quantile(0.75) + 1.5*IQR\n",
    "print(lmax, lmin)"
   ]
  },
  {
   "cell_type": "markdown",
   "id": "e3c4b8ee-a6d3-4289-b910-2c9c66881915",
   "metadata": {},
   "source": [
    "We calculated the upper and lower bounds of emissions in two ways. The data differs significantly. The interquartile range method showed a higher value of the upper limit of emissions"
   ]
  },
  {
   "cell_type": "markdown",
   "id": "5ecb90cb-6c7a-4a7f-bd96-bd52e4381910",
   "metadata": {},
   "source": [
    "## Step 4"
   ]
  },
  {
   "cell_type": "markdown",
   "id": "c1f7e773-e93a-475b-9b53-6ab9734e0ae8",
   "metadata": {},
   "source": [
    "### Deleting the outliers"
   ]
  },
  {
   "cell_type": "code",
   "execution_count": 38,
   "id": "3b289bf5-13f7-4e7c-b78b-231baba0d1db",
   "metadata": {},
   "outputs": [
    {
     "data": {
      "text/plain": [
       "count    1192.000000\n",
       "mean     1222.496627\n",
       "std       618.191094\n",
       "min        28.000000\n",
       "25%       800.000000\n",
       "50%      1135.000000\n",
       "75%      1600.000000\n",
       "max      3050.000000\n",
       "Name: Area, dtype: float64"
      ]
     },
     "execution_count": 38,
     "metadata": {},
     "output_type": "execute_result"
    }
   ],
   "source": [
    "data = data.query('Area <= 3050.0')\n",
    "data['Area'].describe()"
   ]
  },
  {
   "cell_type": "code",
   "execution_count": 39,
   "id": "db95a608-8b45-481d-a759-bfbaeadf5f87",
   "metadata": {},
   "outputs": [
    {
     "data": {
      "text/plain": [
       "count    1.137000e+03\n",
       "mean     1.512976e+07\n",
       "std      1.216086e+07\n",
       "min      1.000000e+06\n",
       "25%      5.400000e+06\n",
       "50%      1.250000e+07\n",
       "75%      2.190000e+07\n",
       "max      5.500000e+07\n",
       "Name: Price, dtype: float64"
      ]
     },
     "execution_count": 39,
     "metadata": {},
     "output_type": "execute_result"
    }
   ],
   "source": [
    "data = data.query('Price <= 55200000')\n",
    "data['Price'].describe()"
   ]
  },
  {
   "cell_type": "code",
   "execution_count": 40,
   "id": "9135b04b-9049-4716-8096-611b8c26fb27",
   "metadata": {},
   "outputs": [
    {
     "data": {
      "text/plain": [
       "count    1096.000000\n",
       "mean        1.375000\n",
       "std         0.685715\n",
       "min         1.000000\n",
       "25%         1.000000\n",
       "50%         1.000000\n",
       "75%         2.000000\n",
       "max        10.000000\n",
       "Name: Parking, dtype: float64"
      ]
     },
     "execution_count": 40,
     "metadata": {},
     "output_type": "execute_result"
    }
   ],
   "source": [
    "data = data.query('Parking < 20')\n",
    "data['Parking'].describe()"
   ]
  },
  {
   "cell_type": "markdown",
   "id": "da235fc5-480a-46a1-b1c6-4deca7f96264",
   "metadata": {},
   "source": [
    "## Step 5"
   ]
  },
  {
   "cell_type": "markdown",
   "id": "6eb0cb7a-9258-4769-802a-10fbc4ba1fab",
   "metadata": {},
   "source": [
    "### Missing values"
   ]
  },
  {
   "cell_type": "code",
   "execution_count": 41,
   "id": "547ef952-ac09-48b0-84f5-7cef273431d8",
   "metadata": {},
   "outputs": [
    {
     "data": {
      "text/plain": [
       "Area             0\n",
       "BHK              0\n",
       "Bathroom         0\n",
       "Furnishing       1\n",
       "Locality         0\n",
       "Parking          0\n",
       "Price            0\n",
       "Status           0\n",
       "Transaction      0\n",
       "Type             1\n",
       "Per_Sqft       209\n",
       "type_size        0\n",
       "type_cost        0\n",
       "dtype: int64"
      ]
     },
     "execution_count": 41,
     "metadata": {},
     "output_type": "execute_result"
    }
   ],
   "source": [
    "data.isna().sum()"
   ]
  },
  {
   "cell_type": "markdown",
   "id": "d61719aa-5d8b-4f5f-8688-78ade0c63ca8",
   "metadata": {},
   "source": [
    "We see missing values in the columns. For Furnishing and Type, we will remove the gaps. There are too many of them in the Per_Sqft column, we can replace them with the median value"
   ]
  },
  {
   "cell_type": "code",
   "execution_count": 42,
   "id": "fa141310-3c51-4355-ab53-f31fcc964499",
   "metadata": {},
   "outputs": [],
   "source": [
    "data['Per_Sqft'] = data['Per_Sqft'].fillna(data['Per_Sqft'].median())\n",
    "data = data.dropna()"
   ]
  },
  {
   "cell_type": "code",
   "execution_count": 43,
   "id": "f2db5210-07f4-446d-aba4-8e50260b467c",
   "metadata": {},
   "outputs": [
    {
     "data": {
      "text/plain": [
       "Area           0\n",
       "BHK            0\n",
       "Bathroom       0\n",
       "Furnishing     0\n",
       "Locality       0\n",
       "Parking        0\n",
       "Price          0\n",
       "Status         0\n",
       "Transaction    0\n",
       "Type           0\n",
       "Per_Sqft       0\n",
       "type_size      0\n",
       "type_cost      0\n",
       "dtype: int64"
      ]
     },
     "execution_count": 43,
     "metadata": {},
     "output_type": "execute_result"
    }
   ],
   "source": [
    "data.isna().sum()"
   ]
  },
  {
   "cell_type": "markdown",
   "id": "a7818ad7-e747-4ecb-a9d5-0772158ce1f1",
   "metadata": {},
   "source": [
    "Now there are no gaps and the data is ready for analysis"
   ]
  },
  {
   "cell_type": "markdown",
   "id": "2bc0ee70-f68b-4a84-834c-b8e22728e8bd",
   "metadata": {},
   "source": [
    "## Step 6"
   ]
  },
  {
   "cell_type": "markdown",
   "id": "fd77a60e-7479-4ba9-bf26-f6b52411f1c7",
   "metadata": {},
   "source": [
    "### Building a correlation matrix"
   ]
  },
  {
   "cell_type": "code",
   "execution_count": 44,
   "id": "b669b47d-4bfa-4f7b-96b7-8095587c36d1",
   "metadata": {},
   "outputs": [
    {
     "data": {
      "image/png": "[encoded data removed]",
      "text/plain": [
       "<Figure size 640x480 with 2 Axes>"
      ]
     },
     "metadata": {},
     "output_type": "display_data"
    }
   ],
   "source": [
    "data_cor = data[['Area', 'BHK', 'Bathroom', 'Parking','Price']].corr()\n",
    "sns.heatmap(data_cor, annot = True)\n",
    "plt.show()"
   ]
  },
  {
   "cell_type": "markdown",
   "id": "1de96fcc-c156-4335-b9ec-7684ca185065",
   "metadata": {},
   "source": [
    "Using the correlation matrix, we see how much data correlates with each other. From the peculiarities, we see that Parking weakly correlates with other columns."
   ]
  },
  {
   "cell_type": "markdown",
   "id": "45bb559c-6aa5-4d9e-9353-d9e67129416d",
   "metadata": {},
   "source": [
    "## Step 7"
   ]
  },
  {
   "cell_type": "markdown",
   "id": "b5a85616-3c64-499f-9063-6345d6fb2fd4",
   "metadata": {},
   "source": [
    " ### Interpreting each correlation value in the matrix"
   ]
  },
  {
   "cell_type": "markdown",
   "id": "e01fd1cb-6dd4-4c4e-ac99-59f9079e9432",
   "metadata": {},
   "source": [
    "Strong linear correlations are seen between: 'Bathroom' & 'Area', 'Bathroom' & 'BHK', 'Price' & 'Area', 'Price' & 'Bathroom'. \n",
    "\n",
    "Moderate linear correlations are seen between: 'Area' & 'BHK', 'Price' & 'BHK'\n",
    "\n",
    "Weak linear correlation are seen between: Parking & others columns.\n",
    "\n",
    "This is logical; large properties have many rooms, a large price and area. In small ones it’s the other way around"
   ]
  },
  {
   "cell_type": "markdown",
   "id": "2cd8a2ff-7513-44f1-8910-e3ebb2ccd8cd",
   "metadata": {},
   "source": [
    "## Step 8"
   ]
  },
  {
   "cell_type": "markdown",
   "id": "50135e33-8681-4649-b8b6-68f5c829e9f4",
   "metadata": {},
   "source": [
    "### Plotting the scatter plots"
   ]
  },
  {
   "cell_type": "code",
   "execution_count": 45,
   "id": "a356e6ab-f33c-448b-9b30-9a808cb508a5",
   "metadata": {},
   "outputs": [
    {
     "data": {
      "image/png": "[encoded data removed]",
      "text/plain": [
       "<Figure size 1600x800 with 4 Axes>"
      ]
     },
     "metadata": {},
     "output_type": "display_data"
    }
   ],
   "source": [
    "fig, axs = plt.subplots(1, 4, sharey=True)\n",
    "data.plot(kind='scatter', x='Bathroom', y='Area', ax=axs[0], figsize = (16, 8))\n",
    "data.plot(kind='scatter', x='BHK', y='Area', ax=axs[1])\n",
    "data.plot(kind='scatter', x='Price', y='Area', ax=axs[2])\n",
    "data.plot(kind='scatter', x='Parking', y='Area', ax=axs[3])\n",
    "plt.show()"
   ]
  },
  {
   "cell_type": "code",
   "execution_count": 46,
   "id": "5bb3450b-3bc5-4833-b5bb-f1f023d8e998",
   "metadata": {},
   "outputs": [
    {
     "data": {
      "image/png": "[encoded data removed]",
      "text/plain": [
       "<Figure size 1600x800 with 3 Axes>"
      ]
     },
     "metadata": {},
     "output_type": "display_data"
    }
   ],
   "source": [
    "fig, axs = plt.subplots(1, 3, sharey=True)\n",
    "data.plot(kind='scatter', x='Bathroom', y='BHK', ax=axs[0], figsize = (16, 8))\n",
    "data.plot(kind='scatter', x='Parking', y='BHK', ax=axs[1])\n",
    "data.plot(kind='scatter', x='Price', y='BHK', ax=axs[2])\n",
    "plt.show()"
   ]
  },
  {
   "cell_type": "code",
   "execution_count": 47,
   "id": "f5423787-b889-412e-9acc-4622e069e348",
   "metadata": {},
   "outputs": [
    {
     "data": {
      "image/png": "[encoded data removed]",
      "text/plain": [
       "<Figure size 1600x800 with 2 Axes>"
      ]
     },
     "metadata": {},
     "output_type": "display_data"
    }
   ],
   "source": [
    "fig, axs = plt.subplots(1, 2, sharey=True)\n",
    "data.plot(kind='scatter', x='Price', y='Bathroom', ax=axs[0], figsize = (16, 8))\n",
    "data.plot(kind='scatter', x='Parking', y='Bathroom', ax=axs[1])\n",
    "plt.show()"
   ]
  },
  {
   "cell_type": "code",
   "execution_count": 48,
   "id": "dde2f398-1fb1-41dd-b5c9-29349869944b",
   "metadata": {},
   "outputs": [
    {
     "data": {
      "image/png": "[encoded data removed]",
      "text/plain": [
       "<Figure size 1600x800 with 1 Axes>"
      ]
     },
     "metadata": {},
     "output_type": "display_data"
    }
   ],
   "source": [
    "data.plot(kind='scatter', x='Parking', y='Price', figsize = (16, 8))\n",
    "plt.show()"
   ]
  },
  {
   "cell_type": "markdown",
   "id": "56a20030-2179-42b7-89a7-38d9c6492b51",
   "metadata": {},
   "source": [
    "# Stage Final"
   ]
  },
  {
   "cell_type": "markdown",
   "id": "4652a3cf-faee-409b-8aac-df59b7b5002a",
   "metadata": {},
   "source": [
    "## Using Linear Regression"
   ]
  },
  {
   "cell_type": "markdown",
   "id": "6405902d-8a58-4f4e-a533-726baef26d6e",
   "metadata": {},
   "source": [
    "First, we select the target feature and 2 experimental sets"
   ]
  },
  {
   "cell_type": "code",
   "execution_count": 49,
   "id": "08afda99-d593-44b4-b5d2-a991a5843303",
   "metadata": {},
   "outputs": [],
   "source": [
    "features_all = data[['Area', 'BHK', 'Bathroom', 'Parking', 'Per_Sqft']]\n",
    "target = data['Price']\n",
    "features_cor = data[['Area', 'BHK', 'Bathroom']]"
   ]
  },
  {
   "cell_type": "markdown",
   "id": "27b10570-31a2-4d73-a7fd-8d1f2e500c52",
   "metadata": {},
   "source": [
    "Next, we need to divide the samples into test and training for both experiments"
   ]
  },
  {
   "cell_type": "code",
   "execution_count": 50,
   "id": "dbbe0718-eb1c-4f60-8247-56b428075e52",
   "metadata": {},
   "outputs": [],
   "source": [
    "features_train_all, features_test_all, target_train_all, target_test_all = train_test_split(\n",
    "    features_all, target, test_size=0.20)\n",
    "\n",
    "features_train_cor, features_test_cor, target_train_cor, target_test_cor = train_test_split(\n",
    "    features_cor, target, test_size=0.20)"
   ]
  },
  {
   "cell_type": "markdown",
   "id": "1d855b3f-4c2f-4dbb-89a0-42711991bade",
   "metadata": {},
   "source": [
    "We use a linear regression model. First, we train the model on the training set and then make predictions on the test set. Let’s calculate metrics based on these data and compare the results of the two models."
   ]
  },
  {
   "cell_type": "code",
   "execution_count": 51,
   "id": "7314600f-3c0e-463f-95c4-7aa6f1d21bf0",
   "metadata": {},
   "outputs": [
    {
     "name": "stdout",
     "output_type": "stream",
     "text": [
      "57885093009263.63\n",
      "0.681388595223434\n"
     ]
    }
   ],
   "source": [
    "model = LinearRegression()\n",
    "model.fit(features_train_all, target_train_all)\n",
    "predictions_valid = model.predict(features_test_all)\n",
    "result_mse = mean_squared_error(target_test_all, predictions_valid)\n",
    "result_r2 = r2_score(target_test_all, predictions_valid)\n",
    "print(result_mse)\n",
    "print(result_r2)"
   ]
  },
  {
   "cell_type": "code",
   "execution_count": 52,
   "id": "f88e639c-ff26-4d5e-99bd-751d9a6a5876",
   "metadata": {},
   "outputs": [
    {
     "name": "stdout",
     "output_type": "stream",
     "text": [
      "61382156241094.38\n",
      "0.6245458132739288\n"
     ]
    }
   ],
   "source": [
    "model = LinearRegression()\n",
    "model.fit(features_train_cor, target_train_cor)\n",
    "predictions_valid = model.predict(features_test_cor)\n",
    "result_mse = mean_squared_error(target_test_cor, predictions_valid)\n",
    "result_r2 = r2_score(target_test_cor, predictions_valid)\n",
    "print(result_mse)\n",
    "print(result_r2)"
   ]
  },
  {
   "cell_type": "markdown",
   "id": "b0618b13-15ba-4fc8-9935-e691e4c7930d",
   "metadata": {},
   "source": [
    "As we can see, the sample with all numerical features turned out to be better than the model with correlation features."
   ]
  },
  {
   "cell_type": "markdown",
   "id": "83b69de2-7744-4ffb-9846-ebb06202ccad",
   "metadata": {},
   "source": [
    "# Conclusion"
   ]
  },
  {
   "cell_type": "markdown",
   "id": "6ac73fa2-3343-46cf-a1c3-ba951edd9e65",
   "metadata": {},
   "source": [
    "In this project work, we studied and processed data based on real estate in India in detail.\n",
    "- First, we preprocessed the data and brought it to a working state.\n",
    "- Next, we conducted an exploratory analysis and clearly saw some patterns and distribution of data.\n",
    "- In the end, we trained the model based on the test and training set and predicted the price of the object. The model based on all numerical  features performed better."
   ]
  }
 ],
 "metadata": {
  "kernelspec": {
   "display_name": "Python 3 (ipykernel)",
   "language": "python",
   "name": "python3"
  },
  "language_info": {
   "codemirror_mode": {
    "name": "ipython",
    "version": 3
   },
   "file_extension": ".py",
   "mimetype": "text/x-python",
   "name": "python",
   "nbconvert_exporter": "python",
   "pygments_lexer": "ipython3",
   "version": "3.9.13"
  }
 },
 "nbformat": 4,
 "nbformat_minor": 5
}
