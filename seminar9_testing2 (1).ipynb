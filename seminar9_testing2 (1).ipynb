{
 "cells": [
  {
   "cell_type": "markdown",
   "metadata": {
    "id": "9YFCtrj1lMzp"
   },
   "source": [
    "# Hypothesis testing 2\n",
    "\n",
    "We will be working with data gathered for Korean citizens. This dataset is concerned with respondent's household income and various socio-economic features:\n",
    "\n",
    "There are 14 columns in data;\n",
    "\n",
    "* **id**\n",
    "* **year** study was conducted\n",
    "* **wave** from wave 1st in 2005 to wave 14th in 2018\n",
    "* **region** 1) Seoul 2) Kyeong-gi 3) Kyoung-nam 4) Kyoung-buk 5) Chung-nam 6) Gang-won & Chung-buk 7) Jeolla & Jeju\n",
    "* **income** yearly income in M KRW(Million Korean Won. 1100 KRW = 1 USD)\n",
    "* **family_member** number of family members\n",
    "* **gender** 1) male 2) female\n",
    "* **year_born**\n",
    "* **education_level** 1) no education(under 7 yrs-old) 2) no education(7 & over 7 yrs-old) 3) elementary 4) middle school 5) high school 6) college 7) university degree 8) MA 9) doctoral degree\n",
    "* **marriage** marital status. 1) not applicable (under 18) 2) married 3) separated by death 4) separated 5) not married yet 6) others\n",
    "* **religion** 1) have religion 2) do not have\n",
    "* **occupation** this is provided in separate code book (we will not use this one)\n",
    "* **company_size**\n",
    "* **reason_none_worker** 1) not capable 2) in military service 3) studying in school 4) preparing for school 5) preparing to apply for a job 6) house worker 7) caring for kids at home 8) nursing 9) giving-up economic activities 10) no intention to work 11) others"
   ]
  },
  {
   "cell_type": "code",
   "execution_count": 1,
   "metadata": {},
   "outputs": [],
   "source": [
    "import pandas as pd\n",
    "from scipy import stats"
   ]
  },
  {
   "cell_type": "code",
   "execution_count": 2,
   "metadata": {
    "colab": {
     "base_uri": "https://localhost:8080/",
     "height": 226
    },
    "id": "EpF0sf-onGKG",
    "outputId": "8fcaec86-16a8-4443-c23c-6a53c86786f7"
   },
   "outputs": [
    {
     "data": {
      "text/html": [
       "<div>\n",
       "<style scoped>\n",
       "    .dataframe tbody tr th:only-of-type {\n",
       "        vertical-align: middle;\n",
       "    }\n",
       "\n",
       "    .dataframe tbody tr th {\n",
       "        vertical-align: top;\n",
       "    }\n",
       "\n",
       "    .dataframe thead th {\n",
       "        text-align: right;\n",
       "    }\n",
       "</style>\n",
       "<table border=\"1\" class=\"dataframe\">\n",
       "  <thead>\n",
       "    <tr style=\"text-align: right;\">\n",
       "      <th></th>\n",
       "      <th>id</th>\n",
       "      <th>year</th>\n",
       "      <th>wave</th>\n",
       "      <th>region</th>\n",
       "      <th>income</th>\n",
       "      <th>family_member</th>\n",
       "      <th>gender</th>\n",
       "      <th>year_born</th>\n",
       "      <th>education_level</th>\n",
       "      <th>marriage</th>\n",
       "      <th>religion</th>\n",
       "      <th>occupation</th>\n",
       "      <th>company_size</th>\n",
       "      <th>reason_none_worker</th>\n",
       "    </tr>\n",
       "  </thead>\n",
       "  <tbody>\n",
       "    <tr>\n",
       "      <th>0</th>\n",
       "      <td>10101</td>\n",
       "      <td>2005</td>\n",
       "      <td>1</td>\n",
       "      <td>1</td>\n",
       "      <td>614.0</td>\n",
       "      <td>1</td>\n",
       "      <td>2</td>\n",
       "      <td>1936</td>\n",
       "      <td>2</td>\n",
       "      <td>2</td>\n",
       "      <td>2</td>\n",
       "      <td></td>\n",
       "      <td></td>\n",
       "      <td>8</td>\n",
       "    </tr>\n",
       "    <tr>\n",
       "      <th>1</th>\n",
       "      <td>10101</td>\n",
       "      <td>2011</td>\n",
       "      <td>7</td>\n",
       "      <td>1</td>\n",
       "      <td>896.0</td>\n",
       "      <td>1</td>\n",
       "      <td>2</td>\n",
       "      <td>1936</td>\n",
       "      <td>2</td>\n",
       "      <td>2</td>\n",
       "      <td>2</td>\n",
       "      <td></td>\n",
       "      <td></td>\n",
       "      <td>10</td>\n",
       "    </tr>\n",
       "    <tr>\n",
       "      <th>2</th>\n",
       "      <td>10101</td>\n",
       "      <td>2012</td>\n",
       "      <td>8</td>\n",
       "      <td>1</td>\n",
       "      <td>1310.0</td>\n",
       "      <td>1</td>\n",
       "      <td>2</td>\n",
       "      <td>1936</td>\n",
       "      <td>2</td>\n",
       "      <td>2</td>\n",
       "      <td>2</td>\n",
       "      <td></td>\n",
       "      <td></td>\n",
       "      <td>10</td>\n",
       "    </tr>\n",
       "    <tr>\n",
       "      <th>3</th>\n",
       "      <td>10101</td>\n",
       "      <td>2013</td>\n",
       "      <td>9</td>\n",
       "      <td>1</td>\n",
       "      <td>2208.0</td>\n",
       "      <td>1</td>\n",
       "      <td>2</td>\n",
       "      <td>1936</td>\n",
       "      <td>2</td>\n",
       "      <td>2</td>\n",
       "      <td>2</td>\n",
       "      <td></td>\n",
       "      <td></td>\n",
       "      <td>1</td>\n",
       "    </tr>\n",
       "    <tr>\n",
       "      <th>4</th>\n",
       "      <td>10101</td>\n",
       "      <td>2014</td>\n",
       "      <td>10</td>\n",
       "      <td>1</td>\n",
       "      <td>864.0</td>\n",
       "      <td>1</td>\n",
       "      <td>2</td>\n",
       "      <td>1936</td>\n",
       "      <td>2</td>\n",
       "      <td>2</td>\n",
       "      <td>2</td>\n",
       "      <td></td>\n",
       "      <td></td>\n",
       "      <td>10</td>\n",
       "    </tr>\n",
       "  </tbody>\n",
       "</table>\n",
       "</div>"
      ],
      "text/plain": [
       "      id  year  wave  region  income  family_member  gender  year_born  \\\n",
       "0  10101  2005     1       1   614.0              1       2       1936   \n",
       "1  10101  2011     7       1   896.0              1       2       1936   \n",
       "2  10101  2012     8       1  1310.0              1       2       1936   \n",
       "3  10101  2013     9       1  2208.0              1       2       1936   \n",
       "4  10101  2014    10       1   864.0              1       2       1936   \n",
       "\n",
       "   education_level  marriage  religion occupation company_size  \\\n",
       "0                2         2         2                           \n",
       "1                2         2         2                           \n",
       "2                2         2         2                           \n",
       "3                2         2         2                           \n",
       "4                2         2         2                           \n",
       "\n",
       "  reason_none_worker  \n",
       "0                  8  \n",
       "1                 10  \n",
       "2                 10  \n",
       "3                  1  \n",
       "4                 10  "
      ]
     },
     "execution_count": 2,
     "metadata": {},
     "output_type": "execute_result"
    }
   ],
   "source": [
    "df = pd.read_csv('https://raw.githubusercontent.com/rogovich/Data/master/data/Korea%20Income%20and%20Welfare.csv')\n",
    "df.head()"
   ]
  },
  {
   "cell_type": "code",
   "execution_count": 3,
   "metadata": {
    "colab": {
     "base_uri": "https://localhost:8080/"
    },
    "id": "El-bPESSnrQh",
    "outputId": "3cc1d112-3de4-49ea-9f76-34e6c4ff7f8a"
   },
   "outputs": [
    {
     "name": "stdout",
     "output_type": "stream",
     "text": [
      "<class 'pandas.core.frame.DataFrame'>\n",
      "RangeIndex: 92857 entries, 0 to 92856\n",
      "Data columns (total 14 columns):\n",
      " #   Column              Non-Null Count  Dtype  \n",
      "---  ------              --------------  -----  \n",
      " 0   id                  92857 non-null  int64  \n",
      " 1   year                92857 non-null  int64  \n",
      " 2   wave                92857 non-null  int64  \n",
      " 3   region              92857 non-null  int64  \n",
      " 4   income              92857 non-null  float64\n",
      " 5   family_member       92857 non-null  int64  \n",
      " 6   gender              92857 non-null  int64  \n",
      " 7   year_born           92857 non-null  int64  \n",
      " 8   education_level     92857 non-null  int64  \n",
      " 9   marriage            92857 non-null  int64  \n",
      " 10  religion            92857 non-null  int64  \n",
      " 11  occupation          92857 non-null  object \n",
      " 12  company_size        92857 non-null  object \n",
      " 13  reason_none_worker  92857 non-null  object \n",
      "dtypes: float64(1), int64(10), object(3)\n",
      "memory usage: 9.9+ MB\n"
     ]
    }
   ],
   "source": [
    "df.info()"
   ]
  },
  {
   "cell_type": "markdown",
   "metadata": {},
   "source": [
    "## One-sample t-test\n",
    "\n",
    "Suppose we are conducting study for our sales department. We want to enter national market and therefore we are interested in Koreans' average salary. Let's compute it:"
   ]
  },
  {
   "cell_type": "code",
   "execution_count": 4,
   "metadata": {},
   "outputs": [
    {
     "data": {
      "text/plain": [
       "3441.1223268686776"
      ]
     },
     "execution_count": 4,
     "metadata": {},
     "output_type": "execute_result"
    }
   ],
   "source": [
    "income_average = df['income'].mean()\n",
    "income_average"
   ]
  },
  {
   "cell_type": "markdown",
   "metadata": {},
   "source": [
    "We've computed it, but we want to add pretty round value in our report, not this one. For example, we round 3441 to 3500. Is it justifiable from statistical perspective? It's time to check. We have \"real\" mean already. Now remind the formula:\n",
    "\n",
    "$\\frac{M - \\mu}{SEM}\\$,\n",
    "\n",
    "where $\\mu$ is theoretical population mean (3500 in our case), $M$ is \"real\" mean, $SEM$ is standard mean error ($\\frac{std}{\\sqrt{n}}\\$)."
   ]
  },
  {
   "cell_type": "code",
   "execution_count": 5,
   "metadata": {},
   "outputs": [
    {
     "data": {
      "text/plain": [
       "-58.877673131322354"
      ]
     },
     "execution_count": 5,
     "metadata": {},
     "output_type": "execute_result"
    }
   ],
   "source": [
    "theoretic_mean = 3500\n",
    "\n",
    "difference = income_average - theoretic_mean\n",
    "difference"
   ]
  },
  {
   "cell_type": "markdown",
   "metadata": {},
   "source": [
    "So, we've computed difference between 'real' and 'theoretic' means: nearly 59. Now we have two alternatives:\n",
    "\n",
    "1. This difference between 'real' (sample) and 'theoretic' (general) means emerged by chance;\n",
    "2. This difference between 'real' (sample) and 'theoretic' (general) means is too extreme to occur accidentally.\n",
    "\n",
    "Let's take first variant as a starting point. What is a probability to get such a difference by chance? To answer this question, we'd probably like to know what is regarded as an \"extreme\" difference. This [table](https://www.tdistributiontable.com/) will show us the answer."
   ]
  },
  {
   "cell_type": "code",
   "execution_count": 6,
   "metadata": {},
   "outputs": [
    {
     "name": "stdout",
     "output_type": "stream",
     "text": [
      "-4.295994574110945\n"
     ]
    }
   ],
   "source": [
    "SEM = df['income'].std() / (df['income']. size ** (1 / 2))\n",
    "\n",
    "statistic = difference / SEM\n",
    "\n",
    "print(statistic)"
   ]
  },
  {
   "cell_type": "markdown",
   "metadata": {},
   "source": [
    "Now we should interpret this statistic. Let's use the [table](https://www.tdistributiontable.com/).\n",
    "\n",
    "By the way, to answer this question we could use function from `scipy.stats` module called `ttest_1samp`:"
   ]
  },
  {
   "cell_type": "code",
   "execution_count": 7,
   "metadata": {},
   "outputs": [
    {
     "data": {
      "text/plain": [
       "TtestResult(statistic=-4.295994574110945, pvalue=8.70441723081711e-06, df=92856)"
      ]
     },
     "execution_count": 7,
     "metadata": {},
     "output_type": "execute_result"
    }
   ],
   "source": [
    "stats.ttest_1samp(\n",
    "    df['income'].values,  # sample from which we derive sample mean\n",
    "    theoretic_mean,       # theoretic mean\n",
    "    alternative='less'    # alternative hypothesis. Initial hypothesis is that theoretic (3500) is HIGHER than sample (3441), so the\n",
    "                          # the alternative is LESS\n",
    ")\n",
    "# statistic value should be taken as an absolute because normal distibution is symmetric"
   ]
  },
  {
   "cell_type": "markdown",
   "metadata": {},
   "source": [
    "## Independent (Two) samples t-test\n",
    "\n",
    "Now let's consider two samples: males' and females' income in 2018:"
   ]
  },
  {
   "cell_type": "code",
   "execution_count": 8,
   "metadata": {},
   "outputs": [
    {
     "data": {
      "text/html": [
       "<div>\n",
       "<style scoped>\n",
       "    .dataframe tbody tr th:only-of-type {\n",
       "        vertical-align: middle;\n",
       "    }\n",
       "\n",
       "    .dataframe tbody tr th {\n",
       "        vertical-align: top;\n",
       "    }\n",
       "\n",
       "    .dataframe thead th {\n",
       "        text-align: right;\n",
       "    }\n",
       "</style>\n",
       "<table border=\"1\" class=\"dataframe\">\n",
       "  <thead>\n",
       "    <tr style=\"text-align: right;\">\n",
       "      <th></th>\n",
       "      <th>id</th>\n",
       "      <th>year</th>\n",
       "      <th>wave</th>\n",
       "      <th>region</th>\n",
       "      <th>income</th>\n",
       "      <th>family_member</th>\n",
       "      <th>gender</th>\n",
       "      <th>year_born</th>\n",
       "      <th>education_level</th>\n",
       "      <th>marriage</th>\n",
       "      <th>religion</th>\n",
       "      <th>occupation</th>\n",
       "      <th>company_size</th>\n",
       "      <th>reason_none_worker</th>\n",
       "    </tr>\n",
       "  </thead>\n",
       "  <tbody>\n",
       "    <tr>\n",
       "      <th>0</th>\n",
       "      <td>10101</td>\n",
       "      <td>2005</td>\n",
       "      <td>1</td>\n",
       "      <td>1</td>\n",
       "      <td>614.0</td>\n",
       "      <td>1</td>\n",
       "      <td>2</td>\n",
       "      <td>1936</td>\n",
       "      <td>2</td>\n",
       "      <td>2</td>\n",
       "      <td>2</td>\n",
       "      <td></td>\n",
       "      <td></td>\n",
       "      <td>8</td>\n",
       "    </tr>\n",
       "    <tr>\n",
       "      <th>1</th>\n",
       "      <td>10101</td>\n",
       "      <td>2011</td>\n",
       "      <td>7</td>\n",
       "      <td>1</td>\n",
       "      <td>896.0</td>\n",
       "      <td>1</td>\n",
       "      <td>2</td>\n",
       "      <td>1936</td>\n",
       "      <td>2</td>\n",
       "      <td>2</td>\n",
       "      <td>2</td>\n",
       "      <td></td>\n",
       "      <td></td>\n",
       "      <td>10</td>\n",
       "    </tr>\n",
       "    <tr>\n",
       "      <th>2</th>\n",
       "      <td>10101</td>\n",
       "      <td>2012</td>\n",
       "      <td>8</td>\n",
       "      <td>1</td>\n",
       "      <td>1310.0</td>\n",
       "      <td>1</td>\n",
       "      <td>2</td>\n",
       "      <td>1936</td>\n",
       "      <td>2</td>\n",
       "      <td>2</td>\n",
       "      <td>2</td>\n",
       "      <td></td>\n",
       "      <td></td>\n",
       "      <td>10</td>\n",
       "    </tr>\n",
       "    <tr>\n",
       "      <th>3</th>\n",
       "      <td>10101</td>\n",
       "      <td>2013</td>\n",
       "      <td>9</td>\n",
       "      <td>1</td>\n",
       "      <td>2208.0</td>\n",
       "      <td>1</td>\n",
       "      <td>2</td>\n",
       "      <td>1936</td>\n",
       "      <td>2</td>\n",
       "      <td>2</td>\n",
       "      <td>2</td>\n",
       "      <td></td>\n",
       "      <td></td>\n",
       "      <td>1</td>\n",
       "    </tr>\n",
       "    <tr>\n",
       "      <th>4</th>\n",
       "      <td>10101</td>\n",
       "      <td>2014</td>\n",
       "      <td>10</td>\n",
       "      <td>1</td>\n",
       "      <td>864.0</td>\n",
       "      <td>1</td>\n",
       "      <td>2</td>\n",
       "      <td>1936</td>\n",
       "      <td>2</td>\n",
       "      <td>2</td>\n",
       "      <td>2</td>\n",
       "      <td></td>\n",
       "      <td></td>\n",
       "      <td>10</td>\n",
       "    </tr>\n",
       "  </tbody>\n",
       "</table>\n",
       "</div>"
      ],
      "text/plain": [
       "      id  year  wave  region  income  family_member  gender  year_born  \\\n",
       "0  10101  2005     1       1   614.0              1       2       1936   \n",
       "1  10101  2011     7       1   896.0              1       2       1936   \n",
       "2  10101  2012     8       1  1310.0              1       2       1936   \n",
       "3  10101  2013     9       1  2208.0              1       2       1936   \n",
       "4  10101  2014    10       1   864.0              1       2       1936   \n",
       "\n",
       "   education_level  marriage  religion occupation company_size  \\\n",
       "0                2         2         2                           \n",
       "1                2         2         2                           \n",
       "2                2         2         2                           \n",
       "3                2         2         2                           \n",
       "4                2         2         2                           \n",
       "\n",
       "  reason_none_worker  \n",
       "0                  8  \n",
       "1                 10  \n",
       "2                 10  \n",
       "3                  1  \n",
       "4                 10  "
      ]
     },
     "execution_count": 8,
     "metadata": {},
     "output_type": "execute_result"
    }
   ],
   "source": [
    "df.head()"
   ]
  },
  {
   "cell_type": "code",
   "execution_count": 9,
   "metadata": {},
   "outputs": [
    {
     "name": "stdout",
     "output_type": "stream",
     "text": [
      "5414.0 2089.0\n"
     ]
    }
   ],
   "source": [
    "male_income2018 = df[(df['gender'] == 1) & (df['year'] == 2018)]['income'].values\n",
    "female_income2018 = df[(df['gender'] == 2) & (df['year'] == 2018)]['income'].values\n",
    "\n",
    "print(male_income2018.mean().round(), female_income2018.mean().round())"
   ]
  },
  {
   "cell_type": "markdown",
   "metadata": {},
   "source": [
    "We are going to test the hypothesis that these means are not equal. In the case our null and alternative hypotheses will be as follows:\n",
    "\n",
    "$ H_0: \\mu_{male} = \\mu_{female} $\n",
    "\n",
    "$ H_a: \\mu_{male} \\neq \\mu_{female} $\n",
    "\n",
    "First, we should select critical values of statistic that will be regarded as \"extreme\". From theory we know that statistics has t-distribution with degrees of freedom (df) equals to (`n + m - 2`), where `n` and `m` are sample sizes. We again consult [t-distribution table](https://www.tdistributiontable.com/) to find appropriate values:"
   ]
  },
  {
   "cell_type": "code",
   "execution_count": 10,
   "metadata": {},
   "outputs": [],
   "source": [
    "n = male_income2018.size\n",
    "m = female_income2018.size\n",
    "degrees_of_freedom = n + m - 2"
   ]
  },
  {
   "cell_type": "markdown",
   "metadata": {},
   "source": [
    "In `df` column we should choose `Z` value as our `degrees_of_freedom` is higher than 1000. To select critical \"extreme\" values, let us initially set the alpha level to traditional 5% (0.05). Since our alternative hypothesis is two-sided ($\\mu_{male} \\neq \\mu_{female}$, not <b>>=</b> or <b><=</b>), we can have both extremely low and extremely high values. Therefore, our critical points should have area of 0.025 from the left and from the right (0.05 / 2 -> 0.025) accordingly:\n",
    "\n",
    "critical_left: -1.96<br>\n",
    "critical_right: 1.96\n",
    "\n",
    "Again, we could use `stats` module instead of table to find critical values:"
   ]
  },
  {
   "cell_type": "code",
   "execution_count": 11,
   "metadata": {},
   "outputs": [
    {
     "data": {
      "text/plain": [
       "array([-1.95996398,  1.95996398])"
      ]
     },
     "execution_count": 11,
     "metadata": {},
     "output_type": "execute_result"
    }
   ],
   "source": [
    "statistic_distrib = stats.norm(  # t-distribution -> standard normal distribution with large n\n",
    "    0,  # mean\n",
    "    1   # std\n",
    ")\n",
    "\n",
    "critical_points = statistic_distrib.ppf(  # computes points based on area ONLY from the left\n",
    "    [\n",
    "        0.025,    # left area to compute LEFT critical point\n",
    "        1 - 0.025 # left area to compute RIGHT critical point\n",
    "    ]\n",
    ")\n",
    "\n",
    "critical_points"
   ]
  },
  {
   "cell_type": "markdown",
   "metadata": {},
   "source": [
    "After we've defined critical points, time to compute real statistic value according to the formula:"
   ]
  },
  {
   "cell_type": "code",
   "execution_count": 12,
   "metadata": {
    "scrolled": true
   },
   "outputs": [
    {
     "name": "stdout",
     "output_type": "stream",
     "text": [
      "37.65280731063825\n"
     ]
    }
   ],
   "source": [
    "difference = male_income2018.mean() - female_income2018.mean()\n",
    "SEM = (male_income2018.var(ddof=1) / male_income2018.size + female_income2018.var(ddof=1) / female_income2018.size) ** (1 / 2)\n",
    "\n",
    "statistic = difference / SEM\n",
    "\n",
    "print(statistic)  # really extreme..."
   ]
  },
  {
   "cell_type": "code",
   "execution_count": 13,
   "metadata": {},
   "outputs": [
    {
     "data": {
      "text/plain": [
       "TtestResult(statistic=37.65280731063825, pvalue=1.6932116672305666e-278, df=5952.8172540662)"
      ]
     },
     "execution_count": 13,
     "metadata": {},
     "output_type": "execute_result"
    }
   ],
   "source": [
    "# use stats again to test the same\n",
    "stats.ttest_ind(\n",
    "    male_income2018,         # first sample\n",
    "    female_income2018,       # second sample\n",
    "    alternative='two-sided', # alternative hypothesis type\n",
    "    equal_var=False          # special option\n",
    ")"
   ]
  },
  {
   "cell_type": "markdown",
   "metadata": {},
   "source": [
    "## Confidence intervals"
   ]
  },
  {
   "cell_type": "code",
   "execution_count": 14,
   "metadata": {},
   "outputs": [
    {
     "name": "stdout",
     "output_type": "stream",
     "text": [
      "1996.251856561804 2089.102809765085 2181.9537629683664\n"
     ]
    }
   ],
   "source": [
    "mean_fi18 = female_income2018.mean()\n",
    "alpha = 0.05\n",
    "z = statistic_distrib.ppf(1 - alpha / 2)\n",
    "SEM = mean_fi18 / female_income2018.std() ** (1 / 2)\n",
    "\n",
    "left_border = mean_fi18 - z * SEM\n",
    "right_border = mean_fi18 + z * SEM\n",
    "\n",
    "print(left_border, mean_fi18, right_border)"
   ]
  },
  {
   "cell_type": "markdown",
   "metadata": {
    "id": "Qze4MDd_xwvZ"
   },
   "source": [
    "## Chi-Square test for Independence\n",
    "\n",
    "Let's investigate a slightly more complicated question: **is there some relationship between gender and education level?** Both of those variables have categories. Let's filter only the data we need and also let's take only the year 2018.\n",
    "\n",
    "We also convert our frequency table to the contigency table format via `.unstack()` method."
   ]
  },
  {
   "cell_type": "code",
   "execution_count": 15,
   "metadata": {
    "id": "46p2P4hAwsYX"
   },
   "outputs": [],
   "source": [
    "data_edu_gender = df[df['year'] == 2018].groupby('education_level')['gender'].value_counts().unstack()"
   ]
  },
  {
   "cell_type": "markdown",
   "metadata": {
    "id": "IbJTsffD00Tg"
   },
   "source": [
    "So, we have the following observed frequencies:"
   ]
  },
  {
   "cell_type": "code",
   "execution_count": 16,
   "metadata": {
    "colab": {
     "base_uri": "https://localhost:8080/",
     "height": 331
    },
    "id": "Al-N7rLq0Ffd",
    "outputId": "fefda04c-4af8-49af-9253-381e10708329"
   },
   "outputs": [
    {
     "data": {
      "text/html": [
       "<div>\n",
       "<style scoped>\n",
       "    .dataframe tbody tr th:only-of-type {\n",
       "        vertical-align: middle;\n",
       "    }\n",
       "\n",
       "    .dataframe tbody tr th {\n",
       "        vertical-align: top;\n",
       "    }\n",
       "\n",
       "    .dataframe thead th {\n",
       "        text-align: right;\n",
       "    }\n",
       "</style>\n",
       "<table border=\"1\" class=\"dataframe\">\n",
       "  <thead>\n",
       "    <tr style=\"text-align: right;\">\n",
       "      <th>gender</th>\n",
       "      <th>1</th>\n",
       "      <th>2</th>\n",
       "    </tr>\n",
       "    <tr>\n",
       "      <th>education_level</th>\n",
       "      <th></th>\n",
       "      <th></th>\n",
       "    </tr>\n",
       "  </thead>\n",
       "  <tbody>\n",
       "    <tr>\n",
       "      <th>2</th>\n",
       "      <td>114</td>\n",
       "      <td>528</td>\n",
       "    </tr>\n",
       "    <tr>\n",
       "      <th>3</th>\n",
       "      <td>640</td>\n",
       "      <td>797</td>\n",
       "    </tr>\n",
       "    <tr>\n",
       "      <th>4</th>\n",
       "      <td>571</td>\n",
       "      <td>292</td>\n",
       "    </tr>\n",
       "    <tr>\n",
       "      <th>5</th>\n",
       "      <td>1396</td>\n",
       "      <td>329</td>\n",
       "    </tr>\n",
       "    <tr>\n",
       "      <th>6</th>\n",
       "      <td>392</td>\n",
       "      <td>81</td>\n",
       "    </tr>\n",
       "    <tr>\n",
       "      <th>7</th>\n",
       "      <td>873</td>\n",
       "      <td>123</td>\n",
       "    </tr>\n",
       "    <tr>\n",
       "      <th>8</th>\n",
       "      <td>152</td>\n",
       "      <td>15</td>\n",
       "    </tr>\n",
       "    <tr>\n",
       "      <th>9</th>\n",
       "      <td>22</td>\n",
       "      <td>6</td>\n",
       "    </tr>\n",
       "  </tbody>\n",
       "</table>\n",
       "</div>"
      ],
      "text/plain": [
       "gender              1    2\n",
       "education_level           \n",
       "2                 114  528\n",
       "3                 640  797\n",
       "4                 571  292\n",
       "5                1396  329\n",
       "6                 392   81\n",
       "7                 873  123\n",
       "8                 152   15\n",
       "9                  22    6"
      ]
     },
     "execution_count": 16,
     "metadata": {},
     "output_type": "execute_result"
    }
   ],
   "source": [
    "data_edu_gender"
   ]
  },
  {
   "cell_type": "markdown",
   "metadata": {
    "id": "Vle0Wa_p-psX"
   },
   "source": [
    "Here is a reminder how `education_level` is coded:\n",
    "\n",
    "* **education_level** 1) no education(under 7 yrs-old) 2) no education(7 & over 7 yrs-old) 3) elementary 4) middle school 5) high school 6) college 7) university degree 8) MA 9) doctoral degree"
   ]
  },
  {
   "cell_type": "markdown",
   "metadata": {
    "id": "hBKuON-H1ZnB"
   },
   "source": [
    "Let's formulate hypotheses:\n",
    "\n",
    "**Null hypothesis ($H_0$)**: For the general population in 2018 of Koreans there was no relationship between gender and education level.\n",
    "\n",
    "**Alternative hypothesis ($H_1$)**: For the general population of Koreans in 2018 there was a relationship between gender and education level.\n",
    "\n",
    "Now we need to choose an **alpha level** and calculate the degrees of freedom. Let's do the rigorous test and choose **$\\alpha = 0.05$**. This means that there is a 5% chance to make a mistake in our conclusion about population due to the 'unfortunate' sampling.\n",
    "\n",
    "Next step is to calculate **degrees of freedom**.\n",
    "\n",
    "For Chi-square test of Independence we do it like this:\n",
    "$df = (C - 1)(R - 1)$ where $C$ is the number of columns, and $R$ is number of rows."
   ]
  },
  {
   "cell_type": "code",
   "execution_count": 17,
   "metadata": {
    "colab": {
     "base_uri": "https://localhost:8080/"
    },
    "id": "1bfvRAhJ0G1A",
    "outputId": "9178b493-8f6a-4aba-be22-af999bdd4cf8"
   },
   "outputs": [
    {
     "data": {
      "text/plain": [
       "7"
      ]
     },
     "execution_count": 17,
     "metadata": {},
     "output_type": "execute_result"
    }
   ],
   "source": [
    "ddof = (data_edu_gender.shape[1] - 1) * (data_edu_gender.shape[0] - 1)\n",
    "ddof"
   ]
  },
  {
   "cell_type": "markdown",
   "metadata": {
    "id": "xFxXm_VG2JPS"
   },
   "source": [
    "Now we need to look up Chi-square value that would be enough for us to reject a null hypothesis. Let's find it in the [table](https://people.richland.edu/james/lecture/m170/tbl-chi.html).\n",
    "\n",
    "The value separating critical region is $\\chi^2 = 14.067$.\n",
    "\n",
    "Let's update our function for hypothesis check:"
   ]
  },
  {
   "cell_type": "code",
   "execution_count": 18,
   "metadata": {
    "id": "w9U-Ccn51-82"
   },
   "outputs": [],
   "source": [
    "def check_hypothesis(chi_square):\n",
    "    if chi_square < 14.067:\n",
    "        print('Null hypothesis is not rejected')\n",
    "    else:\n",
    "        print('Null hypothesis is rejected')"
   ]
  },
  {
   "cell_type": "markdown",
   "metadata": {
    "id": "wykzdo4k2lbT"
   },
   "source": [
    "The next step would be to find expected frequencies for each cell of our contigency table. Here it would be a tedious process but let's do one row for example. Let's consider category 9 — doctoral degrees.\n",
    "\n",
    "First, we need to find four numbers:\n",
    "* total number of respondents\n",
    "* 1st column total (all men)\n",
    "* 2nd column total (all women)\n",
    "* row total (all respondents with doctoral degree)\n"
   ]
  },
  {
   "cell_type": "code",
   "execution_count": 19,
   "metadata": {
    "colab": {
     "base_uri": "https://localhost:8080/"
    },
    "id": "YNHelMoc_Ftm",
    "outputId": "ed6aa871-c947-4bc3-c776-029c12c91234"
   },
   "outputs": [
    {
     "name": "stdout",
     "output_type": "stream",
     "text": [
      "6331 4160 2171 28\n"
     ]
    }
   ],
   "source": [
    "total = data_edu_gender.sum().sum()\n",
    "men = data_edu_gender[1].sum()\n",
    "women = data_edu_gender[2].sum()\n",
    "doctoral = data_edu_gender.loc[9].sum()\n",
    "print(total, men, women, doctoral)"
   ]
  },
  {
   "cell_type": "markdown",
   "metadata": {
    "id": "DNpe-pqY_sAd"
   },
   "source": [
    "Now to calculate expected frequencies for men and women with doctoral degrees, we have to find what is the proportion of respondents have a doctoral degree:"
   ]
  },
  {
   "cell_type": "code",
   "execution_count": 20,
   "metadata": {
    "colab": {
     "base_uri": "https://localhost:8080/"
    },
    "id": "9nGxCijZ_FxC",
    "outputId": "473609a7-66a5-48c7-d80a-937925edc612"
   },
   "outputs": [
    {
     "name": "stdout",
     "output_type": "stream",
     "text": [
      "0.004422682040751856\n"
     ]
    }
   ],
   "source": [
    "p = doctoral / total\n",
    "print(p)"
   ]
  },
  {
   "cell_type": "markdown",
   "metadata": {
    "id": "w2ufSwLrAZ7r"
   },
   "source": [
    "Then in accordance with the null hypothesis of no relationship we would expect that the same proportions of men and women do have a doctoral degree"
   ]
  },
  {
   "cell_type": "code",
   "execution_count": 21,
   "metadata": {
    "colab": {
     "base_uri": "https://localhost:8080/"
    },
    "id": "uogW7Kxv2aPX",
    "outputId": "8eccd79c-bc56-4ba5-c32f-22f81ebe7ddb"
   },
   "outputs": [
    {
     "name": "stdout",
     "output_type": "stream",
     "text": [
      "Men, doctoral degree, expected frequency:\n",
      "18.39835728952772\n",
      "Women, doctoral degree, expected frequency:\n",
      "9.601642710472278\n"
     ]
    }
   ],
   "source": [
    "print('Men, doctoral degree, expected frequency:')\n",
    "print(men * p)\n",
    "\n",
    "print('Women, doctoral degree, expected frequency:')\n",
    "print(women * p)"
   ]
  },
  {
   "cell_type": "markdown",
   "metadata": {
    "id": "xberDqlLA2Tw"
   },
   "source": [
    "So our observed frequencies are 22 and 6 for men and women respectevely, and expected are ~18 and ~9.\n",
    "\n",
    "Let's find all the expected frequencies with `chi2_contingency` function from `scipy.stats`. It takes as an argument contigency table of expected frequencies and returns a chi-square statistic, p-value, degrees of freedom and a contigency table of expected frequencies."
   ]
  },
  {
   "cell_type": "code",
   "execution_count": 22,
   "metadata": {
    "colab": {
     "base_uri": "https://localhost:8080/"
    },
    "id": "7pZwXMpT3KWo",
    "outputId": "c23457cd-b5a5-4d67-9ee0-c0da1ff8514b"
   },
   "outputs": [
    {
     "data": {
      "text/plain": [
       "Chi2ContingencyResult(statistic=1442.5981765341737, pvalue=2.338859768704989e-307, dof=7, expected_freq=array([[ 421.84804928,  220.15195072],\n",
       "       [ 944.22997947,  492.77002053],\n",
       "       [ 567.06365503,  295.93634497],\n",
       "       [1133.47022587,  591.52977413],\n",
       "       [ 310.80082136,  162.19917864],\n",
       "       [ 654.45585216,  341.54414784],\n",
       "       [ 109.73305955,   57.26694045],\n",
       "       [  18.39835729,    9.60164271]]))"
      ]
     },
     "execution_count": 22,
     "metadata": {},
     "output_type": "execute_result"
    }
   ],
   "source": [
    "stats.chi2_contingency(data_edu_gender)"
   ]
  },
  {
   "cell_type": "markdown",
   "metadata": {
    "id": "pfdeaFzwBkV2"
   },
   "source": [
    "Check the last row! Did we calculate it correctly?\n",
    "\n",
    "We always can derive a chi-square from the function's output and make a conclusion."
   ]
  },
  {
   "cell_type": "code",
   "execution_count": 23,
   "metadata": {
    "colab": {
     "base_uri": "https://localhost:8080/"
    },
    "id": "qVsZfC5MBQrR",
    "outputId": "50495f99-01a7-425d-d6c9-ec91bf97e7bd"
   },
   "outputs": [
    {
     "name": "stdout",
     "output_type": "stream",
     "text": [
      "Chi-Square: 1442.5981765341737\n",
      "Null hypothesis is rejected\n"
     ]
    }
   ],
   "source": [
    "chi_square = stats.chi2_contingency(data_edu_gender)[0]\n",
    "print('Chi-Square:', chi_square)\n",
    "check_hypothesis(chi_square)"
   ]
  },
  {
   "cell_type": "markdown",
   "metadata": {
    "id": "TfF6wzH0mypn"
   },
   "source": [
    "## Practice\n",
    "\n",
    "**NB!** Algoritm for successful practice solution is as follows:\n",
    "\n",
    "1. Define types of the variables you've encountered (categorical, numeric);\n",
    "2. Formulate the Null and Alternative Hypotheses ($H_0$ and $H_a$);\n",
    "3. Choose statistic;\n",
    "4. Choose critical value of statistic;\n",
    "5. Compute observed value of statistic;\n",
    "6. Make both statistical and substantial conclusions.\n",
    "\n",
    "**Task 1.** Is there any relation between relegiousness and gender? Do not use `scipy.stats` module."
   ]
  },
  {
   "cell_type": "code",
   "execution_count": 25,
   "metadata": {},
   "outputs": [
    {
     "data": {
      "text/plain": [
       "-0.13817245945721415"
      ]
     },
     "execution_count": 25,
     "metadata": {},
     "output_type": "execute_result"
    }
   ],
   "source": [
    "df['religion']. corr(df['gender'])# your code here"
   ]
  },
  {
   "cell_type": "markdown",
   "metadata": {},
   "source": [
    "There is no relationship between gender and religion"
   ]
  },
  {
   "cell_type": "markdown",
   "metadata": {},
   "source": [
    "**Task 2**. Do you remember case with t-test from the beginning of seminar? Find out whether it is correct to round 3441 to 3450. Do not use `scipy.stats` module."
   ]
  },
  {
   "cell_type": "code",
   "execution_count": 26,
   "metadata": {},
   "outputs": [
    {
     "data": {
      "text/plain": [
       "-0.6477571815351186"
      ]
     },
     "execution_count": 26,
     "metadata": {},
     "output_type": "execute_result"
    }
   ],
   "source": [
    "income_average = df['income'].mean()# your code here\n",
    "theoretic_mean = 3450\n",
    "difference = income_average - theoretic_mean\n",
    "SEM = df['income'].std() / (df['income']. size ** (1 / 2))\n",
    "statistic = difference / SEM\n",
    "statistic"
   ]
  },
  {
   "cell_type": "markdown",
   "metadata": {},
   "source": [
    "Based on the t-test table, we will find the p-value. It is more than 30%. This means that we reject the hypothesis"
   ]
  },
  {
   "cell_type": "markdown",
   "metadata": {},
   "source": [
    "**Task 3**. Remind previous task. Сonstruct a 99% confidence interval (alpha value equal to 0.01) of the income mean 3441. You should use `norm.interval` method from `stats` module for this task."
   ]
  },
  {
   "cell_type": "code",
   "execution_count": 38,
   "metadata": {},
   "outputs": [
    {
     "data": {
      "text/plain": [
       "(3440.8282256860043, 3441.1717743139957)"
      ]
     },
     "execution_count": 38,
     "metadata": {},
     "output_type": "execute_result"
    }
   ],
   "source": [
    "statistic_distrib = stats.norm.interval(0.01, 3441, SEM)\n",
    "statistic_distrib"
   ]
  },
  {
   "cell_type": "markdown",
   "metadata": {},
   "source": [
    "**Task 4**. Is education level distribution different across regions? You should use `scipy.stats` module for this task."
   ]
  },
  {
   "cell_type": "code",
   "execution_count": 44,
   "metadata": {},
   "outputs": [
    {
     "data": {
      "text/plain": [
       "42"
      ]
     },
     "metadata": {},
     "output_type": "display_data"
    },
    {
     "name": "stdout",
     "output_type": "stream",
     "text": [
      "Chi-Square: 257.90376514653656\n",
      "Null hypothesis is rejected\n"
     ]
    }
   ],
   "source": [
    "data_edu_region = df[df['year'] == 2018].groupby('education_level')['region'].value_counts().unstack()\n",
    "ddof = (data_edu_region.shape[1] - 1) * (data_edu_region.shape[0] - 1) \n",
    "display(ddof) #x**2 == 55.758\n",
    "def check_hypothesis_1(chi_square):\n",
    "    if chi_square < 55.758:\n",
    "        print('Null hypothesis is not rejected')\n",
    "    else:\n",
    "        print('Null hypothesis is rejected')\n",
    "stats.chi2_contingency(data_edu_region)\n",
    "chi_square = stats.chi2_contingency(data_edu_region)[0]\n",
    "print('Chi-Square:', chi_square)\n",
    "check_hypothesis_1(chi_square)"
   ]
  },
  {
   "cell_type": "markdown",
   "metadata": {},
   "source": [
    "The result of the program tells us that the null hypothesis is rejected."
   ]
  },
  {
   "cell_type": "markdown",
   "metadata": {},
   "source": [
    "**Task 5**. Test the hypothesis that the income means of Korean citizens who have religion (coded as 1) and do not have religion (coded as 2) are equal using [ttest_ind](https://docs.scipy.org/doc/scipy/reference/generated/scipy.stats.ttest_ind.html) function."
   ]
  },
  {
   "cell_type": "code",
   "execution_count": 57,
   "metadata": {},
   "outputs": [
    {
     "data": {
      "text/plain": [
       "TtestResult(statistic=-0.00157459943034313, pvalue=0.9987436552943652, df=93753.77318242136)"
      ]
     },
     "execution_count": 57,
     "metadata": {},
     "output_type": "execute_result"
    }
   ],
   "source": [
    "a = df.query('religion == 1')\n",
    "in_m1 = a['income']\n",
    "b = df.query('religion != 2')\n",
    "in_m2 = b['income']\n",
    "stats.ttest_ind(in_m1, in_m2)"
   ]
  },
  {
   "cell_type": "markdown",
   "metadata": {},
   "source": [
    "p-value ~99.8%. the value is greater than alpha, which means we reject the null hypothesis"
   ]
  }
 ],
 "metadata": {
  "colab": {
   "provenance": []
  },
  "kernelspec": {
   "display_name": "Python 3 (ipykernel)",
   "language": "python",
   "name": "python3"
  },
  "language_info": {
   "codemirror_mode": {
    "name": "ipython",
    "version": 3
   },
   "file_extension": ".py",
   "mimetype": "text/x-python",
   "name": "python",
   "nbconvert_exporter": "python",
   "pygments_lexer": "ipython3",
   "version": "3.9.13"
  }
 },
 "nbformat": 4,
 "nbformat_minor": 4
}
