{
 "cells": [
  {
   "cell_type": "code",
   "execution_count": 1,
   "id": "ae6189a5-fe3d-4ca8-95ce-d9fbb3b24f01",
   "metadata": {},
   "outputs": [],
   "source": [
    "import pandas as pd"
   ]
  },
  {
   "cell_type": "code",
   "execution_count": 12,
   "id": "66dc0056-f296-41e3-9aea-52c40712b09c",
   "metadata": {},
   "outputs": [],
   "source": [
    "df = pd.read_excel(\"StarWars.xlsx\")"
   ]
  },
  {
   "cell_type": "code",
   "execution_count": 20,
   "id": "398de9e1-4c7e-43e7-8a2c-74940bfb2178",
   "metadata": {},
   "outputs": [
    {
     "data": {
      "text/html": [
       "<div>\n",
       "<style scoped>\n",
       "    .dataframe tbody tr th:only-of-type {\n",
       "        vertical-align: middle;\n",
       "    }\n",
       "\n",
       "    .dataframe tbody tr th {\n",
       "        vertical-align: top;\n",
       "    }\n",
       "\n",
       "    .dataframe thead th {\n",
       "        text-align: right;\n",
       "    }\n",
       "</style>\n",
       "<table border=\"1\" class=\"dataframe\">\n",
       "  <thead>\n",
       "    <tr style=\"text-align: right;\">\n",
       "      <th></th>\n",
       "      <th>respondentID</th>\n",
       "      <th>seen</th>\n",
       "      <th>fan</th>\n",
       "      <th>gender</th>\n",
       "      <th>age_group</th>\n",
       "      <th>income</th>\n",
       "      <th>loc</th>\n",
       "      <th>yoda</th>\n",
       "      <th>princess_leia_organa</th>\n",
       "    </tr>\n",
       "  </thead>\n",
       "  <tbody>\n",
       "    <tr>\n",
       "      <th>0</th>\n",
       "      <td>3292879998</td>\n",
       "      <td>да</td>\n",
       "      <td>да</td>\n",
       "      <td>М</td>\n",
       "      <td>18-29</td>\n",
       "      <td>NaN</td>\n",
       "      <td>Южно-Атлантический</td>\n",
       "      <td>очень нравится</td>\n",
       "      <td>очень нравится</td>\n",
       "    </tr>\n",
       "    <tr>\n",
       "      <th>1</th>\n",
       "      <td>3292879538</td>\n",
       "      <td>нет</td>\n",
       "      <td>NaN</td>\n",
       "      <td>М</td>\n",
       "      <td>18-29</td>\n",
       "      <td>0 - 24.999</td>\n",
       "      <td>Юго-Западный центральный</td>\n",
       "      <td>NaN</td>\n",
       "      <td>NaN</td>\n",
       "    </tr>\n",
       "    <tr>\n",
       "      <th>2</th>\n",
       "      <td>3292765271</td>\n",
       "      <td>да</td>\n",
       "      <td>нет</td>\n",
       "      <td>М</td>\n",
       "      <td>18-29</td>\n",
       "      <td>0 - 24.999</td>\n",
       "      <td>Северо-Западный центральный</td>\n",
       "      <td>не знаю такого персонажа</td>\n",
       "      <td>нравится</td>\n",
       "    </tr>\n",
       "    <tr>\n",
       "      <th>3</th>\n",
       "      <td>3292763116</td>\n",
       "      <td>да</td>\n",
       "      <td>да</td>\n",
       "      <td>М</td>\n",
       "      <td>18-29</td>\n",
       "      <td>100.000 - 149.999</td>\n",
       "      <td>Северо-Западный центральный</td>\n",
       "      <td>очень нравится</td>\n",
       "      <td>очень нравится</td>\n",
       "    </tr>\n",
       "    <tr>\n",
       "      <th>4</th>\n",
       "      <td>3292731220</td>\n",
       "      <td>да</td>\n",
       "      <td>да</td>\n",
       "      <td>М</td>\n",
       "      <td>18-29</td>\n",
       "      <td>100.000 - 149.999</td>\n",
       "      <td>Северо-Западный центральный</td>\n",
       "      <td>нравится</td>\n",
       "      <td>нравится</td>\n",
       "    </tr>\n",
       "    <tr>\n",
       "      <th>...</th>\n",
       "      <td>...</td>\n",
       "      <td>...</td>\n",
       "      <td>...</td>\n",
       "      <td>...</td>\n",
       "      <td>...</td>\n",
       "      <td>...</td>\n",
       "      <td>...</td>\n",
       "      <td>...</td>\n",
       "      <td>...</td>\n",
       "    </tr>\n",
       "    <tr>\n",
       "      <th>1181</th>\n",
       "      <td>3288388730</td>\n",
       "      <td>да</td>\n",
       "      <td>да</td>\n",
       "      <td>Ж</td>\n",
       "      <td>18-29</td>\n",
       "      <td>0 - 24.999</td>\n",
       "      <td>Северо-Восточный центральный</td>\n",
       "      <td>очень нравится</td>\n",
       "      <td>нравится</td>\n",
       "    </tr>\n",
       "    <tr>\n",
       "      <th>1182</th>\n",
       "      <td>3288378779</td>\n",
       "      <td>да</td>\n",
       "      <td>да</td>\n",
       "      <td>Ж</td>\n",
       "      <td>30-44</td>\n",
       "      <td>50.000 - 99.999</td>\n",
       "      <td>Горный</td>\n",
       "      <td>очень нравится</td>\n",
       "      <td>очень нравится</td>\n",
       "    </tr>\n",
       "    <tr>\n",
       "      <th>1183</th>\n",
       "      <td>3288375286</td>\n",
       "      <td>нет</td>\n",
       "      <td>NaN</td>\n",
       "      <td>Ж</td>\n",
       "      <td>30-44</td>\n",
       "      <td>50.000 - 99.999</td>\n",
       "      <td>Средне-Атлантический</td>\n",
       "      <td>NaN</td>\n",
       "      <td>NaN</td>\n",
       "    </tr>\n",
       "    <tr>\n",
       "      <th>1184</th>\n",
       "      <td>3288373068</td>\n",
       "      <td>да</td>\n",
       "      <td>да</td>\n",
       "      <td>Ж</td>\n",
       "      <td>45-60</td>\n",
       "      <td>100.000 - 149.999</td>\n",
       "      <td>Северо-Восточный центральный</td>\n",
       "      <td>очень нравится</td>\n",
       "      <td>очень нравится</td>\n",
       "    </tr>\n",
       "    <tr>\n",
       "      <th>1185</th>\n",
       "      <td>3288372923</td>\n",
       "      <td>да</td>\n",
       "      <td>нет</td>\n",
       "      <td>Ж</td>\n",
       "      <td>&gt; 60</td>\n",
       "      <td>50.000 - 99.999</td>\n",
       "      <td>Тихоокеанский</td>\n",
       "      <td>очень не нравится</td>\n",
       "      <td>очень нравится</td>\n",
       "    </tr>\n",
       "  </tbody>\n",
       "</table>\n",
       "<p>1186 rows × 9 columns</p>\n",
       "</div>"
      ],
      "text/plain": [
       "      respondentID seen  fan gender age_group             income  \\\n",
       "0       3292879998   да   да      М     18-29                NaN   \n",
       "1       3292879538  нет  NaN      М     18-29         0 - 24.999   \n",
       "2       3292765271   да  нет      М     18-29         0 - 24.999   \n",
       "3       3292763116   да   да      М     18-29  100.000 - 149.999   \n",
       "4       3292731220   да   да      М     18-29  100.000 - 149.999   \n",
       "...            ...  ...  ...    ...       ...                ...   \n",
       "1181    3288388730   да   да      Ж     18-29         0 - 24.999   \n",
       "1182    3288378779   да   да      Ж     30-44    50.000 - 99.999   \n",
       "1183    3288375286  нет  NaN      Ж     30-44    50.000 - 99.999   \n",
       "1184    3288373068   да   да      Ж     45-60  100.000 - 149.999   \n",
       "1185    3288372923   да  нет      Ж      > 60    50.000 - 99.999   \n",
       "\n",
       "                               loc                      yoda  \\\n",
       "0               Южно-Атлантический            очень нравится   \n",
       "1         Юго-Западный центральный                       NaN   \n",
       "2      Северо-Западный центральный  не знаю такого персонажа   \n",
       "3      Северо-Западный центральный            очень нравится   \n",
       "4      Северо-Западный центральный                  нравится   \n",
       "...                            ...                       ...   \n",
       "1181  Северо-Восточный центральный            очень нравится   \n",
       "1182                        Горный            очень нравится   \n",
       "1183          Средне-Атлантический                       NaN   \n",
       "1184  Северо-Восточный центральный            очень нравится   \n",
       "1185                 Тихоокеанский         очень не нравится   \n",
       "\n",
       "     princess_leia_organa  \n",
       "0          очень нравится  \n",
       "1                     NaN  \n",
       "2                нравится  \n",
       "3          очень нравится  \n",
       "4                нравится  \n",
       "...                   ...  \n",
       "1181             нравится  \n",
       "1182       очень нравится  \n",
       "1183                  NaN  \n",
       "1184       очень нравится  \n",
       "1185       очень нравится  \n",
       "\n",
       "[1186 rows x 9 columns]"
      ]
     },
     "execution_count": 20,
     "metadata": {},
     "output_type": "execute_result"
    }
   ],
   "source": [
    "df"
   ]
  },
  {
   "cell_type": "code",
   "execution_count": 25,
   "id": "6caf0195-63a3-45cc-b9dc-4c36751b59ff",
   "metadata": {},
   "outputs": [
    {
     "data": {
      "text/plain": [
       "loc\n",
       "Тихоокеанский                  8\n",
       "Средне-Атлантический           5\n",
       "Новая Англия                   3\n",
       "Северо-Западный центральный    2\n",
       "Южно-Атлантический             1\n",
       "Горный                         1\n",
       "Юго-Восточный центральный      1\n",
       "Name: count, dtype: int64"
      ]
     },
     "execution_count": 25,
     "metadata": {},
     "output_type": "execute_result"
    }
   ],
   "source": [
    "df.where((df['gender'] == 'М') & (df['fan'] == 'нет') & (df['age_group'] == '18-29'))['loc'].value_counts()"
   ]
  },
  {
   "cell_type": "code",
   "execution_count": 28,
   "id": "bb5b4e48-3dce-429a-9c31-b65d72e7fc27",
   "metadata": {},
   "outputs": [
    {
     "data": {
      "text/plain": [
       "loc\n",
       "Северо-Восточный центральный    181\n",
       "Тихоокеанский                   175\n",
       "Южно-Атлантический              170\n",
       "Средне-Атлантический            122\n",
       "Юго-Западный центральный        110\n",
       "Северо-Западный центральный      93\n",
       "Горный                           79\n",
       "Новая Англия                     75\n",
       "Юго-Восточный центральный        38\n",
       "Name: count, dtype: int64"
      ]
     },
     "execution_count": 28,
     "metadata": {},
     "output_type": "execute_result"
    }
   ],
   "source": [
    "df['loc'].value_counts()"
   ]
  },
  {
   "cell_type": "code",
   "execution_count": 32,
   "id": "3434632f-4db7-4681-9165-0c75fdf49e69",
   "metadata": {},
   "outputs": [
    {
     "data": {
      "text/plain": [
       "360"
      ]
     },
     "execution_count": 32,
     "metadata": {},
     "output_type": "execute_result"
    }
   ],
   "source": [
    "df['yoda'].isna().sum()"
   ]
  },
  {
   "cell_type": "code",
   "execution_count": 33,
   "id": "68e6c2ea-77f1-4753-8f1c-8a277244ffc5",
   "metadata": {},
   "outputs": [
    {
     "data": {
      "text/plain": [
       "array(['очень нравится', nan, 'нравится', 'не нравится',\n",
       "       'отношусь нейтрально', 'очень не нравится',\n",
       "       'не знаю такого персонажа'], dtype=object)"
      ]
     },
     "execution_count": 33,
     "metadata": {},
     "output_type": "execute_result"
    }
   ],
   "source": [
    "df['princess_leia_organa'].unique()"
   ]
  },
  {
   "cell_type": "code",
   "execution_count": 43,
   "id": "c98ec7bd-4e84-4ed6-8318-07881f44b366",
   "metadata": {},
   "outputs": [
    {
     "data": {
      "text/plain": [
       "39"
      ]
     },
     "execution_count": 43,
     "metadata": {},
     "output_type": "execute_result"
    }
   ],
   "source": [
    "df.where((df['loc'] == 'Новая Англия') & (df['princess_leia_organa'] == 'очень нравится'))['loc'].count()"
   ]
  },
  {
   "cell_type": "code",
   "execution_count": 58,
   "id": "43573215-32aa-4fb7-8635-a1d53e7dc353",
   "metadata": {},
   "outputs": [
    {
     "data": {
      "text/html": [
       "<div>\n",
       "<style scoped>\n",
       "    .dataframe tbody tr th:only-of-type {\n",
       "        vertical-align: middle;\n",
       "    }\n",
       "\n",
       "    .dataframe tbody tr th {\n",
       "        vertical-align: top;\n",
       "    }\n",
       "\n",
       "    .dataframe thead th {\n",
       "        text-align: right;\n",
       "    }\n",
       "</style>\n",
       "<table border=\"1\" class=\"dataframe\">\n",
       "  <thead>\n",
       "    <tr style=\"text-align: right;\">\n",
       "      <th></th>\n",
       "      <th>respondentID</th>\n",
       "      <th>seen</th>\n",
       "      <th>fan</th>\n",
       "      <th>gender</th>\n",
       "      <th>age_group</th>\n",
       "      <th>income</th>\n",
       "      <th>loc</th>\n",
       "      <th>yoda</th>\n",
       "      <th>princess_leia_organa</th>\n",
       "    </tr>\n",
       "  </thead>\n",
       "  <tbody>\n",
       "  </tbody>\n",
       "</table>\n",
       "</div>"
      ],
      "text/plain": [
       "Empty DataFrame\n",
       "Columns: [respondentID, seen, fan, gender, age_group, income, loc, yoda, princess_leia_organa]\n",
       "Index: []"
      ]
     },
     "execution_count": 58,
     "metadata": {},
     "output_type": "execute_result"
    }
   ],
   "source": [
    "df[df.isna().sum(axis=1) == 9] df[df.isna().sum(axis=1) == 9]"
   ]
  },
  {
   "cell_type": "code",
   "execution_count": null,
   "id": "1ae3076b-ee00-4a4f-90e5-01e3f1a7fd10",
   "metadata": {},
   "outputs": [],
   "source": []
  }
 ],
 "metadata": {
  "kernelspec": {
   "display_name": "Python 3 (ipykernel)",
   "language": "python",
   "name": "python3"
  },
  "language_info": {
   "codemirror_mode": {
    "name": "ipython",
    "version": 3
   },
   "file_extension": ".py",
   "mimetype": "text/x-python",
   "name": "python",
   "nbconvert_exporter": "python",
   "pygments_lexer": "ipython3",
   "version": "3.9.13"
  }
 },
 "nbformat": 4,
 "nbformat_minor": 5
}
