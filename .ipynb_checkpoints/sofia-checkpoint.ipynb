{
 "cells": [
  {
   "cell_type": "markdown",
   "id": "d9e8fab7-8685-499d-9627-a71ab8ce689e",
   "metadata": {},
   "source": [
    "# Stage 2"
   ]
  },
  {
   "cell_type": "markdown",
   "id": "996cfd4d-f7c2-4fa0-93c0-2604f3df3eec",
   "metadata": {},
   "source": [
    "## Step 1"
   ]
  },
  {
   "cell_type": "code",
   "execution_count": 1,
   "id": "9514759a-e2a9-40ba-b756-74a6bc93800f",
   "metadata": {},
   "outputs": [],
   "source": [
    "import pandas as pd\n",
    "import numpy as np\n",
    "import matplotlib.pyplot as plt\n",
    "from scipy import stats\n",
    "import seaborn as sns\n",
    "from sklearn.model_selection import train_test_split\n",
    "from sklearn.metrics import mean_squared_error\n",
    "from sklearn.metrics import accuracy_score\n",
    "from sklearn.linear_model import LogisticRegression\n",
    "from sklearn.linear_model import LinearRegression\n",
    "from sklearn.metrics import r2_score"
   ]
  },
  {
   "cell_type": "code",
   "execution_count": 2,
   "id": "c9ecb16b-60ea-4602-b0a8-dc26ca88f391",
   "metadata": {},
   "outputs": [],
   "source": [
    "data = pd.read_csv(\"rating_features.csv\")"
   ]
  },
  {
   "cell_type": "code",
   "execution_count": 3,
   "id": "1940c529-5aae-4654-b556-7f70b6cd92ee",
   "metadata": {},
   "outputs": [
    {
     "data": {
      "text/html": [
       "<div>\n",
       "<style scoped>\n",
       "    .dataframe tbody tr th:only-of-type {\n",
       "        vertical-align: middle;\n",
       "    }\n",
       "\n",
       "    .dataframe tbody tr th {\n",
       "        vertical-align: top;\n",
       "    }\n",
       "\n",
       "    .dataframe thead th {\n",
       "        text-align: right;\n",
       "    }\n",
       "</style>\n",
       "<table border=\"1\" class=\"dataframe\">\n",
       "  <thead>\n",
       "    <tr style=\"text-align: right;\">\n",
       "      <th></th>\n",
       "      <th>accommodates</th>\n",
       "      <th>amenities</th>\n",
       "      <th>availability_30</th>\n",
       "      <th>bathrooms</th>\n",
       "      <th>bed_type</th>\n",
       "      <th>bedrooms</th>\n",
       "      <th>beds</th>\n",
       "      <th>calculated_host_listings_count</th>\n",
       "      <th>cancellation_policy</th>\n",
       "      <th>guests_included</th>\n",
       "      <th>...</th>\n",
       "      <th>longitude(East)</th>\n",
       "      <th>maximum_nights</th>\n",
       "      <th>number_of_reviews</th>\n",
       "      <th>property_type</th>\n",
       "      <th>review_scores_checkin</th>\n",
       "      <th>review_scores_communication</th>\n",
       "      <th>review_scores_location</th>\n",
       "      <th>review_scores_rating</th>\n",
       "      <th>review_scores_value</th>\n",
       "      <th>room_type</th>\n",
       "    </tr>\n",
       "  </thead>\n",
       "  <tbody>\n",
       "    <tr>\n",
       "      <th>0</th>\n",
       "      <td>6</td>\n",
       "      <td>{\"Cable TV\",Internet,\"Wireless Internet\",\"Air ...</td>\n",
       "      <td>0</td>\n",
       "      <td>2.5</td>\n",
       "      <td>Real Bed</td>\n",
       "      <td>1.0</td>\n",
       "      <td>3.0</td>\n",
       "      <td>1</td>\n",
       "      <td>moderate</td>\n",
       "      <td>1</td>\n",
       "      <td>...</td>\n",
       "      <td>114.059600</td>\n",
       "      <td>10</td>\n",
       "      <td>1</td>\n",
       "      <td>House</td>\n",
       "      <td>10.0</td>\n",
       "      <td>10.0</td>\n",
       "      <td>10.0</td>\n",
       "      <td>100.0</td>\n",
       "      <td>10.0</td>\n",
       "      <td>Private room</td>\n",
       "    </tr>\n",
       "    <tr>\n",
       "      <th>1</th>\n",
       "      <td>2</td>\n",
       "      <td>{\"Air Conditioning\",Heating,\"Family/Kid Friend...</td>\n",
       "      <td>29</td>\n",
       "      <td>0.0</td>\n",
       "      <td>Futon</td>\n",
       "      <td>1.0</td>\n",
       "      <td>1.0</td>\n",
       "      <td>1</td>\n",
       "      <td>moderate</td>\n",
       "      <td>1</td>\n",
       "      <td>...</td>\n",
       "      <td>114.043225</td>\n",
       "      <td>7</td>\n",
       "      <td>0</td>\n",
       "      <td>Camper/RV</td>\n",
       "      <td>NaN</td>\n",
       "      <td>NaN</td>\n",
       "      <td>NaN</td>\n",
       "      <td>NaN</td>\n",
       "      <td>NaN</td>\n",
       "      <td>Private room</td>\n",
       "    </tr>\n",
       "    <tr>\n",
       "      <th>2</th>\n",
       "      <td>2</td>\n",
       "      <td>{TV,\"Cable TV\",Internet,\"Wireless Internet\",\"A...</td>\n",
       "      <td>30</td>\n",
       "      <td>1.5</td>\n",
       "      <td>Real Bed</td>\n",
       "      <td>1.0</td>\n",
       "      <td>1.0</td>\n",
       "      <td>2</td>\n",
       "      <td>flexible</td>\n",
       "      <td>1</td>\n",
       "      <td>...</td>\n",
       "      <td>114.079426</td>\n",
       "      <td>1125</td>\n",
       "      <td>0</td>\n",
       "      <td>House</td>\n",
       "      <td>NaN</td>\n",
       "      <td>NaN</td>\n",
       "      <td>NaN</td>\n",
       "      <td>NaN</td>\n",
       "      <td>NaN</td>\n",
       "      <td>Private room</td>\n",
       "    </tr>\n",
       "    <tr>\n",
       "      <th>3</th>\n",
       "      <td>2</td>\n",
       "      <td>{TV,\"Cable TV\",Internet,\"Wireless Internet\",\"A...</td>\n",
       "      <td>30</td>\n",
       "      <td>1.5</td>\n",
       "      <td>Real Bed</td>\n",
       "      <td>1.0</td>\n",
       "      <td>1.0</td>\n",
       "      <td>2</td>\n",
       "      <td>flexible</td>\n",
       "      <td>1</td>\n",
       "      <td>...</td>\n",
       "      <td>114.079035</td>\n",
       "      <td>1125</td>\n",
       "      <td>0</td>\n",
       "      <td>House</td>\n",
       "      <td>NaN</td>\n",
       "      <td>NaN</td>\n",
       "      <td>NaN</td>\n",
       "      <td>NaN</td>\n",
       "      <td>NaN</td>\n",
       "      <td>Private room</td>\n",
       "    </tr>\n",
       "    <tr>\n",
       "      <th>4</th>\n",
       "      <td>6</td>\n",
       "      <td>{TV,\"Cable TV\",Internet,\"Wireless Internet\",\"A...</td>\n",
       "      <td>27</td>\n",
       "      <td>2.0</td>\n",
       "      <td>Real Bed</td>\n",
       "      <td>3.0</td>\n",
       "      <td>3.0</td>\n",
       "      <td>2</td>\n",
       "      <td>strict</td>\n",
       "      <td>1</td>\n",
       "      <td>...</td>\n",
       "      <td>114.055590</td>\n",
       "      <td>1125</td>\n",
       "      <td>0</td>\n",
       "      <td>House</td>\n",
       "      <td>NaN</td>\n",
       "      <td>NaN</td>\n",
       "      <td>NaN</td>\n",
       "      <td>NaN</td>\n",
       "      <td>NaN</td>\n",
       "      <td>Entire home/apt</td>\n",
       "    </tr>\n",
       "  </tbody>\n",
       "</table>\n",
       "<p>5 rows × 25 columns</p>\n",
       "</div>"
      ],
      "text/plain": [
       "   accommodates                                          amenities  \\\n",
       "0             6  {\"Cable TV\",Internet,\"Wireless Internet\",\"Air ...   \n",
       "1             2  {\"Air Conditioning\",Heating,\"Family/Kid Friend...   \n",
       "2             2  {TV,\"Cable TV\",Internet,\"Wireless Internet\",\"A...   \n",
       "3             2  {TV,\"Cable TV\",Internet,\"Wireless Internet\",\"A...   \n",
       "4             6  {TV,\"Cable TV\",Internet,\"Wireless Internet\",\"A...   \n",
       "\n",
       "   availability_30  bathrooms  bed_type  bedrooms  beds  \\\n",
       "0                0        2.5  Real Bed       1.0   3.0   \n",
       "1               29        0.0     Futon       1.0   1.0   \n",
       "2               30        1.5  Real Bed       1.0   1.0   \n",
       "3               30        1.5  Real Bed       1.0   1.0   \n",
       "4               27        2.0  Real Bed       3.0   3.0   \n",
       "\n",
       "   calculated_host_listings_count cancellation_policy  guests_included  ...  \\\n",
       "0                               1            moderate                1  ...   \n",
       "1                               1            moderate                1  ...   \n",
       "2                               2            flexible                1  ...   \n",
       "3                               2            flexible                1  ...   \n",
       "4                               2              strict                1  ...   \n",
       "\n",
       "  longitude(East) maximum_nights  number_of_reviews property_type  \\\n",
       "0      114.059600             10                  1         House   \n",
       "1      114.043225              7                  0     Camper/RV   \n",
       "2      114.079426           1125                  0         House   \n",
       "3      114.079035           1125                  0         House   \n",
       "4      114.055590           1125                  0         House   \n",
       "\n",
       "   review_scores_checkin  review_scores_communication  review_scores_location  \\\n",
       "0                   10.0                         10.0                    10.0   \n",
       "1                    NaN                          NaN                     NaN   \n",
       "2                    NaN                          NaN                     NaN   \n",
       "3                    NaN                          NaN                     NaN   \n",
       "4                    NaN                          NaN                     NaN   \n",
       "\n",
       "   review_scores_rating review_scores_value        room_type  \n",
       "0                 100.0                10.0     Private room  \n",
       "1                   NaN                 NaN     Private room  \n",
       "2                   NaN                 NaN     Private room  \n",
       "3                   NaN                 NaN     Private room  \n",
       "4                   NaN                 NaN  Entire home/apt  \n",
       "\n",
       "[5 rows x 25 columns]"
      ]
     },
     "metadata": {},
     "output_type": "display_data"
    }
   ],
   "source": [
    "display(data.head())"
   ]
  },
  {
   "cell_type": "markdown",
   "id": "80403ee2-83ba-44da-8ecf-7f806800bd74",
   "metadata": {},
   "source": [
    "There are too many unnecessary columns that we will not need to process values in the database.\n",
    "We should remove them to simplify data management and optimize performance."
   ]
  },
  {
   "cell_type": "code",
   "execution_count": 4,
   "id": "e3d8406f-e5d9-413a-a068-e4c87f74c576",
   "metadata": {},
   "outputs": [],
   "source": [
    "data = data.drop(data.columns[[2, 4, 6, 7, 9, 10, 11, 12, 14, 15, 19, 20, 21, 22]], axis = 1)"
   ]
  },
  {
   "cell_type": "markdown",
   "id": "617c17d4-53bb-4858-9c6e-b55d419a4793",
   "metadata": {},
   "source": [
    "There is a database of About OYO hotels in china.\n",
    "\n",
    "Date source:(https://www.kaggle.com/datasets/ramjasmaurya/oyo-rental-price-prediction-in-china)\n",
    "\n",
    "Here we see quantitative, nominal, binary and ordinal variables.\n",
    "\n",
    "### columns:\n",
    "\n",
    "- accommodates — This column contains information about room capacity.(type:quantitative(continuous))\n",
    "- amenities — This column contains information about the facilities in the hotel room.\n",
    "- bathrooms — This column contains information about the number of bathrooms.(type:quantitative(discrete))\n",
    "- bedrooms — This column contains information about the number of bedrooms.(type:quantitative(discrete))\n",
    "- cancellation_policy — This column contains information about the of type of cancellation policy.(type:categorical(ordinal))\n",
    "- instant_bookable — This column contains information about the availability of instant booking.(type:binary))\n",
    "- maximum_nights — This column contains information about maximum number of possible nights.(type:quantitative(continuous))\n",
    "- number_of_reviews — This column contains information about the ammount of reviews.(type:quantitative(continuous))\n",
    "- property_type — This column contains information about the type of building.(type:categorical(ordinal))\n",
    "- review_scores_value — This column contains information about the overall rating.(type:quantitative(discrete))\n",
    "- room_type — This column contains information about the type of room.(type:categorical(ordinal))"
   ]
  },
  {
   "cell_type": "markdown",
   "id": "2c72cb2c-4e73-47db-9691-a74a79300223",
   "metadata": {},
   "source": [
    "## Step 2"
   ]
  },
  {
   "cell_type": "markdown",
   "id": "23d39036-e903-4154-b887-9d8265b17947",
   "metadata": {},
   "source": [
    "Let's find the total number of rows in the table to analyze the following values"
   ]
  },
  {
   "cell_type": "code",
   "execution_count": 5,
   "id": "38b2fe11-0c06-4b4d-a324-dea27319906a",
   "metadata": {},
   "outputs": [],
   "source": [
    "size = data.shape[0]"
   ]
  },
  {
   "cell_type": "code",
   "execution_count": 6,
   "id": "367741e3-1e3a-4425-8d06-a2c0402cc128",
   "metadata": {},
   "outputs": [
    {
     "data": {
      "text/plain": [
       "0.34093246486115875"
      ]
     },
     "metadata": {},
     "output_type": "display_data"
    }
   ],
   "source": [
    "data_filt_1 = data.query('accommodates < 3')\n",
    "display(data_filt_1['accommodates'].count() / size)"
   ]
  },
  {
   "cell_type": "markdown",
   "id": "b2dc9dbf-9744-4f3b-a2e0-8d8d8af1c509",
   "metadata": {},
   "source": [
    "About 34% of the data is information about small rooms for 1-2 people"
   ]
  },
  {
   "cell_type": "code",
   "execution_count": 7,
   "id": "3c61789b-ec6b-471a-a1c2-3cc33c505d44",
   "metadata": {},
   "outputs": [
    {
     "data": {
      "text/plain": [
       "0.08878985258827563"
      ]
     },
     "metadata": {},
     "output_type": "display_data"
    }
   ],
   "source": [
    "data_filt_2 = data.query('instant_bookable == \"t\" & amenities != \"{}\"')\n",
    "display(data_filt_2['instant_bookable'].count() / size)"
   ]
  },
  {
   "cell_type": "markdown",
   "id": "7e0e88b8-9085-4952-a60f-606d4992c148",
   "metadata": {},
   "source": [
    "Only 8% of the rooms can be booked on the spot and the room will come with various amenities. This is useful for those who urgently need to spend the night"
   ]
  },
  {
   "cell_type": "code",
   "execution_count": 8,
   "id": "84c9db96-90a7-4cd9-9dc1-a90f45403862",
   "metadata": {},
   "outputs": [
    {
     "data": {
      "text/plain": [
       "0.3704148097360302"
      ]
     },
     "metadata": {},
     "output_type": "display_data"
    }
   ],
   "source": [
    "data_filt_3 = data.query('cancellation_policy == \"flexible\"')\n",
    "display(data_filt_3['cancellation_policy'].count() / size)"
   ]
  },
  {
   "cell_type": "markdown",
   "id": "eb8c7da5-7e6b-4955-8a23-8aff921d7633",
   "metadata": {},
   "source": [
    "in 34% of rooms if you cancel your reservation, they will accommodate you and most likely refund your money."
   ]
  },
  {
   "cell_type": "code",
   "execution_count": 9,
   "id": "267648a3-52a5-4ac0-ac3e-6723a7e9eeec",
   "metadata": {},
   "outputs": [
    {
     "data": {
      "text/plain": [
       "0.055536510113129926"
      ]
     },
     "metadata": {},
     "output_type": "display_data"
    }
   ],
   "source": [
    "data_filt_4 = data.query('number_of_reviews >= 30 & review_scores_value == 10')\n",
    "display(data_filt_4['number_of_reviews'].count() / size)"
   ]
  },
  {
   "cell_type": "markdown",
   "id": "40bc0040-2dc2-4416-9fcd-fbb1229e0d04",
   "metadata": {},
   "source": [
    "to choose a good room based on reviews, the majority should be positive and their number should be sufficient. We can focus on this indicator for only 5% of rooms."
   ]
  },
  {
   "cell_type": "code",
   "execution_count": 10,
   "id": "f94d8c2e-ca9a-4874-bc16-65c1f3a6ae5d",
   "metadata": {},
   "outputs": [
    {
     "data": {
      "text/plain": [
       "0.23654439492629414"
      ]
     },
     "metadata": {},
     "output_type": "display_data"
    }
   ],
   "source": [
    "data_filt_5 = data.query('property_type == \"Apartment\" & room_type == \"Entire home/apt\"')\n",
    "display(data_filt_5['property_type'].count() / size)"
   ]
  },
  {
   "cell_type": "markdown",
   "id": "580fdf3b-6620-4a04-8ede-4fb400c3c8a3",
   "metadata": {},
   "source": [
    "If we need a spacious and free room, then these 23% of apartments will suit us"
   ]
  },
  {
   "cell_type": "markdown",
   "id": "a95b6069-d796-4482-90ed-deddf1f6d648",
   "metadata": {},
   "source": [
    "## Step 3"
   ]
  },
  {
   "cell_type": "code",
   "execution_count": 11,
   "id": "c208f592-ba96-4b92-8133-db48b4a72bee",
   "metadata": {},
   "outputs": [
    {
     "data": {
      "text/html": [
       "<div>\n",
       "<style scoped>\n",
       "    .dataframe tbody tr th:only-of-type {\n",
       "        vertical-align: middle;\n",
       "    }\n",
       "\n",
       "    .dataframe tbody tr th {\n",
       "        vertical-align: top;\n",
       "    }\n",
       "\n",
       "    .dataframe thead th {\n",
       "        text-align: right;\n",
       "    }\n",
       "</style>\n",
       "<table border=\"1\" class=\"dataframe\">\n",
       "  <thead>\n",
       "    <tr style=\"text-align: right;\">\n",
       "      <th></th>\n",
       "      <th>accommodates</th>\n",
       "      <th>amenities</th>\n",
       "      <th>bathrooms</th>\n",
       "      <th>bedrooms</th>\n",
       "      <th>cancellation_policy</th>\n",
       "      <th>instant_bookable</th>\n",
       "      <th>maximum_nights</th>\n",
       "      <th>number_of_reviews</th>\n",
       "      <th>property_type</th>\n",
       "      <th>review_scores_value</th>\n",
       "      <th>room_type</th>\n",
       "    </tr>\n",
       "  </thead>\n",
       "  <tbody>\n",
       "    <tr>\n",
       "      <th>2773</th>\n",
       "      <td>16</td>\n",
       "      <td>{Internet,\"Wireless Internet\",Kitchen,\"Pets li...</td>\n",
       "      <td>1.0</td>\n",
       "      <td>1.0</td>\n",
       "      <td>flexible</td>\n",
       "      <td>f</td>\n",
       "      <td>6</td>\n",
       "      <td>8</td>\n",
       "      <td>Tent</td>\n",
       "      <td>9.0</td>\n",
       "      <td>Entire home/apt</td>\n",
       "    </tr>\n",
       "  </tbody>\n",
       "</table>\n",
       "</div>"
      ],
      "text/plain": [
       "      accommodates                                          amenities  \\\n",
       "2773            16  {Internet,\"Wireless Internet\",Kitchen,\"Pets li...   \n",
       "\n",
       "      bathrooms  bedrooms cancellation_policy instant_bookable  \\\n",
       "2773        1.0       1.0            flexible                f   \n",
       "\n",
       "      maximum_nights  number_of_reviews property_type  review_scores_value  \\\n",
       "2773               6                  8          Tent                  9.0   \n",
       "\n",
       "            room_type  \n",
       "2773  Entire home/apt  "
      ]
     },
     "metadata": {},
     "output_type": "display_data"
    }
   ],
   "source": [
    "display(data.sort_values(['accommodates'], ascending = False).head(1))"
   ]
  },
  {
   "cell_type": "markdown",
   "id": "fdd6fa22-793b-4461-87be-a3909e5e9bf9",
   "metadata": {},
   "source": [
    "If you need a HUGE room for a large number of people, then this will suit you best"
   ]
  },
  {
   "cell_type": "code",
   "execution_count": 12,
   "id": "cb0b08c3-c9ab-4fc8-bfca-1729bdaa498a",
   "metadata": {},
   "outputs": [
    {
     "data": {
      "text/html": [
       "<div>\n",
       "<style scoped>\n",
       "    .dataframe tbody tr th:only-of-type {\n",
       "        vertical-align: middle;\n",
       "    }\n",
       "\n",
       "    .dataframe tbody tr th {\n",
       "        vertical-align: top;\n",
       "    }\n",
       "\n",
       "    .dataframe thead th {\n",
       "        text-align: right;\n",
       "    }\n",
       "</style>\n",
       "<table border=\"1\" class=\"dataframe\">\n",
       "  <thead>\n",
       "    <tr style=\"text-align: right;\">\n",
       "      <th></th>\n",
       "      <th>accommodates</th>\n",
       "      <th>amenities</th>\n",
       "      <th>bathrooms</th>\n",
       "      <th>bedrooms</th>\n",
       "      <th>cancellation_policy</th>\n",
       "      <th>instant_bookable</th>\n",
       "      <th>maximum_nights</th>\n",
       "      <th>number_of_reviews</th>\n",
       "      <th>property_type</th>\n",
       "      <th>review_scores_value</th>\n",
       "      <th>room_type</th>\n",
       "    </tr>\n",
       "  </thead>\n",
       "  <tbody>\n",
       "    <tr>\n",
       "      <th>5550</th>\n",
       "      <td>16</td>\n",
       "      <td>{TV,\"Cable TV\",Internet,\"Wireless Internet\",\"A...</td>\n",
       "      <td>8.0</td>\n",
       "      <td>10.0</td>\n",
       "      <td>strict</td>\n",
       "      <td>f</td>\n",
       "      <td>1125</td>\n",
       "      <td>0</td>\n",
       "      <td>House</td>\n",
       "      <td>NaN</td>\n",
       "      <td>Entire home/apt</td>\n",
       "    </tr>\n",
       "    <tr>\n",
       "      <th>1286</th>\n",
       "      <td>16</td>\n",
       "      <td>{TV,\"Cable TV\",Internet,\"Wireless Internet\",\"A...</td>\n",
       "      <td>8.0</td>\n",
       "      <td>8.0</td>\n",
       "      <td>strict</td>\n",
       "      <td>f</td>\n",
       "      <td>1125</td>\n",
       "      <td>0</td>\n",
       "      <td>House</td>\n",
       "      <td>NaN</td>\n",
       "      <td>Entire home/apt</td>\n",
       "    </tr>\n",
       "    <tr>\n",
       "      <th>1727</th>\n",
       "      <td>16</td>\n",
       "      <td>{\"Wheelchair Accessible\",\"Free Parking on Prem...</td>\n",
       "      <td>8.0</td>\n",
       "      <td>1.0</td>\n",
       "      <td>flexible</td>\n",
       "      <td>f</td>\n",
       "      <td>1125</td>\n",
       "      <td>0</td>\n",
       "      <td>Camper/RV</td>\n",
       "      <td>NaN</td>\n",
       "      <td>Shared room</td>\n",
       "    </tr>\n",
       "    <tr>\n",
       "      <th>1414</th>\n",
       "      <td>12</td>\n",
       "      <td>{TV,\"Cable TV\",Internet,\"Wireless Internet\",\"A...</td>\n",
       "      <td>7.5</td>\n",
       "      <td>6.0</td>\n",
       "      <td>strict</td>\n",
       "      <td>f</td>\n",
       "      <td>10</td>\n",
       "      <td>0</td>\n",
       "      <td>House</td>\n",
       "      <td>NaN</td>\n",
       "      <td>Entire home/apt</td>\n",
       "    </tr>\n",
       "    <tr>\n",
       "      <th>5270</th>\n",
       "      <td>12</td>\n",
       "      <td>{TV,\"Cable TV\",Internet,\"Wireless Internet\",\"A...</td>\n",
       "      <td>7.5</td>\n",
       "      <td>5.0</td>\n",
       "      <td>strict</td>\n",
       "      <td>t</td>\n",
       "      <td>14</td>\n",
       "      <td>0</td>\n",
       "      <td>House</td>\n",
       "      <td>NaN</td>\n",
       "      <td>Entire home/apt</td>\n",
       "    </tr>\n",
       "  </tbody>\n",
       "</table>\n",
       "</div>"
      ],
      "text/plain": [
       "      accommodates                                          amenities  \\\n",
       "5550            16  {TV,\"Cable TV\",Internet,\"Wireless Internet\",\"A...   \n",
       "1286            16  {TV,\"Cable TV\",Internet,\"Wireless Internet\",\"A...   \n",
       "1727            16  {\"Wheelchair Accessible\",\"Free Parking on Prem...   \n",
       "1414            12  {TV,\"Cable TV\",Internet,\"Wireless Internet\",\"A...   \n",
       "5270            12  {TV,\"Cable TV\",Internet,\"Wireless Internet\",\"A...   \n",
       "\n",
       "      bathrooms  bedrooms cancellation_policy instant_bookable  \\\n",
       "5550        8.0      10.0              strict                f   \n",
       "1286        8.0       8.0              strict                f   \n",
       "1727        8.0       1.0            flexible                f   \n",
       "1414        7.5       6.0              strict                f   \n",
       "5270        7.5       5.0              strict                t   \n",
       "\n",
       "      maximum_nights  number_of_reviews property_type  review_scores_value  \\\n",
       "5550            1125                  0         House                  NaN   \n",
       "1286            1125                  0         House                  NaN   \n",
       "1727            1125                  0     Camper/RV                  NaN   \n",
       "1414              10                  0         House                  NaN   \n",
       "5270              14                  0         House                  NaN   \n",
       "\n",
       "            room_type  \n",
       "5550  Entire home/apt  \n",
       "1286  Entire home/apt  \n",
       "1727      Shared room  \n",
       "1414  Entire home/apt  \n",
       "5270  Entire home/apt  "
      ]
     },
     "metadata": {},
     "output_type": "display_data"
    }
   ],
   "source": [
    "display(data.sort_values(['bathrooms', 'bedrooms'], ascending = False).head(5))"
   ]
  },
  {
   "cell_type": "markdown",
   "id": "4b290734-a16a-4dcd-a164-e371a85a1281",
   "metadata": {},
   "source": [
    "If you love space and freedom, then these homes with the maximum number of bedrooms and bathrooms will suit you."
   ]
  },
  {
   "cell_type": "code",
   "execution_count": 13,
   "id": "2a30b700-feff-46dd-b110-553a08b51763",
   "metadata": {},
   "outputs": [
    {
     "data": {
      "text/html": [
       "<div>\n",
       "<style scoped>\n",
       "    .dataframe tbody tr th:only-of-type {\n",
       "        vertical-align: middle;\n",
       "    }\n",
       "\n",
       "    .dataframe tbody tr th {\n",
       "        vertical-align: top;\n",
       "    }\n",
       "\n",
       "    .dataframe thead th {\n",
       "        text-align: right;\n",
       "    }\n",
       "</style>\n",
       "<table border=\"1\" class=\"dataframe\">\n",
       "  <thead>\n",
       "    <tr style=\"text-align: right;\">\n",
       "      <th></th>\n",
       "      <th>accommodates</th>\n",
       "      <th>amenities</th>\n",
       "      <th>bathrooms</th>\n",
       "      <th>bedrooms</th>\n",
       "      <th>cancellation_policy</th>\n",
       "      <th>instant_bookable</th>\n",
       "      <th>maximum_nights</th>\n",
       "      <th>number_of_reviews</th>\n",
       "      <th>property_type</th>\n",
       "      <th>review_scores_value</th>\n",
       "      <th>room_type</th>\n",
       "    </tr>\n",
       "  </thead>\n",
       "  <tbody>\n",
       "    <tr>\n",
       "      <th>5151</th>\n",
       "      <td>13</td>\n",
       "      <td>{TV,\"Cable TV\",Internet,\"Wireless Internet\",\"A...</td>\n",
       "      <td>3.0</td>\n",
       "      <td>5.0</td>\n",
       "      <td>strict</td>\n",
       "      <td>f</td>\n",
       "      <td>165</td>\n",
       "      <td>2</td>\n",
       "      <td>House</td>\n",
       "      <td>2.0</td>\n",
       "      <td>Entire home/apt</td>\n",
       "    </tr>\n",
       "    <tr>\n",
       "      <th>5635</th>\n",
       "      <td>1</td>\n",
       "      <td>{TV,Internet,\"Wireless Internet\",\"Air Conditio...</td>\n",
       "      <td>1.0</td>\n",
       "      <td>1.0</td>\n",
       "      <td>strict</td>\n",
       "      <td>t</td>\n",
       "      <td>90</td>\n",
       "      <td>1</td>\n",
       "      <td>Apartment</td>\n",
       "      <td>2.0</td>\n",
       "      <td>Shared room</td>\n",
       "    </tr>\n",
       "    <tr>\n",
       "      <th>4881</th>\n",
       "      <td>3</td>\n",
       "      <td>{TV,Internet,\"Wireless Internet\",\"Air Conditio...</td>\n",
       "      <td>1.0</td>\n",
       "      <td>1.0</td>\n",
       "      <td>flexible</td>\n",
       "      <td>f</td>\n",
       "      <td>1125</td>\n",
       "      <td>1</td>\n",
       "      <td>Apartment</td>\n",
       "      <td>2.0</td>\n",
       "      <td>Entire home/apt</td>\n",
       "    </tr>\n",
       "    <tr>\n",
       "      <th>955</th>\n",
       "      <td>11</td>\n",
       "      <td>{TV,\"Cable TV\",Internet,\"Wireless Internet\",\"A...</td>\n",
       "      <td>2.5</td>\n",
       "      <td>4.0</td>\n",
       "      <td>strict</td>\n",
       "      <td>f</td>\n",
       "      <td>185</td>\n",
       "      <td>2</td>\n",
       "      <td>House</td>\n",
       "      <td>2.0</td>\n",
       "      <td>Entire home/apt</td>\n",
       "    </tr>\n",
       "    <tr>\n",
       "      <th>4856</th>\n",
       "      <td>4</td>\n",
       "      <td>{Internet,\"Wireless Internet\",\"Air Conditionin...</td>\n",
       "      <td>1.0</td>\n",
       "      <td>1.0</td>\n",
       "      <td>moderate</td>\n",
       "      <td>t</td>\n",
       "      <td>1125</td>\n",
       "      <td>1</td>\n",
       "      <td>Apartment</td>\n",
       "      <td>2.0</td>\n",
       "      <td>Entire home/apt</td>\n",
       "    </tr>\n",
       "  </tbody>\n",
       "</table>\n",
       "</div>"
      ],
      "text/plain": [
       "      accommodates                                          amenities  \\\n",
       "5151            13  {TV,\"Cable TV\",Internet,\"Wireless Internet\",\"A...   \n",
       "5635             1  {TV,Internet,\"Wireless Internet\",\"Air Conditio...   \n",
       "4881             3  {TV,Internet,\"Wireless Internet\",\"Air Conditio...   \n",
       "955             11  {TV,\"Cable TV\",Internet,\"Wireless Internet\",\"A...   \n",
       "4856             4  {Internet,\"Wireless Internet\",\"Air Conditionin...   \n",
       "\n",
       "      bathrooms  bedrooms cancellation_policy instant_bookable  \\\n",
       "5151        3.0       5.0              strict                f   \n",
       "5635        1.0       1.0              strict                t   \n",
       "4881        1.0       1.0            flexible                f   \n",
       "955         2.5       4.0              strict                f   \n",
       "4856        1.0       1.0            moderate                t   \n",
       "\n",
       "      maximum_nights  number_of_reviews property_type  review_scores_value  \\\n",
       "5151             165                  2         House                  2.0   \n",
       "5635              90                  1     Apartment                  2.0   \n",
       "4881            1125                  1     Apartment                  2.0   \n",
       "955              185                  2         House                  2.0   \n",
       "4856            1125                  1     Apartment                  2.0   \n",
       "\n",
       "            room_type  \n",
       "5151  Entire home/apt  \n",
       "5635      Shared room  \n",
       "4881  Entire home/apt  \n",
       "955   Entire home/apt  \n",
       "4856  Entire home/apt  "
      ]
     },
     "metadata": {},
     "output_type": "display_data"
    }
   ],
   "source": [
    "display(data.sort_values(['review_scores_value']).head(5))"
   ]
  },
  {
   "cell_type": "markdown",
   "id": "9b6aeb4a-1e99-4f55-beb4-3be9edaff36e",
   "metadata": {},
   "source": [
    "When choosing a hotel room, it would be a good idea to focus on the experiences of other people. It is better not to consider the rooms presented above with the lowest ratings"
   ]
  },
  {
   "cell_type": "markdown",
   "id": "528c53ff-2c9d-483f-b0c7-9b1fd8a64235",
   "metadata": {},
   "source": [
    "## Step 4"
   ]
  },
  {
   "cell_type": "code",
   "execution_count": 14,
   "id": "43004ba7-b66d-4c22-b297-261f1e170956",
   "metadata": {},
   "outputs": [
    {
     "data": {
      "image/png": "[encoded data removed]",
      "text/plain": [
       "<Figure size 640x480 with 1 Axes>"
      ]
     },
     "metadata": {},
     "output_type": "display_data"
    }
   ],
   "source": [
    "data['cancellation_policy'].value_counts()\n",
    "a = data['cancellation_policy'].value_counts()\n",
    "a.plot(kind='bar', y='count')\n",
    "plt.show()"
   ]
  },
  {
   "cell_type": "markdown",
   "id": "390877df-c40b-40b8-b05f-55c5d930aaa4",
   "metadata": {},
   "source": [
    "The number of rooms with a strict cancellation policy is almost equal to those with a flexible policy.\n",
    "Number of rooms with moderate policy - a quarter of the total"
   ]
  },
  {
   "cell_type": "code",
   "execution_count": 15,
   "id": "7d1be447-63a1-459e-994c-ca93c841b230",
   "metadata": {},
   "outputs": [
    {
     "data": {
      "text/plain": [
       "accommodates\n",
       "2     1802\n",
       "4     1140\n",
       "6      879\n",
       "3      527\n",
       "8      387\n",
       "5      374\n",
       "10     194\n",
       "1      187\n",
       "7      138\n",
       "12      61\n",
       "9       53\n",
       "16      40\n",
       "11      19\n",
       "14      18\n",
       "15      10\n",
       "13       5\n",
       "Name: count, dtype: int64"
      ]
     },
     "execution_count": 15,
     "metadata": {},
     "output_type": "execute_result"
    }
   ],
   "source": [
    "data['accommodates'].value_counts()"
   ]
  },
  {
   "cell_type": "markdown",
   "id": "83ed66f6-9a62-4ac7-bae1-c145401b0b71",
   "metadata": {},
   "source": [
    "We see that most of the rooms are small (from 2 to 4 people). This is logical, because they are the most popular"
   ]
  },
  {
   "cell_type": "code",
   "execution_count": 16,
   "id": "f7c8ad16-5bd8-482e-8232-ac203a571f22",
   "metadata": {},
   "outputs": [
    {
     "data": {
      "text/plain": [
       "property_type\n",
       "House              3549\n",
       "Apartment          1855\n",
       "Condominium         106\n",
       "Loft                 83\n",
       "Townhouse            57\n",
       "Other                47\n",
       "Bed & Breakfast      37\n",
       "Camper/RV            34\n",
       "Bungalow             18\n",
       "Cabin                17\n",
       "Tent                 11\n",
       "Villa                 7\n",
       "Treehouse             7\n",
       "Earth House           2\n",
       "Boat                  1\n",
       "Hut                   1\n",
       "Chalet                1\n",
       "Tipi                  1\n",
       "Name: count, dtype: int64"
      ]
     },
     "metadata": {},
     "output_type": "display_data"
    },
    {
     "data": {
      "image/png": "[encoded data removed]",
      "text/plain": [
       "<Figure size 640x480 with 1 Axes>"
      ]
     },
     "metadata": {},
     "output_type": "display_data"
    }
   ],
   "source": [
    "display(data['property_type'].value_counts())\n",
    "a = data['property_type'].value_counts()\n",
    "a.plot(kind='bar', y='count')\n",
    "plt.show()"
   ]
  },
  {
   "cell_type": "markdown",
   "id": "21f59e05-fad7-43ca-905b-631dbf42417b",
   "metadata": {},
   "source": [
    "Most of the rooms are houses or apartments. The most standard places for temporary residence\n",
    "\n",
    "We see a wide variety of other types."
   ]
  },
  {
   "cell_type": "code",
   "execution_count": 17,
   "id": "730f892a-7924-4752-87c7-c7b24a4fe67c",
   "metadata": {},
   "outputs": [
    {
     "data": {
      "text/plain": [
       "room_type\n",
       "Entire home/apt    4059\n",
       "Private room       1652\n",
       "Shared room         123\n",
       "Name: count, dtype: int64"
      ]
     },
     "execution_count": 17,
     "metadata": {},
     "output_type": "execute_result"
    }
   ],
   "source": [
    "data['room_type'].value_counts()"
   ]
  },
  {
   "cell_type": "markdown",
   "id": "e14bab8e-f990-4627-bdbe-d8c1ec4a57e5",
   "metadata": {},
   "source": [
    "More than 70% are rooms that represent an entire apartment or house.\n",
    "~28% are private rooms.\n",
    "Others - Shared room.\n",
    "The reason for the unpopularity of a shared room is most likely the reluctance to live with strangers. Most people choose their own personal apartments/rooms"
   ]
  },
  {
   "cell_type": "code",
   "execution_count": 18,
   "id": "36fc7f3d-644a-47ab-923e-4ff7174354c1",
   "metadata": {},
   "outputs": [
    {
     "data": {
      "text/plain": [
       "instant_bookable\n",
       "f    5312\n",
       "t     522\n",
       "Name: count, dtype: int64"
      ]
     },
     "execution_count": 18,
     "metadata": {},
     "output_type": "execute_result"
    }
   ],
   "source": [
    "data['instant_bookable'].value_counts()"
   ]
  },
  {
   "cell_type": "markdown",
   "id": "741de7eb-a085-48b5-a67b-ffc3ba027b1a",
   "metadata": {},
   "source": [
    "more than 90 percent of rooms must be booked in advance. This will not be convenient for those who urgently need a room"
   ]
  },
  {
   "cell_type": "markdown",
   "id": "2f3a6dcb-c3a6-4967-b05e-561e7d441b70",
   "metadata": {},
   "source": [
    "## Step 5"
   ]
  },
  {
   "cell_type": "code",
   "execution_count": 19,
   "id": "8267a238-f4e7-4615-9dfa-319b7b0e683a",
   "metadata": {},
   "outputs": [
    {
     "data": {
      "text/plain": [
       "room_type\n",
       "Private room       1302\n",
       "Entire home/apt     598\n",
       "Shared room          89\n",
       "Name: count, dtype: int64"
      ]
     },
     "execution_count": 19,
     "metadata": {},
     "output_type": "execute_result"
    }
   ],
   "source": [
    "data_filt_1['room_type'].value_counts()"
   ]
  },
  {
   "cell_type": "markdown",
   "id": "af252010-f470-4c81-b29a-aeb0ac239e84",
   "metadata": {},
   "source": [
    "Rooms for less than three people are mostly private rooms.\n",
    "This is logical because you don’t need a large accommodation"
   ]
  },
  {
   "cell_type": "code",
   "execution_count": 20,
   "id": "efbb3031-7648-49af-962d-5fc0d5a48e31",
   "metadata": {},
   "outputs": [
    {
     "data": {
      "text/plain": [
       "cancellation_policy\n",
       "strict      209\n",
       "flexible    162\n",
       "moderate    147\n",
       "Name: count, dtype: int64"
      ]
     },
     "metadata": {},
     "output_type": "display_data"
    },
    {
     "data": {
      "image/png": "[encoded data removed]",
      "text/plain": [
       "<Figure size 640x480 with 1 Axes>"
      ]
     },
     "metadata": {},
     "output_type": "display_data"
    }
   ],
   "source": [
    "a = data_filt_2['cancellation_policy'].value_counts()\n",
    "display(a)\n",
    "a.plot(kind='bar', y='count')\n",
    "plt.show()\n"
   ]
  },
  {
   "cell_type": "markdown",
   "id": "83701c41-b4d2-497a-8e52-f3e7e85b6f04",
   "metadata": {},
   "source": [
    "Instant booking rooms generally have less stringent cancellation policy.\n",
    "\n",
    "The ability to instantly book a room is likely reflected in the possibility of canceling a reservation with a refund"
   ]
  },
  {
   "cell_type": "code",
   "execution_count": 21,
   "id": "0fc9ea51-dc1b-42c3-9e45-f06802ae2a17",
   "metadata": {},
   "outputs": [
    {
     "data": {
      "text/plain": [
       "property_type\n",
       "House              1112\n",
       "Apartment           879\n",
       "Condominium          48\n",
       "Townhouse            24\n",
       "Loft                 24\n",
       "Bed & Breakfast      17\n",
       "Other                15\n",
       "Bungalow             10\n",
       "Camper/RV            10\n",
       "Tent                 10\n",
       "Cabin                 5\n",
       "Treehouse             5\n",
       "Hut                   1\n",
       "Tipi                  1\n",
       "Name: count, dtype: int64"
      ]
     },
     "execution_count": 21,
     "metadata": {},
     "output_type": "execute_result"
    }
   ],
   "source": [
    "data_filt_3['property_type'].value_counts()"
   ]
  },
  {
   "cell_type": "markdown",
   "id": "5cb24120-baad-4b6c-a515-97b8c9aed506",
   "metadata": {},
   "source": [
    "The share of rooms in apartments with flexible cancellation policies has increased(Compared to data before filtering).\n",
    "It is easier to prepare an apartment than a house"
   ]
  },
  {
   "cell_type": "code",
   "execution_count": 22,
   "id": "7fd95502-c76c-415a-82e3-c164ba9fe66d",
   "metadata": {},
   "outputs": [
    {
     "data": {
      "text/plain": [
       "instant_bookable\n",
       "f    270\n",
       "t     54\n",
       "Name: count, dtype: int64"
      ]
     },
     "execution_count": 22,
     "metadata": {},
     "output_type": "execute_result"
    }
   ],
   "source": [
    "data_filt_4['instant_bookable'].value_counts()"
   ]
  },
  {
   "cell_type": "markdown",
   "id": "b576809e-a8e3-4660-9dbd-92ead3b22284",
   "metadata": {},
   "source": [
    "Rooms with a lot of good reviews.\n",
    "The percentage of rooms that can be booked instantly increased.\n",
    "\n",
    "People like rooms that you can check into without booking in advance."
   ]
  },
  {
   "cell_type": "code",
   "execution_count": 23,
   "id": "b36d80a9-acf1-4f70-aebc-8bba23112364",
   "metadata": {},
   "outputs": [
    {
     "data": {
      "text/plain": [
       "cancellation_policy\n",
       "flexible           599\n",
       "strict             461\n",
       "moderate           318\n",
       "super_strict_30      2\n",
       "Name: count, dtype: int64"
      ]
     },
     "metadata": {},
     "output_type": "display_data"
    },
    {
     "data": {
      "image/png": "[encoded data removed]",
      "text/plain": [
       "<Figure size 640x480 with 1 Axes>"
      ]
     },
     "metadata": {},
     "output_type": "display_data"
    }
   ],
   "source": [
    "a = data_filt_5['cancellation_policy'].value_counts()\n",
    "display(a)\n",
    "a.plot(kind='bar', y='count')\n",
    "plt.show()"
   ]
  },
  {
   "cell_type": "markdown",
   "id": "123d9228-f4ea-4c50-b7b7-8990d60c78c1",
   "metadata": {},
   "source": [
    "The percentage of whole apartmets rooms with flexible cancellation policie has become the leading one. These are serious transactions and failure to return funds can damage the company’s reputation"
   ]
  },
  {
   "cell_type": "markdown",
   "id": "efa6e6a0-3fa4-4337-8eba-f6f6bc29f081",
   "metadata": {},
   "source": [
    "## Step 6"
   ]
  },
  {
   "cell_type": "code",
   "execution_count": 24,
   "id": "254e167b-0159-44da-9a22-665d46c7743d",
   "metadata": {},
   "outputs": [
    {
     "data": {
      "text/plain": [
       "0    2\n",
       "Name: accommodates, dtype: int64"
      ]
     },
     "metadata": {},
     "output_type": "display_data"
    },
    {
     "data": {
      "text/plain": [
       "count    5834.000000\n",
       "mean        4.388584\n",
       "std         2.689105\n",
       "min         1.000000\n",
       "25%         2.000000\n",
       "50%         4.000000\n",
       "75%         6.000000\n",
       "max        16.000000\n",
       "Name: accommodates, dtype: float64"
      ]
     },
     "execution_count": 24,
     "metadata": {},
     "output_type": "execute_result"
    }
   ],
   "source": [
    "display(data['accommodates'].mode())\n",
    "data['accommodates'].describe()"
   ]
  },
  {
   "cell_type": "markdown",
   "id": "61fad4a2-34a3-4be9-9bec-84c72d92550e",
   "metadata": {},
   "source": [
    "The mean value is approximately equal to the median, this tells us that the values are normally distributed. \n",
    "\n",
    "Most often there are 2-bed rooms. For a correct assessment, you can take the average or median"
   ]
  },
  {
   "cell_type": "code",
   "execution_count": 25,
   "id": "dd241f87-c167-42a6-9f41-e95bd8a5d8c5",
   "metadata": {},
   "outputs": [
    {
     "data": {
      "text/html": [
       "<div>\n",
       "<style scoped>\n",
       "    .dataframe tbody tr th:only-of-type {\n",
       "        vertical-align: middle;\n",
       "    }\n",
       "\n",
       "    .dataframe tbody tr th {\n",
       "        vertical-align: top;\n",
       "    }\n",
       "\n",
       "    .dataframe thead th {\n",
       "        text-align: right;\n",
       "    }\n",
       "</style>\n",
       "<table border=\"1\" class=\"dataframe\">\n",
       "  <thead>\n",
       "    <tr style=\"text-align: right;\">\n",
       "      <th></th>\n",
       "      <th>accommodates</th>\n",
       "      <th>amenities</th>\n",
       "      <th>bathrooms</th>\n",
       "      <th>bedrooms</th>\n",
       "      <th>cancellation_policy</th>\n",
       "      <th>instant_bookable</th>\n",
       "      <th>maximum_nights</th>\n",
       "      <th>number_of_reviews</th>\n",
       "      <th>property_type</th>\n",
       "      <th>review_scores_value</th>\n",
       "      <th>room_type</th>\n",
       "      <th>capacity</th>\n",
       "    </tr>\n",
       "  </thead>\n",
       "  <tbody>\n",
       "    <tr>\n",
       "      <th>0</th>\n",
       "      <td>6</td>\n",
       "      <td>{\"Cable TV\",Internet,\"Wireless Internet\",\"Air ...</td>\n",
       "      <td>2.5</td>\n",
       "      <td>1.0</td>\n",
       "      <td>moderate</td>\n",
       "      <td>f</td>\n",
       "      <td>10</td>\n",
       "      <td>1</td>\n",
       "      <td>House</td>\n",
       "      <td>10.0</td>\n",
       "      <td>Private room</td>\n",
       "      <td>high capacity</td>\n",
       "    </tr>\n",
       "    <tr>\n",
       "      <th>1</th>\n",
       "      <td>2</td>\n",
       "      <td>{\"Air Conditioning\",Heating,\"Family/Kid Friend...</td>\n",
       "      <td>0.0</td>\n",
       "      <td>1.0</td>\n",
       "      <td>moderate</td>\n",
       "      <td>f</td>\n",
       "      <td>7</td>\n",
       "      <td>0</td>\n",
       "      <td>Camper/RV</td>\n",
       "      <td>NaN</td>\n",
       "      <td>Private room</td>\n",
       "      <td>low capacity</td>\n",
       "    </tr>\n",
       "    <tr>\n",
       "      <th>2</th>\n",
       "      <td>2</td>\n",
       "      <td>{TV,\"Cable TV\",Internet,\"Wireless Internet\",\"A...</td>\n",
       "      <td>1.5</td>\n",
       "      <td>1.0</td>\n",
       "      <td>flexible</td>\n",
       "      <td>f</td>\n",
       "      <td>1125</td>\n",
       "      <td>0</td>\n",
       "      <td>House</td>\n",
       "      <td>NaN</td>\n",
       "      <td>Private room</td>\n",
       "      <td>low capacity</td>\n",
       "    </tr>\n",
       "    <tr>\n",
       "      <th>3</th>\n",
       "      <td>2</td>\n",
       "      <td>{TV,\"Cable TV\",Internet,\"Wireless Internet\",\"A...</td>\n",
       "      <td>1.5</td>\n",
       "      <td>1.0</td>\n",
       "      <td>flexible</td>\n",
       "      <td>f</td>\n",
       "      <td>1125</td>\n",
       "      <td>0</td>\n",
       "      <td>House</td>\n",
       "      <td>NaN</td>\n",
       "      <td>Private room</td>\n",
       "      <td>low capacity</td>\n",
       "    </tr>\n",
       "    <tr>\n",
       "      <th>4</th>\n",
       "      <td>6</td>\n",
       "      <td>{TV,\"Cable TV\",Internet,\"Wireless Internet\",\"A...</td>\n",
       "      <td>2.0</td>\n",
       "      <td>3.0</td>\n",
       "      <td>strict</td>\n",
       "      <td>f</td>\n",
       "      <td>1125</td>\n",
       "      <td>0</td>\n",
       "      <td>House</td>\n",
       "      <td>NaN</td>\n",
       "      <td>Entire home/apt</td>\n",
       "      <td>high capacity</td>\n",
       "    </tr>\n",
       "    <tr>\n",
       "      <th>...</th>\n",
       "      <td>...</td>\n",
       "      <td>...</td>\n",
       "      <td>...</td>\n",
       "      <td>...</td>\n",
       "      <td>...</td>\n",
       "      <td>...</td>\n",
       "      <td>...</td>\n",
       "      <td>...</td>\n",
       "      <td>...</td>\n",
       "      <td>...</td>\n",
       "      <td>...</td>\n",
       "      <td>...</td>\n",
       "    </tr>\n",
       "    <tr>\n",
       "      <th>5829</th>\n",
       "      <td>4</td>\n",
       "      <td>{TV,\"Cable TV\",Internet,\"Wireless Internet\",\"A...</td>\n",
       "      <td>1.0</td>\n",
       "      <td>1.0</td>\n",
       "      <td>moderate</td>\n",
       "      <td>f</td>\n",
       "      <td>1125</td>\n",
       "      <td>13</td>\n",
       "      <td>Apartment</td>\n",
       "      <td>10.0</td>\n",
       "      <td>Entire home/apt</td>\n",
       "      <td>low capacity</td>\n",
       "    </tr>\n",
       "    <tr>\n",
       "      <th>5830</th>\n",
       "      <td>4</td>\n",
       "      <td>{TV,\"Cable TV\",Internet,\"Wireless Internet\",\"A...</td>\n",
       "      <td>1.0</td>\n",
       "      <td>1.0</td>\n",
       "      <td>strict</td>\n",
       "      <td>f</td>\n",
       "      <td>1125</td>\n",
       "      <td>9</td>\n",
       "      <td>Apartment</td>\n",
       "      <td>9.0</td>\n",
       "      <td>Entire home/apt</td>\n",
       "      <td>low capacity</td>\n",
       "    </tr>\n",
       "    <tr>\n",
       "      <th>5831</th>\n",
       "      <td>2</td>\n",
       "      <td>{TV,\"Cable TV\",Internet,\"Wireless Internet\",\"A...</td>\n",
       "      <td>1.0</td>\n",
       "      <td>1.0</td>\n",
       "      <td>moderate</td>\n",
       "      <td>f</td>\n",
       "      <td>1125</td>\n",
       "      <td>0</td>\n",
       "      <td>Condominium</td>\n",
       "      <td>NaN</td>\n",
       "      <td>Private room</td>\n",
       "      <td>low capacity</td>\n",
       "    </tr>\n",
       "    <tr>\n",
       "      <th>5832</th>\n",
       "      <td>1</td>\n",
       "      <td>{}</td>\n",
       "      <td>1.0</td>\n",
       "      <td>1.0</td>\n",
       "      <td>flexible</td>\n",
       "      <td>f</td>\n",
       "      <td>1125</td>\n",
       "      <td>0</td>\n",
       "      <td>Apartment</td>\n",
       "      <td>NaN</td>\n",
       "      <td>Shared room</td>\n",
       "      <td>low capacity</td>\n",
       "    </tr>\n",
       "    <tr>\n",
       "      <th>5833</th>\n",
       "      <td>2</td>\n",
       "      <td>{TV,\"Cable TV\",\"Wireless Internet\",\"Air Condit...</td>\n",
       "      <td>1.0</td>\n",
       "      <td>1.0</td>\n",
       "      <td>strict</td>\n",
       "      <td>f</td>\n",
       "      <td>5</td>\n",
       "      <td>0</td>\n",
       "      <td>Apartment</td>\n",
       "      <td>NaN</td>\n",
       "      <td>Entire home/apt</td>\n",
       "      <td>low capacity</td>\n",
       "    </tr>\n",
       "  </tbody>\n",
       "</table>\n",
       "<p>5834 rows × 12 columns</p>\n",
       "</div>"
      ],
      "text/plain": [
       "      accommodates                                          amenities  \\\n",
       "0                6  {\"Cable TV\",Internet,\"Wireless Internet\",\"Air ...   \n",
       "1                2  {\"Air Conditioning\",Heating,\"Family/Kid Friend...   \n",
       "2                2  {TV,\"Cable TV\",Internet,\"Wireless Internet\",\"A...   \n",
       "3                2  {TV,\"Cable TV\",Internet,\"Wireless Internet\",\"A...   \n",
       "4                6  {TV,\"Cable TV\",Internet,\"Wireless Internet\",\"A...   \n",
       "...            ...                                                ...   \n",
       "5829             4  {TV,\"Cable TV\",Internet,\"Wireless Internet\",\"A...   \n",
       "5830             4  {TV,\"Cable TV\",Internet,\"Wireless Internet\",\"A...   \n",
       "5831             2  {TV,\"Cable TV\",Internet,\"Wireless Internet\",\"A...   \n",
       "5832             1                                                 {}   \n",
       "5833             2  {TV,\"Cable TV\",\"Wireless Internet\",\"Air Condit...   \n",
       "\n",
       "      bathrooms  bedrooms cancellation_policy instant_bookable  \\\n",
       "0           2.5       1.0            moderate                f   \n",
       "1           0.0       1.0            moderate                f   \n",
       "2           1.5       1.0            flexible                f   \n",
       "3           1.5       1.0            flexible                f   \n",
       "4           2.0       3.0              strict                f   \n",
       "...         ...       ...                 ...              ...   \n",
       "5829        1.0       1.0            moderate                f   \n",
       "5830        1.0       1.0              strict                f   \n",
       "5831        1.0       1.0            moderate                f   \n",
       "5832        1.0       1.0            flexible                f   \n",
       "5833        1.0       1.0              strict                f   \n",
       "\n",
       "      maximum_nights  number_of_reviews property_type  review_scores_value  \\\n",
       "0                 10                  1         House                 10.0   \n",
       "1                  7                  0     Camper/RV                  NaN   \n",
       "2               1125                  0         House                  NaN   \n",
       "3               1125                  0         House                  NaN   \n",
       "4               1125                  0         House                  NaN   \n",
       "...              ...                ...           ...                  ...   \n",
       "5829            1125                 13     Apartment                 10.0   \n",
       "5830            1125                  9     Apartment                  9.0   \n",
       "5831            1125                  0   Condominium                  NaN   \n",
       "5832            1125                  0     Apartment                  NaN   \n",
       "5833               5                  0     Apartment                  NaN   \n",
       "\n",
       "            room_type       capacity  \n",
       "0        Private room  high capacity  \n",
       "1        Private room   low capacity  \n",
       "2        Private room   low capacity  \n",
       "3        Private room   low capacity  \n",
       "4     Entire home/apt  high capacity  \n",
       "...               ...            ...  \n",
       "5829  Entire home/apt   low capacity  \n",
       "5830  Entire home/apt   low capacity  \n",
       "5831     Private room   low capacity  \n",
       "5832      Shared room   low capacity  \n",
       "5833  Entire home/apt   low capacity  \n",
       "\n",
       "[5834 rows x 12 columns]"
      ]
     },
     "metadata": {},
     "output_type": "display_data"
    }
   ],
   "source": [
    "acc_mn = data['accommodates'].mean()\n",
    "data['capacity'] = np.where(data['accommodates'] < acc_mn, 'low capacity', 'high capacity')\n",
    "display(data)"
   ]
  },
  {
   "cell_type": "code",
   "execution_count": 26,
   "id": "a093a5a8-55b5-489b-a758-bb5809b51b94",
   "metadata": {},
   "outputs": [
    {
     "data": {
      "text/plain": [
       "0    10.0\n",
       "Name: review_scores_value, dtype: float64"
      ]
     },
     "metadata": {},
     "output_type": "display_data"
    },
    {
     "data": {
      "text/plain": [
       "count    3777.000000\n",
       "mean        9.416468\n",
       "std         0.892811\n",
       "min         2.000000\n",
       "25%         9.000000\n",
       "50%        10.000000\n",
       "75%        10.000000\n",
       "max        10.000000\n",
       "Name: review_scores_value, dtype: float64"
      ]
     },
     "execution_count": 26,
     "metadata": {},
     "output_type": "execute_result"
    }
   ],
   "source": [
    "display(data['review_scores_value'].mode())\n",
    "data['review_scores_value'].describe()"
   ]
  },
  {
   "cell_type": "markdown",
   "id": "9db75eea-170f-4c95-a647-a9c0999c71e3",
   "metadata": {},
   "source": [
    "The average value is approximately equal to the median and also equal to the most common value. They are all ~10.\n",
    "For a more correct assessment, let’s take the lower quartile for comparison"
   ]
  },
  {
   "cell_type": "code",
   "execution_count": 27,
   "id": "9fc8615c-eb71-4386-bf03-e44f36c20468",
   "metadata": {},
   "outputs": [
    {
     "data": {
      "text/html": [
       "<div>\n",
       "<style scoped>\n",
       "    .dataframe tbody tr th:only-of-type {\n",
       "        vertical-align: middle;\n",
       "    }\n",
       "\n",
       "    .dataframe tbody tr th {\n",
       "        vertical-align: top;\n",
       "    }\n",
       "\n",
       "    .dataframe thead th {\n",
       "        text-align: right;\n",
       "    }\n",
       "</style>\n",
       "<table border=\"1\" class=\"dataframe\">\n",
       "  <thead>\n",
       "    <tr style=\"text-align: right;\">\n",
       "      <th></th>\n",
       "      <th>accommodates</th>\n",
       "      <th>amenities</th>\n",
       "      <th>bathrooms</th>\n",
       "      <th>bedrooms</th>\n",
       "      <th>cancellation_policy</th>\n",
       "      <th>instant_bookable</th>\n",
       "      <th>maximum_nights</th>\n",
       "      <th>number_of_reviews</th>\n",
       "      <th>property_type</th>\n",
       "      <th>review_scores_value</th>\n",
       "      <th>room_type</th>\n",
       "      <th>capacity</th>\n",
       "      <th>rating</th>\n",
       "    </tr>\n",
       "  </thead>\n",
       "  <tbody>\n",
       "    <tr>\n",
       "      <th>0</th>\n",
       "      <td>6</td>\n",
       "      <td>{\"Cable TV\",Internet,\"Wireless Internet\",\"Air ...</td>\n",
       "      <td>2.5</td>\n",
       "      <td>1.0</td>\n",
       "      <td>moderate</td>\n",
       "      <td>f</td>\n",
       "      <td>10</td>\n",
       "      <td>1</td>\n",
       "      <td>House</td>\n",
       "      <td>10.0</td>\n",
       "      <td>Private room</td>\n",
       "      <td>high capacity</td>\n",
       "      <td>high rating</td>\n",
       "    </tr>\n",
       "    <tr>\n",
       "      <th>1</th>\n",
       "      <td>2</td>\n",
       "      <td>{\"Air Conditioning\",Heating,\"Family/Kid Friend...</td>\n",
       "      <td>0.0</td>\n",
       "      <td>1.0</td>\n",
       "      <td>moderate</td>\n",
       "      <td>f</td>\n",
       "      <td>7</td>\n",
       "      <td>0</td>\n",
       "      <td>Camper/RV</td>\n",
       "      <td>NaN</td>\n",
       "      <td>Private room</td>\n",
       "      <td>low capacity</td>\n",
       "      <td>low rating</td>\n",
       "    </tr>\n",
       "    <tr>\n",
       "      <th>2</th>\n",
       "      <td>2</td>\n",
       "      <td>{TV,\"Cable TV\",Internet,\"Wireless Internet\",\"A...</td>\n",
       "      <td>1.5</td>\n",
       "      <td>1.0</td>\n",
       "      <td>flexible</td>\n",
       "      <td>f</td>\n",
       "      <td>1125</td>\n",
       "      <td>0</td>\n",
       "      <td>House</td>\n",
       "      <td>NaN</td>\n",
       "      <td>Private room</td>\n",
       "      <td>low capacity</td>\n",
       "      <td>low rating</td>\n",
       "    </tr>\n",
       "    <tr>\n",
       "      <th>3</th>\n",
       "      <td>2</td>\n",
       "      <td>{TV,\"Cable TV\",Internet,\"Wireless Internet\",\"A...</td>\n",
       "      <td>1.5</td>\n",
       "      <td>1.0</td>\n",
       "      <td>flexible</td>\n",
       "      <td>f</td>\n",
       "      <td>1125</td>\n",
       "      <td>0</td>\n",
       "      <td>House</td>\n",
       "      <td>NaN</td>\n",
       "      <td>Private room</td>\n",
       "      <td>low capacity</td>\n",
       "      <td>low rating</td>\n",
       "    </tr>\n",
       "    <tr>\n",
       "      <th>4</th>\n",
       "      <td>6</td>\n",
       "      <td>{TV,\"Cable TV\",Internet,\"Wireless Internet\",\"A...</td>\n",
       "      <td>2.0</td>\n",
       "      <td>3.0</td>\n",
       "      <td>strict</td>\n",
       "      <td>f</td>\n",
       "      <td>1125</td>\n",
       "      <td>0</td>\n",
       "      <td>House</td>\n",
       "      <td>NaN</td>\n",
       "      <td>Entire home/apt</td>\n",
       "      <td>high capacity</td>\n",
       "      <td>low rating</td>\n",
       "    </tr>\n",
       "    <tr>\n",
       "      <th>...</th>\n",
       "      <td>...</td>\n",
       "      <td>...</td>\n",
       "      <td>...</td>\n",
       "      <td>...</td>\n",
       "      <td>...</td>\n",
       "      <td>...</td>\n",
       "      <td>...</td>\n",
       "      <td>...</td>\n",
       "      <td>...</td>\n",
       "      <td>...</td>\n",
       "      <td>...</td>\n",
       "      <td>...</td>\n",
       "      <td>...</td>\n",
       "    </tr>\n",
       "    <tr>\n",
       "      <th>5829</th>\n",
       "      <td>4</td>\n",
       "      <td>{TV,\"Cable TV\",Internet,\"Wireless Internet\",\"A...</td>\n",
       "      <td>1.0</td>\n",
       "      <td>1.0</td>\n",
       "      <td>moderate</td>\n",
       "      <td>f</td>\n",
       "      <td>1125</td>\n",
       "      <td>13</td>\n",
       "      <td>Apartment</td>\n",
       "      <td>10.0</td>\n",
       "      <td>Entire home/apt</td>\n",
       "      <td>low capacity</td>\n",
       "      <td>high rating</td>\n",
       "    </tr>\n",
       "    <tr>\n",
       "      <th>5830</th>\n",
       "      <td>4</td>\n",
       "      <td>{TV,\"Cable TV\",Internet,\"Wireless Internet\",\"A...</td>\n",
       "      <td>1.0</td>\n",
       "      <td>1.0</td>\n",
       "      <td>strict</td>\n",
       "      <td>f</td>\n",
       "      <td>1125</td>\n",
       "      <td>9</td>\n",
       "      <td>Apartment</td>\n",
       "      <td>9.0</td>\n",
       "      <td>Entire home/apt</td>\n",
       "      <td>low capacity</td>\n",
       "      <td>high rating</td>\n",
       "    </tr>\n",
       "    <tr>\n",
       "      <th>5831</th>\n",
       "      <td>2</td>\n",
       "      <td>{TV,\"Cable TV\",Internet,\"Wireless Internet\",\"A...</td>\n",
       "      <td>1.0</td>\n",
       "      <td>1.0</td>\n",
       "      <td>moderate</td>\n",
       "      <td>f</td>\n",
       "      <td>1125</td>\n",
       "      <td>0</td>\n",
       "      <td>Condominium</td>\n",
       "      <td>NaN</td>\n",
       "      <td>Private room</td>\n",
       "      <td>low capacity</td>\n",
       "      <td>low rating</td>\n",
       "    </tr>\n",
       "    <tr>\n",
       "      <th>5832</th>\n",
       "      <td>1</td>\n",
       "      <td>{}</td>\n",
       "      <td>1.0</td>\n",
       "      <td>1.0</td>\n",
       "      <td>flexible</td>\n",
       "      <td>f</td>\n",
       "      <td>1125</td>\n",
       "      <td>0</td>\n",
       "      <td>Apartment</td>\n",
       "      <td>NaN</td>\n",
       "      <td>Shared room</td>\n",
       "      <td>low capacity</td>\n",
       "      <td>low rating</td>\n",
       "    </tr>\n",
       "    <tr>\n",
       "      <th>5833</th>\n",
       "      <td>2</td>\n",
       "      <td>{TV,\"Cable TV\",\"Wireless Internet\",\"Air Condit...</td>\n",
       "      <td>1.0</td>\n",
       "      <td>1.0</td>\n",
       "      <td>strict</td>\n",
       "      <td>f</td>\n",
       "      <td>5</td>\n",
       "      <td>0</td>\n",
       "      <td>Apartment</td>\n",
       "      <td>NaN</td>\n",
       "      <td>Entire home/apt</td>\n",
       "      <td>low capacity</td>\n",
       "      <td>low rating</td>\n",
       "    </tr>\n",
       "  </tbody>\n",
       "</table>\n",
       "<p>5834 rows × 13 columns</p>\n",
       "</div>"
      ],
      "text/plain": [
       "      accommodates                                          amenities  \\\n",
       "0                6  {\"Cable TV\",Internet,\"Wireless Internet\",\"Air ...   \n",
       "1                2  {\"Air Conditioning\",Heating,\"Family/Kid Friend...   \n",
       "2                2  {TV,\"Cable TV\",Internet,\"Wireless Internet\",\"A...   \n",
       "3                2  {TV,\"Cable TV\",Internet,\"Wireless Internet\",\"A...   \n",
       "4                6  {TV,\"Cable TV\",Internet,\"Wireless Internet\",\"A...   \n",
       "...            ...                                                ...   \n",
       "5829             4  {TV,\"Cable TV\",Internet,\"Wireless Internet\",\"A...   \n",
       "5830             4  {TV,\"Cable TV\",Internet,\"Wireless Internet\",\"A...   \n",
       "5831             2  {TV,\"Cable TV\",Internet,\"Wireless Internet\",\"A...   \n",
       "5832             1                                                 {}   \n",
       "5833             2  {TV,\"Cable TV\",\"Wireless Internet\",\"Air Condit...   \n",
       "\n",
       "      bathrooms  bedrooms cancellation_policy instant_bookable  \\\n",
       "0           2.5       1.0            moderate                f   \n",
       "1           0.0       1.0            moderate                f   \n",
       "2           1.5       1.0            flexible                f   \n",
       "3           1.5       1.0            flexible                f   \n",
       "4           2.0       3.0              strict                f   \n",
       "...         ...       ...                 ...              ...   \n",
       "5829        1.0       1.0            moderate                f   \n",
       "5830        1.0       1.0              strict                f   \n",
       "5831        1.0       1.0            moderate                f   \n",
       "5832        1.0       1.0            flexible                f   \n",
       "5833        1.0       1.0              strict                f   \n",
       "\n",
       "      maximum_nights  number_of_reviews property_type  review_scores_value  \\\n",
       "0                 10                  1         House                 10.0   \n",
       "1                  7                  0     Camper/RV                  NaN   \n",
       "2               1125                  0         House                  NaN   \n",
       "3               1125                  0         House                  NaN   \n",
       "4               1125                  0         House                  NaN   \n",
       "...              ...                ...           ...                  ...   \n",
       "5829            1125                 13     Apartment                 10.0   \n",
       "5830            1125                  9     Apartment                  9.0   \n",
       "5831            1125                  0   Condominium                  NaN   \n",
       "5832            1125                  0     Apartment                  NaN   \n",
       "5833               5                  0     Apartment                  NaN   \n",
       "\n",
       "            room_type       capacity       rating  \n",
       "0        Private room  high capacity  high rating  \n",
       "1        Private room   low capacity   low rating  \n",
       "2        Private room   low capacity   low rating  \n",
       "3        Private room   low capacity   low rating  \n",
       "4     Entire home/apt  high capacity   low rating  \n",
       "...               ...            ...          ...  \n",
       "5829  Entire home/apt   low capacity  high rating  \n",
       "5830  Entire home/apt   low capacity  high rating  \n",
       "5831     Private room   low capacity   low rating  \n",
       "5832      Shared room   low capacity   low rating  \n",
       "5833  Entire home/apt   low capacity   low rating  \n",
       "\n",
       "[5834 rows x 13 columns]"
      ]
     },
     "metadata": {},
     "output_type": "display_data"
    }
   ],
   "source": [
    "data['rating'] = np.where((data['review_scores_value'] < data['review_scores_value'].quantile(0.25)) | (data['number_of_reviews'] == 0), 'low rating', 'high rating')\n",
    "display(data)"
   ]
  },
  {
   "cell_type": "markdown",
   "id": "367876e1-01da-447a-aeaf-716e66148354",
   "metadata": {},
   "source": [
    "# Stage 3"
   ]
  },
  {
   "cell_type": "markdown",
   "id": "8feffebf-be70-4515-9718-e7445a5798da",
   "metadata": {},
   "source": [
    "## Step 1"
   ]
  },
  {
   "cell_type": "code",
   "execution_count": 28,
   "id": "9129959f-5810-47f9-a18a-9ca9e9a25d2d",
   "metadata": {},
   "outputs": [
    {
     "name": "stdout",
     "output_type": "stream",
     "text": [
      "mean value: 4.388584161810079\n",
      "median value: 4.0\n",
      "mode value: 0    2\n",
      "Name: accommodates, dtype: int64\n"
     ]
    }
   ],
   "source": [
    "t = data['accommodates']\n",
    "print(f'mean value: {t.mean()}')\n",
    "print(f'median value: {t.median()}')\n",
    "print(f'mode value: {t.mode()}')"
   ]
  },
  {
   "cell_type": "markdown",
   "id": "3ff397b3-9889-4460-bc12-ce0e7deafab3",
   "metadata": {},
   "source": [
    "For accommodates it is best to use the median value. On average, rooms can accommodate 4 people. \n",
    "The median is almost equal to the mean, which means the data is normally distributed. Most often there are small rooms for 2 people"
   ]
  },
  {
   "cell_type": "code",
   "execution_count": 29,
   "id": "a72e63e3-b124-4987-8d04-122e64b0853a",
   "metadata": {},
   "outputs": [
    {
     "name": "stdout",
     "output_type": "stream",
     "text": [
      "mean value: 1.4796993780234968\n",
      "median value: 1.0\n",
      "mode value: 0    1.0\n",
      "Name: bathrooms, dtype: float64\n"
     ]
    }
   ],
   "source": [
    "t = data['bathrooms']\n",
    "print(f'mean value: {t.mean()}')\n",
    "print(f'median value: {t.median()}')\n",
    "print(f'mode value: {t.mode()}')"
   ]
  },
  {
   "cell_type": "markdown",
   "id": "7173f28b-eed6-4e8b-91e8-af6242bd2177",
   "metadata": {},
   "source": [
    "All metrics indicate that on average there is 1 bathroom per room"
   ]
  },
  {
   "cell_type": "code",
   "execution_count": 30,
   "id": "c0999405-a7ed-485d-9f14-53372eaef22a",
   "metadata": {},
   "outputs": [
    {
     "name": "stdout",
     "output_type": "stream",
     "text": [
      "mean value: 1.7390185312285518\n",
      "median value: 1.0\n",
      "mode value: 0    1.0\n",
      "Name: bedrooms, dtype: float64\n"
     ]
    }
   ],
   "source": [
    "t = data['bedrooms']\n",
    "print(f'mean value: {t.mean()}')\n",
    "print(f'median value: {t.median()}')\n",
    "print(f'mode value: {t.mode()}')"
   ]
  },
  {
   "cell_type": "markdown",
   "id": "de32e464-0385-42b9-8ea2-16cd91f8c450",
   "metadata": {},
   "source": [
    "We have already seen similar values for bathrooms. On average, each room has 1 bedroom."
   ]
  },
  {
   "cell_type": "code",
   "execution_count": 31,
   "id": "7306718b-fb2b-496f-b844-e52f86da4987",
   "metadata": {},
   "outputs": [
    {
     "name": "stdout",
     "output_type": "stream",
     "text": [
      "mean value: 746.7058621871786\n",
      "median value: 1125.0\n",
      "mode value: 0    1125\n",
      "Name: maximum_nights, dtype: int64\n"
     ]
    }
   ],
   "source": [
    "t = data['maximum_nights']\n",
    "print(f'mean value: {t.mean()}')\n",
    "print(f'median value: {t.median()}')\n",
    "print(f'mode value: {t.mode()}')"
   ]
  },
  {
   "cell_type": "markdown",
   "id": "4d0c4849-0f86-494e-8e70-602155f575d4",
   "metadata": {},
   "source": [
    "The median equals the mode shows us that on average the maximum number of nights is 1125. The mean is very different, which tells us there are outliers in the data"
   ]
  },
  {
   "cell_type": "code",
   "execution_count": 32,
   "id": "eba05be0-7513-4cc3-ba0c-623612f93013",
   "metadata": {},
   "outputs": [
    {
     "name": "stdout",
     "output_type": "stream",
     "text": [
      "mean value: 10.79636612958519\n",
      "median value: 2.0\n",
      "mode value: 0    0\n",
      "Name: number_of_reviews, dtype: int64\n"
     ]
    }
   ],
   "source": [
    "t = data['number_of_reviews']\n",
    "print(f'mean value: {t.mean()}')\n",
    "print(f'median value: {t.median()}')\n",
    "print(f'mode value: {t.mode()}')"
   ]
  },
  {
   "cell_type": "markdown",
   "id": "667eaacc-864a-47f4-a99d-09dcc1325e13",
   "metadata": {},
   "source": [
    "Most values are zero, so the average value cannot be used as a guide. The data is not distributed evenly; most of the numbers do not have reviews. We can consider the average knowledge to be median - 2"
   ]
  },
  {
   "cell_type": "markdown",
   "id": "f8b06d57-f819-4ea3-baef-8a5733c21c20",
   "metadata": {},
   "source": [
    "## Step 2"
   ]
  },
  {
   "cell_type": "code",
   "execution_count": 33,
   "id": "fd43a438-da09-46bc-b1a1-c321c6847bd3",
   "metadata": {},
   "outputs": [
    {
     "data": {
      "text/plain": [
       "<Axes: >"
      ]
     },
     "execution_count": 33,
     "metadata": {},
     "output_type": "execute_result"
    },
    {
     "data": {
      "image/png": "[encoded data removed]",
      "text/plain": [
       "<Figure size 640x480 with 1 Axes>"
      ]
     },
     "metadata": {},
     "output_type": "display_data"
    }
   ],
   "source": [
    "data.boxplot(column=['bathrooms', 'bedrooms'])"
   ]
  },
  {
   "cell_type": "markdown",
   "id": "4f5803fa-c6c9-465a-b6b9-abc778f1abfd",
   "metadata": {},
   "source": [
    "The graphs are similar. For both we see obvious outliers after 4. The median is at the level of the lower quartile. Top quartile at level 2"
   ]
  },
  {
   "cell_type": "code",
   "execution_count": 34,
   "id": "dc056b7e-bb51-4262-aa13-c482f3e35138",
   "metadata": {},
   "outputs": [
    {
     "data": {
      "image/png": "[encoded data removed]",
      "text/plain": [
       "<Figure size 640x480 with 1 Axes>"
      ]
     },
     "metadata": {},
     "output_type": "display_data"
    }
   ],
   "source": [
    "data.boxplot(column=['accommodates'])\n",
    "plt.show()"
   ]
  },
  {
   "cell_type": "markdown",
   "id": "5da176c1-abeb-4a02-8a99-b62ab30ed149",
   "metadata": {},
   "source": [
    "We see obvious outliers after 12. Median between the lower and upper quartiles. (at level 4) Data are normally distributed"
   ]
  },
  {
   "cell_type": "code",
   "execution_count": 35,
   "id": "86239289-6fb6-4dcb-ab7b-98aa97bd1560",
   "metadata": {},
   "outputs": [
    {
     "data": {
      "image/png": "[encoded data removed]",
      "text/plain": [
       "<Figure size 640x480 with 1 Axes>"
      ]
     },
     "metadata": {},
     "output_type": "display_data"
    }
   ],
   "source": [
    "data.boxplot(column=['maximum_nights'])\n",
    "plt.show()"
   ]
  },
  {
   "cell_type": "markdown",
   "id": "6e32ef63-c002-493b-9b73-8199f35b6df3",
   "metadata": {},
   "source": [
    "We see a large range of values. The median is equal to the upper quartile. Most values are 1125 (3rd quartile), more than this will be considered outliers."
   ]
  },
  {
   "cell_type": "markdown",
   "id": "62fadd17-ad29-4fbf-b31d-f71b0a4bef40",
   "metadata": {},
   "source": [
    "## Step 3"
   ]
  },
  {
   "cell_type": "markdown",
   "id": "9c92f1da-a0f0-4f3d-ae23-157f608e5109",
   "metadata": {},
   "source": [
    "Let's calculate the standard deviation for room capacity"
   ]
  },
  {
   "cell_type": "code",
   "execution_count": 36,
   "id": "0c621c18-f8f4-4594-ba50-4f9aaf245912",
   "metadata": {},
   "outputs": [
    {
     "name": "stdout",
     "output_type": "stream",
     "text": [
      "7.077458371549142 1.6997099520710157\n"
     ]
    }
   ],
   "source": [
    "mean = data['accommodates'].mean()\n",
    "var = 0\n",
    "for i in data['accommodates']:\n",
    "    var += (i - mean) * (i - mean)\n",
    "var /= len(data)\n",
    "std = var**0.5\n",
    "up_limit = mean + std\n",
    "down_limit= mean - std\n",
    "print(up_limit, down_limit)"
   ]
  },
  {
   "cell_type": "markdown",
   "id": "1d65e182-8fdf-4fe5-ac47-393cc6e8a273",
   "metadata": {},
   "source": [
    "And the interquartile range"
   ]
  },
  {
   "cell_type": "code",
   "execution_count": 37,
   "id": "62d6465f-063c-481b-a531-5a62293a90a3",
   "metadata": {},
   "outputs": [
    {
     "name": "stdout",
     "output_type": "stream",
     "text": [
      "12.0 -4.0\n"
     ]
    }
   ],
   "source": [
    "iqr = stats.iqr(data['accommodates'])\n",
    "down_limit = data['accommodates'].quantile(0.25) - 1.5*iqr\n",
    "up_limit = data['accommodates'].quantile(0.75) + 1.5*iqr\n",
    "print(up_limit, down_limit)"
   ]
  },
  {
   "cell_type": "markdown",
   "id": "5e1204b7-1c05-48c7-ac82-b2a28af24abb",
   "metadata": {},
   "source": [
    "The results differ by almost 2 times! This may tell us that the data is unevenly distributed (the standard deviation is greatly influenced by anomalies in the data)"
   ]
  },
  {
   "cell_type": "code",
   "execution_count": 38,
   "id": "2f517ade-4f0a-4418-9338-8b6d5ac2a434",
   "metadata": {},
   "outputs": [
    {
     "name": "stdout",
     "output_type": "stream",
     "text": [
      "1388.552646360543 104.85907801381416\n"
     ]
    }
   ],
   "source": [
    "mean = data['maximum_nights'].mean()\n",
    "var = 0\n",
    "for i in data['maximum_nights']:\n",
    "    var += (i - mean) * (i - mean)\n",
    "var /= len(data)\n",
    "std = var**0.5\n",
    "up_limit = mean + std\n",
    "down_limit= mean - std\n",
    "print(up_limit, down_limit)"
   ]
  },
  {
   "cell_type": "code",
   "execution_count": 39,
   "id": "2c4ce7bf-739d-4b0d-95a5-c5f84ddcda8d",
   "metadata": {},
   "outputs": [
    {
     "name": "stdout",
     "output_type": "stream",
     "text": [
      "2767.5 -1612.5\n"
     ]
    }
   ],
   "source": [
    "iqr = stats.iqr(data['maximum_nights'])\n",
    "down_limit = data['maximum_nights'].quantile(0.25) - 1.5*iqr\n",
    "up_limit = data['maximum_nights'].quantile(0.75) + 1.5*iqr\n",
    "print(up_limit, down_limit)"
   ]
  },
  {
   "cell_type": "markdown",
   "id": "16eeddaf-dc86-41e4-b5d3-83345b526ab5",
   "metadata": {},
   "source": [
    "The meanings are also very different. This also tells us that there are outliers in the data and that the distribution is uneven."
   ]
  },
  {
   "cell_type": "markdown",
   "id": "a3f1715e-0e70-44dd-b429-c1897715bc5b",
   "metadata": {},
   "source": [
    "## Step 4"
   ]
  },
  {
   "cell_type": "code",
   "execution_count": 40,
   "id": "2a1d034c-002d-4c18-8759-b0901e9e9a50",
   "metadata": {},
   "outputs": [
    {
     "data": {
      "text/plain": [
       "count    5761.000000\n",
       "mean        4.252040\n",
       "std         2.412354\n",
       "min         1.000000\n",
       "25%         2.000000\n",
       "50%         4.000000\n",
       "75%         6.000000\n",
       "max        12.000000\n",
       "Name: accommodates, dtype: float64"
      ]
     },
     "execution_count": 40,
     "metadata": {},
     "output_type": "execute_result"
    }
   ],
   "source": [
    "data = data.query('accommodates <= 12')\n",
    "data['accommodates'].describe()"
   ]
  },
  {
   "cell_type": "markdown",
   "id": "1bad4432-d09e-45d5-bc9f-31dad2621ed8",
   "metadata": {},
   "source": [
    "After removal the average value increased"
   ]
  },
  {
   "cell_type": "code",
   "execution_count": 41,
   "id": "68be9770-b5ec-4e7f-af66-8a07eec57023",
   "metadata": {},
   "outputs": [
    {
     "data": {
      "text/plain": [
       "count    5652.000000\n",
       "mean        1.421709\n",
       "std         0.641927\n",
       "min         0.000000\n",
       "25%         1.000000\n",
       "50%         1.000000\n",
       "75%         2.000000\n",
       "max         3.500000\n",
       "Name: bathrooms, dtype: float64"
      ]
     },
     "execution_count": 41,
     "metadata": {},
     "output_type": "execute_result"
    }
   ],
   "source": [
    "data = data.query('bathrooms < 4')\n",
    "data['bathrooms'].describe()"
   ]
  },
  {
   "cell_type": "markdown",
   "id": "94daba04-9703-4928-b62e-39dd182111ad",
   "metadata": {},
   "source": [
    "After removal the average value of bedrooms increased"
   ]
  },
  {
   "cell_type": "code",
   "execution_count": 42,
   "id": "aea77ffe-9995-4099-9f43-86a6415d0bd0",
   "metadata": {},
   "outputs": [
    {
     "data": {
      "text/plain": [
       "count    5326.000000\n",
       "mean        1.520090\n",
       "std         0.816422\n",
       "min         0.000000\n",
       "25%         1.000000\n",
       "50%         1.000000\n",
       "75%         2.000000\n",
       "max         3.000000\n",
       "Name: bedrooms, dtype: float64"
      ]
     },
     "execution_count": 42,
     "metadata": {},
     "output_type": "execute_result"
    }
   ],
   "source": [
    "data = data.query('bedrooms < 4')\n",
    "data['bedrooms'].describe()"
   ]
  },
  {
   "cell_type": "markdown",
   "id": "1e8855b9-54a3-4a14-8ab6-55046fed4095",
   "metadata": {},
   "source": [
    "After removal the average value of bedrooms increased"
   ]
  },
  {
   "cell_type": "code",
   "execution_count": 43,
   "id": "3db4f106-1989-4710-92d5-a6b86451b027",
   "metadata": {},
   "outputs": [
    {
     "data": {
      "text/plain": [
       "count    5318.000000\n",
       "mean      740.774915\n",
       "std       515.008597\n",
       "min         1.000000\n",
       "25%        30.000000\n",
       "50%      1125.000000\n",
       "75%      1125.000000\n",
       "max      1125.000000\n",
       "Name: maximum_nights, dtype: float64"
      ]
     },
     "execution_count": 43,
     "metadata": {},
     "output_type": "execute_result"
    }
   ],
   "source": [
    "data = data.query('maximum_nights <= 1125')\n",
    "data['maximum_nights'].describe()"
   ]
  },
  {
   "cell_type": "markdown",
   "id": "407eb72d-68ee-4051-8fc6-20cc0cceca17",
   "metadata": {},
   "source": [
    "After removal, the metrics remained virtually unchanged"
   ]
  },
  {
   "cell_type": "markdown",
   "id": "cd5817bc-c2d3-4117-9fc0-8c6257b8cc8f",
   "metadata": {},
   "source": [
    "## Step 5"
   ]
  },
  {
   "cell_type": "code",
   "execution_count": 44,
   "id": "5dab8318-ae0a-49d9-bc54-785103293998",
   "metadata": {},
   "outputs": [
    {
     "data": {
      "text/plain": [
       "accommodates              0\n",
       "amenities                 0\n",
       "bathrooms                 0\n",
       "bedrooms                  0\n",
       "cancellation_policy       0\n",
       "instant_bookable          0\n",
       "maximum_nights            0\n",
       "number_of_reviews         0\n",
       "property_type             0\n",
       "review_scores_value    1866\n",
       "room_type                 0\n",
       "capacity                  0\n",
       "rating                    0\n",
       "dtype: int64"
      ]
     },
     "execution_count": 44,
     "metadata": {},
     "output_type": "execute_result"
    }
   ],
   "source": [
    "data.isna().sum()"
   ]
  },
  {
   "cell_type": "markdown",
   "id": "999b50ba-b364-4e23-a5db-57e7606bedfa",
   "metadata": {},
   "source": [
    "There are missing values in only one column - review_scores_value. There are a lot of missing values. They cannot be removed or replaced with anything."
   ]
  },
  {
   "cell_type": "markdown",
   "id": "554f4b3d-81b9-4786-834f-f5da6cf6639b",
   "metadata": {},
   "source": [
    "## Step 6"
   ]
  },
  {
   "cell_type": "markdown",
   "id": "96f61a36-0f33-47ec-9735-244b6393a7df",
   "metadata": {},
   "source": [
    "We can build a correlation matrix only by columns: 'accommodates', 'bathrooms', 'bedrooms', 'maximum_nights','number_of_reviews'"
   ]
  },
  {
   "cell_type": "code",
   "execution_count": 45,
   "id": "bbf87113-6620-45b5-8e7f-207a178f51db",
   "metadata": {},
   "outputs": [
    {
     "data": {
      "image/png": "[encoded data removed]",
      "text/plain": [
       "<Figure size 640x480 with 2 Axes>"
      ]
     },
     "metadata": {},
     "output_type": "display_data"
    }
   ],
   "source": [
    "data_cor = data[['accommodates', 'bathrooms', 'bedrooms', 'maximum_nights','number_of_reviews']].corr()\n",
    "sns.heatmap(data_cor, annot = True)\n",
    "plt.show()"
   ]
  },
  {
   "cell_type": "markdown",
   "id": "f8aee46c-fdea-464f-af23-96808e4ad1fd",
   "metadata": {},
   "source": [
    "Using the matrix we see 3 correlated pairs. For the rest, no obvious dependence was found"
   ]
  },
  {
   "cell_type": "markdown",
   "id": "d2ef4508-24a9-4499-989d-98a974640eac",
   "metadata": {},
   "source": [
    "## Step 7"
   ]
  },
  {
   "cell_type": "markdown",
   "id": "148c5c99-0c8b-4a2a-97d0-dd8b3068b570",
   "metadata": {},
   "source": [
    "### correlation between: accommodates & bathrooms"
   ]
  },
  {
   "cell_type": "markdown",
   "id": "64bdf4a6-b325-4633-a422-e212506679c0",
   "metadata": {},
   "source": [
    "We see the average correlation between the columns (0.57). \n",
    "\n",
    "The relationship between the capacity of a hotel room and the number of bathrooms is present but not strong(strength - Moderate Correlation, linear)"
   ]
  },
  {
   "cell_type": "markdown",
   "id": "15ffad4b-74a8-4185-a368-330c14a2293e",
   "metadata": {},
   "source": [
    "### correlation between: accommodates & bedrooms"
   ]
  },
  {
   "cell_type": "markdown",
   "id": "0b808247-bbea-4f36-9893-42c8ab5b7b43",
   "metadata": {},
   "source": [
    "We see a high correlation between the columns (0.76).\n",
    "\n",
    "The relationship between the capacity of a hotel room and the number of bedrooms is strong(strength - Strong Correlation, linear)"
   ]
  },
  {
   "cell_type": "markdown",
   "id": "5385d9b4-02f1-4bf9-8f0e-b96698ad7f75",
   "metadata": {},
   "source": [
    "### correlation between: bedrooms & bathrooms"
   ]
  },
  {
   "cell_type": "markdown",
   "id": "dc4603d3-e82e-4adb-9c0f-147a9cb6c648",
   "metadata": {},
   "source": [
    "We see the average correlation between the columns (0.66).\n",
    "\n",
    "The dependence of the number of bedrooms on bathrooms is logical; in large rooms there is a large number of both and vice versa. (strength - Moderate Correlation, linear)"
   ]
  },
  {
   "cell_type": "markdown",
   "id": "5e32c1f6-af9a-4cc7-aebd-1b66573df7f7",
   "metadata": {},
   "source": [
    "\n",
    "\n",
    "There is no point in considering other pairs; the heat map shows too low coefficients for other connections"
   ]
  },
  {
   "cell_type": "markdown",
   "id": "105ee889-9ad3-48a3-9887-0b65cde88467",
   "metadata": {},
   "source": [
    "## Step 8"
   ]
  },
  {
   "cell_type": "code",
   "execution_count": 46,
   "id": "c84beecc-bff1-49e8-bcf1-d917b72c8e8d",
   "metadata": {},
   "outputs": [
    {
     "data": {
      "text/plain": [
       "0.7564490174055079"
      ]
     },
     "metadata": {},
     "output_type": "display_data"
    },
    {
     "data": {
      "text/plain": [
       "0.5739064745619129"
      ]
     },
     "metadata": {},
     "output_type": "display_data"
    },
    {
     "data": {
      "text/plain": [
       "0.6590668949748438"
      ]
     },
     "metadata": {},
     "output_type": "display_data"
    },
    {
     "data": {
      "image/png": "[encoded data removed]",
      "text/plain": [
       "<Figure size 1600x800 with 2 Axes>"
      ]
     },
     "metadata": {},
     "output_type": "display_data"
    },
    {
     "data": {
      "image/png": "[encoded data removed]",
      "text/plain": [
       "<Figure size 640x480 with 1 Axes>"
      ]
     },
     "metadata": {},
     "output_type": "display_data"
    }
   ],
   "source": [
    "fig, axs = plt.subplots(1, 2, sharey=True)\n",
    "display(data['bedrooms'].corr(data['accommodates']))\n",
    "data.plot(kind='scatter', x='bedrooms', y='accommodates', ax=axs[0], figsize = (16, 8))\n",
    "display(data['bathrooms'].corr(data['accommodates']))\n",
    "data.plot(kind='scatter', x='bathrooms', y='accommodates', ax=axs[1])\n",
    "display(data['bathrooms'].corr(data['bedrooms']))\n",
    "data.plot(kind='scatter', x='bathrooms', y='bedrooms')\n",
    "plt.show()"
   ]
  },
  {
   "cell_type": "markdown",
   "id": "b5292c20-388a-4fe8-8d35-4160afaee582",
   "metadata": {},
   "source": [
    "The correlation coefficient and graph show us a clear relationship between the number of bedrooms and room capacity. The relationship between the number of bathrooms and capacity is not so obvious, but it is present. There is also an average correlation between the number of bedrooms and bathrooms."
   ]
  },
  {
   "cell_type": "markdown",
   "id": "6f8ac8d6-97eb-4c41-a70a-b46faae07950",
   "metadata": {},
   "source": [
    "# Stage 4"
   ]
  },
  {
   "cell_type": "markdown",
   "id": "c7d67233-5b7d-4b2d-b021-187353472375",
   "metadata": {},
   "source": [
    "## Using Linear Regression"
   ]
  },
  {
   "cell_type": "markdown",
   "id": "19f06e4f-963f-4d77-aa37-b46ae9f0df82",
   "metadata": {},
   "source": [
    "First, we select the target feature and 2 experimental sets"
   ]
  },
  {
   "cell_type": "code",
   "execution_count": 47,
   "id": "22bbf958-6635-43e4-a1c2-ae069bda4be2",
   "metadata": {},
   "outputs": [],
   "source": [
    "features_all = data[['bathrooms', 'bedrooms', 'maximum_nights', 'number_of_reviews']]\n",
    "target = data['accommodates']\n",
    "features_cor = data[['bathrooms', 'bedrooms']]"
   ]
  },
  {
   "cell_type": "markdown",
   "id": "33f9cfdb-a485-41bb-8f41-c2f193a7844d",
   "metadata": {},
   "source": [
    "Next, we need to divide the samples into test and training for both experiments"
   ]
  },
  {
   "cell_type": "code",
   "execution_count": 48,
   "id": "7eaa2f20-79d4-435c-a2ae-b21f2a8edd36",
   "metadata": {},
   "outputs": [],
   "source": [
    "features_train_all, features_test_all, target_train_all, target_test_all = train_test_split(\n",
    "    features_all, target, test_size=0.20)\n",
    "\n",
    "features_train_cor, features_test_cor, target_train_cor, target_test_cor = train_test_split(\n",
    "    features_cor, target, test_size=0.20)"
   ]
  },
  {
   "cell_type": "markdown",
   "id": "501d2377-ca92-4805-8702-a57a11aa07ea",
   "metadata": {},
   "source": [
    "We use a linear regression model.\n",
    "First, we train the model on the training set and then make predictions on the test set.\n",
    "Let’s calculate metrics based on these data and compare the results of the two models."
   ]
  },
  {
   "cell_type": "code",
   "execution_count": 49,
   "id": "e7c700f6-1a99-4b77-a7bb-661f67968960",
   "metadata": {},
   "outputs": [
    {
     "name": "stdout",
     "output_type": "stream",
     "text": [
      "1.7079404695161067\n",
      "0.577993448048487\n"
     ]
    }
   ],
   "source": [
    "model = LinearRegression()\n",
    "model.fit(features_train_all, target_train_all)\n",
    "predictions_valid = model.predict(features_test_all)\n",
    "result_mse = mean_squared_error(target_test_all, predictions_valid)\n",
    "result_r2 = r2_score(target_test_all, predictions_valid)\n",
    "print(result_mse)\n",
    "print(result_r2)"
   ]
  },
  {
   "cell_type": "code",
   "execution_count": 50,
   "id": "15c4792c-3eea-43d5-b748-0ad244fcbf87",
   "metadata": {},
   "outputs": [
    {
     "name": "stdout",
     "output_type": "stream",
     "text": [
      "1.9446769786568217\n",
      "0.5491985460024913\n"
     ]
    }
   ],
   "source": [
    "model = LinearRegression()\n",
    "model.fit(features_train_cor, target_train_cor)\n",
    "predictions_valid = model.predict(features_test_cor)\n",
    "result_mse = mean_squared_error(target_test_cor, predictions_valid)\n",
    "result_r2 = r2_score(target_test_cor, predictions_valid)\n",
    "print(result_mse)\n",
    "print(result_r2)"
   ]
  },
  {
   "cell_type": "markdown",
   "id": "60a4f0da-3679-420f-b00e-1ba780700650",
   "metadata": {},
   "source": [
    "As we can see, the sample with all numerical features turned out to be better than the model with correlation features."
   ]
  },
  {
   "cell_type": "markdown",
   "id": "d3710513-3a60-47b6-b1ae-50fed3bbcb46",
   "metadata": {},
   "source": [
    "# Final Stage"
   ]
  },
  {
   "cell_type": "markdown",
   "id": "923e30d4-7d28-4912-8404-387984872f99",
   "metadata": {},
   "source": [
    "In this project work, we studied and processed data based on hotels in China in detail.\n",
    "- First, we preprocessed the data and brought it to a working state.\n",
    "- Next, we conducted an exploratory analysis and clearly saw some patterns and distribution of data.\n",
    "- In the end, we trained the model based on the test and training set and predicted accommodates. The model based on all numerical  features performed better."
   ]
  }
 ],
 "metadata": {
  "kernelspec": {
   "display_name": "Python 3 (ipykernel)",
   "language": "python",
   "name": "python3"
  },
  "language_info": {
   "codemirror_mode": {
    "name": "ipython",
    "version": 3
   },
   "file_extension": ".py",
   "mimetype": "text/x-python",
   "name": "python",
   "nbconvert_exporter": "python",
   "pygments_lexer": "ipython3",
   "version": "3.9.13"
  }
 },
 "nbformat": 4,
 "nbformat_minor": 5
}
